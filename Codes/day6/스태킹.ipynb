{
 "cells": [
  {
   "cell_type": "code",
   "execution_count": 1,
   "id": "4a7efbb4",
   "metadata": {},
   "outputs": [],
   "source": [
    "import pandas as pd\n",
    "import numpy as np\n",
    "import matplotlib.pyplot as plt\n",
    "plt.rcParams['font.family'] = 'AppleGothic'\n",
    "df = pd.read_csv('../day5/final_부동산.csv')"
   ]
  },
  {
   "cell_type": "code",
   "execution_count": 2,
   "id": "5f7538cc",
   "metadata": {},
   "outputs": [],
   "source": [
    "import warnings\n",
    "warnings.filterwarnings('ignore')"
   ]
  },
  {
   "cell_type": "code",
   "execution_count": 3,
   "id": "170047b1",
   "metadata": {},
   "outputs": [
    {
     "data": {
      "text/plain": [
       "(91824, 160)"
      ]
     },
     "execution_count": 3,
     "metadata": {},
     "output_type": "execute_result"
    }
   ],
   "source": [
    "df.shape"
   ]
  },
  {
   "cell_type": "code",
   "execution_count": 4,
   "id": "df6d1493",
   "metadata": {},
   "outputs": [],
   "source": [
    "df_부동산 = df[df['업종(대분류)'].str.contains('부동산업', na=False)]"
   ]
  },
  {
   "cell_type": "code",
   "execution_count": 5,
   "id": "20284bff",
   "metadata": {},
   "outputs": [],
   "source": [
    "df_부동산['기준년'] = df_부동산['기준년월']\n",
    "df_부동산['기준월'] = df_부동산['기준년월']"
   ]
  },
  {
   "cell_type": "code",
   "execution_count": 6,
   "id": "a7a364b7",
   "metadata": {},
   "outputs": [],
   "source": [
    "# 총자산 = 유동자산 + 비유동자산\n",
    "df_부동산['총자산'] = df_부동산['유동자산'] + df_부동산['비유동자산']\n",
    "\n",
    "# 총부채 = 유동부채 + 비유동부채\n",
    "df_부동산['총부채'] = df_부동산['유동부채'] + df_부동산['비유동부채']\n",
    "\n",
    "# 부채비율 = 총부채 / 총자산\n",
    "df_부동산['부채비율'] = df_부동산['총부채'] / (df_부동산['총자산'] + 1e-6)  # 0으로 나누는 것 방지"
   ]
  },
  {
   "cell_type": "code",
   "execution_count": 7,
   "id": "d863ce73",
   "metadata": {},
   "outputs": [],
   "source": [
    "# 자기자본 = 총자산 - 총부채\n",
    "df_부동산['자기자본'] = df_부동산['총자산'] - df_부동산['총부채']\n",
    "\n",
    "# 자기자본비율 = 자기자본 / 총자산\n",
    "df_부동산['자기자본비율'] = df_부동산['자기자본'] / (df_부동산['총자산'] + 1e-6)\n",
    "\n",
    "# 총자산회전율 = 매출액 / 총자산\n",
    "df_부동산['총자산회전율'] = df_부동산['매출액'] / (df_부동산['총자산'] + 1e-6)\n",
    "\n",
    "# 매출총이익률 = 매출총이익 / 매출액\n",
    "df_부동산['매출총이익률'] = df_부동산['매출총이익'] / (df_부동산['매출액'] + 1e-6)\n"
   ]
  },
  {
   "cell_type": "code",
   "execution_count": 8,
   "id": "adc92e16",
   "metadata": {},
   "outputs": [
    {
     "name": "stdout",
     "output_type": "stream",
     "text": [
      "기업신용공여연체과목수(일보)(3개월내유지)(연체일수30일이상)(해제포함)\n",
      "기업신용공여연체과목수(일보)(6개월내유지)(연체일수30일이상)(해제포함)\n",
      "기업신용공여연체과목수(일보)(1년내유지)(연체일수30일이상)(해제포함)\n",
      "기업신용공여연체과목수(일보)(3년내유지)(연체일수30일이상)(해제포함)\n",
      "기업신용공여30일이상연체과목수(일보)(해제포함)\n",
      "기업신용공여30일이상연체과목수(일보)(미해제)\n",
      "기업신용공여30일이상연체과목수(일보)(이자연체)(해제포함)\n",
      "기업신용공여30일이상연체과목수(일보)(이자연체)(미해제)\n",
      "기업신용공여30일이상연체기관수(일보)(해제포함)\n",
      "기업신용공여30일이상연체기관수(일보)(미해제)\n",
      "기업신용공여30일이상연체기관수(일보)(연체)(해제포함)\n",
      "기업신용공여30일이상연체기관수(일보)(이자연체)(미해제)\n",
      "기업신용공여연체기관수(일보)(3개월내유지)(연체일수30일이상)(해제포함)\n",
      "기업신용공여연체기관수(일보)(6개월내유지)(연체일수30일이상)(해제포함)\n",
      "기업신용공여연체기관수(일보)(1년내유지)(연체일수30일이상)(해제포함)\n",
      "기업신용공여연체기관수(일보)(3년내유지)(연체일수30일이상)(해제포함)\n"
     ]
    }
   ],
   "source": [
    "for col in df_부동산.columns:\n",
    "    if '30' in col:\n",
    "        print(col)"
   ]
  },
  {
   "cell_type": "code",
   "execution_count": 9,
   "id": "c49f8863",
   "metadata": {},
   "outputs": [],
   "source": [
    "# 연체 경험이 있는지 여부 (3년 이내 30일 이상 연체)\n",
    "df_부동산['연체경험여부'] = (\n",
    "    (df_부동산['기업신용공여연체기관수(일보)(3개월내유지)(연체일수30일이상)(해제포함)'] > 0)\n",
    ").astype(int)\n",
    "\n",
    "# 최근 연체 발생 후 경과일수 (음수는 없음으로 처리)\n",
    "df_부동산['연체발생_경과일수'] = df_부동산[\n",
    "    '신용도판단정보공공정보최근발생일자로부터경과일수(CIS)(해제,삭제)'\n",
    "].clip(lower=0)\n",
    "\n",
    "# 공공정보 유지건수 존재 여부\n",
    "df_부동산['공공정보_유지여부'] = (\n",
    "    df_부동산['공공정보(국세,지방세,관세체납)건수(CIS)(미해제)'] > 0\n",
    ").astype(int)\n"
   ]
  },
  {
   "cell_type": "code",
   "execution_count": 10,
   "id": "d7eef711",
   "metadata": {},
   "outputs": [],
   "source": [
    "df_부동산['총연체대출과목수'] = (\n",
    "    df_부동산['기업신용공여연체과목수(일보)(미해제)']+\n",
    "    df_부동산['기업신용공여연체과목수(일보)(3개월내유지)(해제포함)']+\n",
    "    df_부동산['기업신용공여연체과목수(일보)(6개월내유지)(해제포함)']+\n",
    "    df_부동산['기업신용공여연체과목수(일보)(1년내유지)(해제포함)']+\n",
    "    df_부동산['기업신용공여연체과목수(일보)(3년내유지)(해제포함)']\n",
    ")"
   ]
  },
  {
   "cell_type": "code",
   "execution_count": 11,
   "id": "72b43b9c",
   "metadata": {},
   "outputs": [],
   "source": [
    "df_부동산['총신규연체과목수'] = (\n",
    "    df_부동산['기업신용공여연체과목수(일보)(3개월내발생)(해제포함)']+\n",
    "    df_부동산['기업신용공여연체과목수(일보)(6개월내발생)(해제포함)']+\n",
    "    df_부동산['기업신용공여연체과목수(일보)(1년내발생)(해제포함)']+\n",
    "    df_부동산['기업신용공여연체과목수(일보)(3년내발생)(해제포함)']\n",
    ")"
   ]
  },
  {
   "cell_type": "code",
   "execution_count": 12,
   "id": "835b97d4",
   "metadata": {},
   "outputs": [],
   "source": [
    "df_부동산['총장기연체과목수'] = (\n",
    "    df_부동산['기업신용공여연체과목수(일보)(3개월내유지)(연체일수30일이상)(해제포함)']+\n",
    "    df_부동산['기업신용공여연체과목수(일보)(6개월내유지)(연체일수30일이상)(해제포함)']+\n",
    "    df_부동산['기업신용공여연체과목수(일보)(1년내유지)(연체일수30일이상)(해제포함)']+\n",
    "    df_부동산['기업신용공여연체과목수(일보)(3년내유지)(연체일수30일이상)(해제포함)']\n",
    ")"
   ]
  },
  {
   "cell_type": "code",
   "execution_count": 13,
   "id": "0538a944",
   "metadata": {},
   "outputs": [],
   "source": [
    "df_부동산['이자원금_30일초과연체과목수'] = (\n",
    "    df_부동산['기업신용공여30일이상연체과목수(일보)(이자연체)(해제포함)']+\n",
    "    df_부동산['기업신용공여30일이상연체과목수(일보)(이자연체)(미해제)']\n",
    ")"
   ]
  },
  {
   "cell_type": "code",
   "execution_count": 14,
   "id": "513f4df8",
   "metadata": {},
   "outputs": [
    {
     "name": "stdout",
     "output_type": "stream",
     "text": [
      "모형개발용Performance(향후1년내부도여부)                 1.000000\n",
      "기업신용평가등급(구간화)                               0.177003\n",
      "상장일자                                        0.135710\n",
      "기업신용공여연체최장연체일수(일보)(3개월내발생)(해제포함)            0.102611\n",
      "기업신용공여연체최장연체일수(일보)(1년내발생)(해제포함)             0.096061\n",
      "기업신용공여연체최장연체일수(일보)(6개월내발생)(해제포함)            0.093420\n",
      "기업신용공여연체기관수(일보)(1년내유지)(연체일수30일이상)(해제포함)     0.090076\n",
      "신용도판단정보공공정보최근발생일자로부터경과일수(CIS)(해제,삭제)       -0.087859\n",
      "연체발생_경과일수                                  -0.087859\n",
      "신용도판단정보공공정보최근해제일자로부터경과일수(CIS)(해제,삭제)       -0.087858\n",
      "기업신용공여연체기관수(일보)(6개월내유지)(연체일수30일이상)(해제포함)    0.085595\n",
      "연체경험여부                                      0.080287\n",
      "기업신용공여연체최장연체일수(일보)(3년내발생)(해제포함)             0.079206\n",
      "기업신용공여연체과목수(일보)(3개월내발생)(해제포함)               0.075285\n",
      "기업신용공여연체기관수(일보)(3개월내유지)(연체일수30일이상)(해제포함)    0.074791\n",
      "Name: 모형개발용Performance(향후1년내부도여부), dtype: float64\n"
     ]
    }
   ],
   "source": [
    "correlations = df_부동산.corr(numeric_only=True)['모형개발용Performance(향후1년내부도여부)']\\\n",
    "    .sort_values(key=lambda x: abs(x), ascending=False)\n",
    "\n",
    "print(correlations.head(15))\n"
   ]
  },
  {
   "cell_type": "code",
   "execution_count": 15,
   "id": "8dc83a7a",
   "metadata": {},
   "outputs": [],
   "source": [
    "rename_map = {\n",
    "    '기업신용공여연체기관수(일보)(3년내유지)(연체일수30일이상)(해제포함)': '연체기관수_3년',\n",
    "    '기업신용공여연체기관수(일보)(1년내유지)(연체일수30일이상)(해제포함)': '연체기관수_1년',\n",
    "    '기업신용공여연체기관수(일보)(6개월내유지)(연체일수30일이상)(해제포함)': '연체기관수_6개월',\n",
    "    '기업신용공여연체기관수(일보)(3개월내유지)(연체일수30일이상)(해제포함)': '연체기관수_3개월',\n",
    "    '기업신용공여연체과목수(일보)(3개월내발생)(해제포함)': '연체과목수_3개월발생',\n",
    "    '기업신용공여연체과목수(일보)(3개월내유지)(연체일수30일이상)(해제포함)': '연체과목수_3개월유지',\n",
    "    '기업신용공여30일이상연체기관수(일보)(해제포함)': '연체기관수_전체',\n",
    "    '기업신용공여연체최장연체일수(일보)(3개월내발생)(해제포함)': '최장연체일수_3개월',\n",
    "    '기업신용공여연체최장연체일수(일보)(6개월내발생)(해제포함)': '최장연체일수_6개월',\n",
    "    '기업신용공여연체최장연체일수(일보)(1년내발생)(해제포함)': '최장연체일수_1년',\n",
    "    '기업신용공여연체최장연체일수(일보)(3년내발생)(해제포함)': '최장연체일수_3년',\n",
    "    '신용도판단정보공공정보최근발생일자로부터경과일수(CIS)(해제,삭제)': '공공정보_발생경과일수',\n",
    "    '신용도판단정보공공정보최근해제일자로부터경과일수(CIS)(해제,삭제)': '공공정보_해제경과일수',\n",
    "    '연체경험여부': '연체경험',\n",
    "    '연체발생_경과일수': '연체발생_경과일수'\n",
    "}\n"
   ]
  },
  {
   "cell_type": "code",
   "execution_count": 16,
   "id": "463b9fc3",
   "metadata": {},
   "outputs": [],
   "source": [
    "df_부동산.rename(columns=rename_map, inplace=True)\n"
   ]
  },
  {
   "cell_type": "code",
   "execution_count": 17,
   "id": "2c03eff1",
   "metadata": {},
   "outputs": [
    {
     "name": "stdout",
     "output_type": "stream",
     "text": [
      "['기준년월', '가명식별자', '외감구분', '설립일자', '종업원수', '주소지시군구', '상장일자', '상장폐지일자', '유동자산', '비유동자산', '당좌자산', '재고자산', '유형자산', '재공품', '현금', '현금등가물', '상품유가증권', '현금성자산', '매출채권', '매출채권(전기)', '매출채권처분손실(당기)', '무형자산', '투자자산', '자산총계', '자산총계(전기)', '유동부채', '단기차입금', '차입금', '매입채무', '비유동부채', '부채총계', '자기자본(납입자본금)', '자본잉여금', '납입자본', '이익잉여금', '자본조정', '기타포괄손익누계액', '유보금', '자본총계', '전기자본총계', '매출액', '전기매출액', '매출원가', '매출총이익', '판매비와관리비', '법인세비용차감전 순이익', '전기법인세차감전순이익', '법인세', '계속사업이익', '중단산업손익', '금융비용', '영업손익', '전기영업이익', '영업외수익', '영업외비용', '법인세차감전순이익', '당기순이익', '당기순이익(전기)', '현금흐름', '영업활동현금흐름', '투자활동현금흐름', '재무활동현금흐름', '부채상환계수', '영업이익이자보상배율', '이자비용', '사채이자(당기)', '이자보상배율', '적립금비율', 'EBIT', 'EBITDA', '청산가치율', '청산가치', '순운전자본', '순차입금', '재무비율_총자산증가율', '재무비율_부채비율', '재무비율_자기자본비율', '재무비율_유동비율', '재무비율_차입금의존도', '재무비율_매출액증가율', '재무비율_영업이익율', '재무비율_당기순이익율', '재무비율_매출원가율', '재무비율_판관비율', '재무비율_자기자본이익률(ROE)', '재무비율_매출채권회전율', '재무비율_재고자산회전율', '재무비율_매입채무회전율', '재무비율_총자산회전율', '재무비율_총자산순이익률', '재무비율_유동자산증가율', '재무비율_유형자산증가율', '단기차입금의존도', '당좌비율', '순차입금비율', '순운전자본회전율', '총자본회전율', '자기자본순이익율', '매출총이익율', 'EBITDA마진율', '영업이익증가율', '당기순이익증가율', 'EBITDA증가율', 'OCF/매출액비용', '부채상환계수.1', '차입금/EBITDA', 'EBITDA/금융비용', '사업장소유여부', '소유건축물건수', '소유건축물실거래가합계', '사업장권리침해여부', '소유건축물권리침해여부', '기업신용공여연체과목수(일보)(미해제)', '기업신용공여연체과목수(일보)(3개월내유지)(해제포함)', '기업신용공여연체과목수(일보)(6개월내유지)(해제포함)', '기업신용공여연체과목수(일보)(1년내유지)(해제포함)', '기업신용공여연체과목수(일보)(3년내유지)(해제포함)', '연체과목수_3개월발생', '기업신용공여연체과목수(일보)(6개월내발생)(해제포함)', '기업신용공여연체과목수(일보)(1년내발생)(해제포함)', '기업신용공여연체과목수(일보)(3년내발생)(해제포함)', '연체과목수_3개월유지', '기업신용공여연체과목수(일보)(6개월내유지)(연체일수30일이상)(해제포함)', '기업신용공여연체과목수(일보)(1년내유지)(연체일수30일이상)(해제포함)', '기업신용공여연체과목수(일보)(3년내유지)(연체일수30일이상)(해제포함)', '기업신용공여30일이상연체과목수(일보)(해제포함)', '기업신용공여30일이상연체과목수(일보)(미해제)', '기업신용공여30일이상연체과목수(일보)(이자연체)(해제포함)', '기업신용공여30일이상연체과목수(일보)(이자연체)(미해제)', '기업신용공여연체기관수(일보)(미해제)', '연체기관수_전체', '기업신용공여30일이상연체기관수(일보)(미해제)', '기업신용공여30일이상연체기관수(일보)(연체)(해제포함)', '기업신용공여30일이상연체기관수(일보)(이자연체)(미해제)', '연체기관수_3개월', '연체기관수_6개월', '연체기관수_1년', '연체기관수_3년', '기업신용공여연체최장연체일수(일보)(3개월내유지)(해제포함)', '기업신용공여연체최장연체일수(일보)(6개월내유지)(해제포함)', '기업신용공여연체최장연체일수(일보)(1년내유지)(해제포함)', '기업신용공여연체최장연체일수(일보)(3년내유지)(해제포함)', '기업신용공여연체최장연체일수(일보)(5년내유지)(해제포함)', '최장연체일수_3개월', '최장연체일수_6개월', '최장연체일수_1년', '최장연체일수_3년', '기업신용공여연체최장연체일수(일보)(5년내발생)(해제포함)', '신용도판단공공정보건수(CIS)(5년내발생)(해제포함)', '신용도판단정보공공정보건수(CIS)(미해제)', '신용도판단정보공공정보건수(관련인제외)(CIS)(당월유지)(해제포함)', '공공정보(국세,지방세,관세체납)건수(CIS)(미해제)', '공공정보(국세,지방세,관세체납)건수(CIS)(5년내발생)', '공공정보(국세,지방세,관세체납,고용산재체납)건수(CIS)(미해제)', '공공정보(국세,지방세,관세체납,고용산재체납)건수(CIS)(5년내발생)', '공공정보_발생경과일수', '공공정보_해제경과일수', '기업신용평가등급(구간화)', '모형개발용Performance(향후1년내부도여부)', '업종(대분류)', '기준년', '기준월', '총자산', '총부채', '부채비율', '자기자본', '자기자본비율', '총자산회전율', '매출총이익률', '연체경험', '연체발생_경과일수', '공공정보_유지여부', '총연체대출과목수', '총신규연체과목수', '총장기연체과목수', '이자원금_30일초과연체과목수']\n"
     ]
    }
   ],
   "source": [
    "print(df_부동산.columns.tolist())\n"
   ]
  },
  {
   "cell_type": "code",
   "execution_count": 18,
   "id": "1041a558",
   "metadata": {},
   "outputs": [],
   "source": [
    "selected_features = [\n",
    "    # 상관계수 상위 피처\n",
    "    '연체기관수_3년', '연체기관수_1년', '연체기관수_6개월', '연체기관수_3개월',\n",
    "    '연체과목수_3개월발생', '연체과목수_3개월유지', '연체기관수_전체',\n",
    "    '최장연체일수_3개월', '최장연체일수_6개월', '최장연체일수_1년', '최장연체일수_3년',\n",
    "    '공공정보_발생경과일수', '공공정보_해제경과일수', '연체경험', '연체발생_경과일수',\n",
    "\n",
    "    # 재무 지표\n",
    "    '유동자산', '비유동자산', '자산총계', '유동부채', '비유동부채', '부채총계',\n",
    "    '매출액', '매출총이익', '영업손익', '당기순이익', '영업활동현금흐름',\n",
    "    '재무비율_부채비율', '재무비율_유동비율', '재무비율_자기자본비율',\n",
    "    '재무비율_영업이익율', '재무비율_당기순이익율', '재무비율_자기자본이익률(ROE)',\n",
    "    'EBITDA마진율', '영업이익증가율', '당기순이익증가율', 'EBITDA증가율',\n",
    "\n",
    "    # 기타\n",
    "    '설립일자', '상장일자', '사업장소유여부', '소유건축물건수', '소유건축물권리침해여부',\n",
    "    '기업신용평가등급(구간화)', '공공정보_유지여부'\n",
    "]\n"
   ]
  },
  {
   "cell_type": "code",
   "execution_count": 19,
   "id": "70fc168f",
   "metadata": {},
   "outputs": [
    {
     "data": {
      "text/plain": [
       "모형개발용Performance(향후1년내부도여부)\n",
       "0    0.970596\n",
       "1    0.029404\n",
       "Name: proportion, dtype: float64"
      ]
     },
     "execution_count": 19,
     "metadata": {},
     "output_type": "execute_result"
    }
   ],
   "source": [
    "df_부동산['모형개발용Performance(향후1년내부도여부)'].value_counts(normalize=True)\n"
   ]
  },
  {
   "cell_type": "code",
   "execution_count": 20,
   "id": "b148ca31",
   "metadata": {},
   "outputs": [
    {
     "data": {
      "text/plain": [
       "2700"
      ]
     },
     "execution_count": 20,
     "metadata": {},
     "output_type": "execute_result"
    }
   ],
   "source": [
    "df_부동산[df_부동산['모형개발용Performance(향후1년내부도여부)'] == 1].shape[0]\n"
   ]
  },
  {
   "cell_type": "code",
   "execution_count": 21,
   "id": "389e9ac5",
   "metadata": {},
   "outputs": [
    {
     "name": "stdout",
     "output_type": "stream",
     "text": [
      "Index(['기준년월', '가명식별자', '외감구분', '설립일자', '종업원수', '주소지시군구', '상장일자', '상장폐지일자',\n",
      "       '유동자산', '비유동자산',\n",
      "       ...\n",
      "       '자기자본비율', '총자산회전율', '매출총이익률', '연체경험', '연체발생_경과일수', '공공정보_유지여부',\n",
      "       '총연체대출과목수', '총신규연체과목수', '총장기연체과목수', '이자원금_30일초과연체과목수'],\n",
      "      dtype='object', length=176)\n"
     ]
    }
   ],
   "source": [
    "print(df_부동산.columns)  # 또는 df_부동산.columns\n"
   ]
  },
  {
   "cell_type": "code",
   "execution_count": 22,
   "id": "81e9bcee",
   "metadata": {},
   "outputs": [],
   "source": [
    "rename_map = {\n",
    "    '기업신용공여연체기관수(일보)(3년내유지)(연체일수30일이상)(해제포함)': '연체기관수_3년',\n",
    "    '기업신용공여연체기관수(일보)(1년내유지)(연체일수30일이상)(해제포함)': '연체기관수_1년',\n",
    "    '기업신용공여연체기관수(일보)(6개월내유지)(연체일수30일이상)(해제포함)': '연체기관수_6개월',\n",
    "    '기업신용공여연체기관수(일보)(3개월내유지)(연체일수30일이상)(해제포함)': '연체기관수_3개월',\n",
    "    '기업신용공여연체과목수(일보)(3개월내발생)(해제포함)': '연체과목수_3개월발생',\n",
    "    '기업신용공여연체과목수(일보)(3개월내유지)(연체일수30일이상)(해제포함)': '연체과목수_3개월유지',\n",
    "    '기업신용공여30일이상연체기관수(일보)(해제포함)': '연체기관수_전체',\n",
    "    '기업신용공여연체최장연체일수(일보)(3개월내발생)(해제포함)': '최장연체일수_3개월',\n",
    "    '기업신용공여연체최장연체일수(일보)(6개월내발생)(해제포함)': '최장연체일수_6개월',\n",
    "    '기업신용공여연체최장연체일수(일보)(1년내발생)(해제포함)': '최장연체일수_1년',\n",
    "    '기업신용공여연체최장연체일수(일보)(3년내발생)(해제포함)': '최장연체일수_3년',\n",
    "    '신용도판단정보공공정보최근발생일자로부터경과일수(CIS)(해제,삭제)': '공공정보_발생경과일수',\n",
    "    '신용도판단정보공공정보최근해제일자로부터경과일수(CIS)(해제,삭제)': '공공정보_해제경과일수',\n",
    "    '연체경험여부': '연체경험',\n",
    "    '연체발생_경과일수': '연체발생_경과일수',\n",
    "    '공공정보_유지여부': '공공정보_유지여부'\n",
    "}\n",
    "\n",
    "df_부동산.rename(columns=rename_map, inplace=True)  # df 이름이 다르면 수정\n"
   ]
  },
  {
   "cell_type": "code",
   "execution_count": 23,
   "id": "3afee0a1",
   "metadata": {},
   "outputs": [
    {
     "data": {
      "text/html": [
       "<div>\n",
       "<style scoped>\n",
       "    .dataframe tbody tr th:only-of-type {\n",
       "        vertical-align: middle;\n",
       "    }\n",
       "\n",
       "    .dataframe tbody tr th {\n",
       "        vertical-align: top;\n",
       "    }\n",
       "\n",
       "    .dataframe thead th {\n",
       "        text-align: right;\n",
       "    }\n",
       "</style>\n",
       "<table border=\"1\" class=\"dataframe\">\n",
       "  <thead>\n",
       "    <tr style=\"text-align: right;\">\n",
       "      <th>모형개발용Performance(향후1년내부도여부)</th>\n",
       "      <th>0</th>\n",
       "      <th>1</th>\n",
       "    </tr>\n",
       "  </thead>\n",
       "  <tbody>\n",
       "    <tr>\n",
       "      <th>공공정보_발생경과일수</th>\n",
       "      <td>9.322854e+08</td>\n",
       "      <td>7.981483e+08</td>\n",
       "    </tr>\n",
       "    <tr>\n",
       "      <th>연체발생_경과일수</th>\n",
       "      <td>9.322854e+08</td>\n",
       "      <td>7.981483e+08</td>\n",
       "    </tr>\n",
       "    <tr>\n",
       "      <th>공공정보_해제경과일수</th>\n",
       "      <td>9.322854e+08</td>\n",
       "      <td>7.981482e+08</td>\n",
       "    </tr>\n",
       "    <tr>\n",
       "      <th>최장연체일수_3년</th>\n",
       "      <td>3.491764e+00</td>\n",
       "      <td>1.616593e+01</td>\n",
       "    </tr>\n",
       "    <tr>\n",
       "      <th>최장연체일수_1년</th>\n",
       "      <td>9.737781e-01</td>\n",
       "      <td>6.139630e+00</td>\n",
       "    </tr>\n",
       "    <tr>\n",
       "      <th>최장연체일수_6개월</th>\n",
       "      <td>5.384857e-01</td>\n",
       "      <td>3.394444e+00</td>\n",
       "    </tr>\n",
       "    <tr>\n",
       "      <th>최장연체일수_3개월</th>\n",
       "      <td>2.751111e-01</td>\n",
       "      <td>2.243704e+00</td>\n",
       "    </tr>\n",
       "    <tr>\n",
       "      <th>연체기관수_전체</th>\n",
       "      <td>6.268794e-02</td>\n",
       "      <td>2.196296e-01</td>\n",
       "    </tr>\n",
       "    <tr>\n",
       "      <th>연체기관수_3년</th>\n",
       "      <td>4.850545e-02</td>\n",
       "      <td>1.985185e-01</td>\n",
       "    </tr>\n",
       "    <tr>\n",
       "      <th>연체과목수_3개월발생</th>\n",
       "      <td>2.677169e-02</td>\n",
       "      <td>1.866667e-01</td>\n",
       "    </tr>\n",
       "    <tr>\n",
       "      <th>연체기관수_1년</th>\n",
       "      <td>1.698757e-02</td>\n",
       "      <td>1.300000e-01</td>\n",
       "    </tr>\n",
       "    <tr>\n",
       "      <th>연체기관수_6개월</th>\n",
       "      <td>1.042368e-02</td>\n",
       "      <td>1.107407e-01</td>\n",
       "    </tr>\n",
       "    <tr>\n",
       "      <th>연체기관수_3개월</th>\n",
       "      <td>6.462906e-03</td>\n",
       "      <td>8.444444e-02</td>\n",
       "    </tr>\n",
       "    <tr>\n",
       "      <th>연체과목수_3개월유지</th>\n",
       "      <td>5.868229e-03</td>\n",
       "      <td>6.518519e-02</td>\n",
       "    </tr>\n",
       "    <tr>\n",
       "      <th>공공정보_유지여부</th>\n",
       "      <td>1.192720e-02</td>\n",
       "      <td>6.148148e-02</td>\n",
       "    </tr>\n",
       "    <tr>\n",
       "      <th>연체경험</th>\n",
       "      <td>3.601723e-03</td>\n",
       "      <td>3.555556e-02</td>\n",
       "    </tr>\n",
       "  </tbody>\n",
       "</table>\n",
       "</div>"
      ],
      "text/plain": [
       "모형개발용Performance(향후1년내부도여부)             0             1\n",
       "공공정보_발생경과일수                  9.322854e+08  7.981483e+08\n",
       "연체발생_경과일수                    9.322854e+08  7.981483e+08\n",
       "공공정보_해제경과일수                  9.322854e+08  7.981482e+08\n",
       "최장연체일수_3년                    3.491764e+00  1.616593e+01\n",
       "최장연체일수_1년                    9.737781e-01  6.139630e+00\n",
       "최장연체일수_6개월                   5.384857e-01  3.394444e+00\n",
       "최장연체일수_3개월                   2.751111e-01  2.243704e+00\n",
       "연체기관수_전체                     6.268794e-02  2.196296e-01\n",
       "연체기관수_3년                     4.850545e-02  1.985185e-01\n",
       "연체과목수_3개월발생                  2.677169e-02  1.866667e-01\n",
       "연체기관수_1년                     1.698757e-02  1.300000e-01\n",
       "연체기관수_6개월                    1.042368e-02  1.107407e-01\n",
       "연체기관수_3개월                    6.462906e-03  8.444444e-02\n",
       "연체과목수_3개월유지                  5.868229e-03  6.518519e-02\n",
       "공공정보_유지여부                    1.192720e-02  6.148148e-02\n",
       "연체경험                         3.601723e-03  3.555556e-02"
      ]
     },
     "execution_count": 23,
     "metadata": {},
     "output_type": "execute_result"
    }
   ],
   "source": [
    "df_부동산.groupby('모형개발용Performance(향후1년내부도여부)')[list(rename_map.values())].mean().T.sort_values(by=1, ascending=False)\n"
   ]
  },
  {
   "cell_type": "code",
   "execution_count": 24,
   "id": "d752730b",
   "metadata": {},
   "outputs": [],
   "source": [
    "cols = ['공공정보_발생경과일수', '공공정보_해제경과일수', '연체발생_경과일수']\n",
    "for col in cols:\n",
    "    df_부동산[col] = df_부동산[col].clip(upper=3650)  # 10년 이상은 잘라버림\n"
   ]
  },
  {
   "cell_type": "code",
   "execution_count": 25,
   "id": "39f8c9e8",
   "metadata": {},
   "outputs": [
    {
     "name": "stdout",
     "output_type": "stream",
     "text": [
      "📊 샘플링 결과\n",
      "원본: 모형개발용Performance(향후1년내부도여부)\n",
      "0    89124\n",
      "1     2700\n",
      "Name: count, dtype: int64\n",
      "업샘플링: 모형개발용Performance(향후1년내부도여부)\n",
      "0    89124\n",
      "1    89124\n",
      "Name: count, dtype: int64\n",
      "다운샘플링: 모형개발용Performance(향후1년내부도여부)\n",
      "0    2700\n",
      "1    2700\n",
      "Name: count, dtype: int64\n"
     ]
    }
   ],
   "source": [
    "from sklearn.utils import resample\n",
    "\n",
    "target_col = '모형개발용Performance(향후1년내부도여부)'\n",
    "\n",
    "# 원본 데이터\n",
    "df_original = df_부동산.copy()\n",
    "\n",
    "# 클래스 분리\n",
    "df_major = df_original[df_original[target_col] == 0]\n",
    "df_minor = df_original[df_original[target_col] == 1]\n",
    "\n",
    "# 1. 업샘플링\n",
    "df_up = pd.concat([\n",
    "    df_major,\n",
    "    resample(df_minor, replace=True, n_samples=len(df_major), random_state=42)\n",
    "])\n",
    "\n",
    "# 2. 다운샘플링\n",
    "df_down = pd.concat([\n",
    "    resample(df_major, replace=False, n_samples=len(df_minor), random_state=42),\n",
    "    df_minor\n",
    "])\n",
    "\n",
    "# 결과 확인\n",
    "print(\"📊 샘플링 결과\")\n",
    "print(\"원본:\", df_original[target_col].value_counts())\n",
    "print(\"업샘플링:\", df_up[target_col].value_counts())\n",
    "print(\"다운샘플링:\", df_down[target_col].value_counts())\n"
   ]
  },
  {
   "cell_type": "code",
   "execution_count": 34,
   "id": "db5d81bd",
   "metadata": {},
   "outputs": [],
   "source": [
    "features_to_clip = {\n",
    "    '비유동자산': 0,\n",
    "    '매출채권': 0,\n",
    "    '매출채권(전기)': 0,\n",
    "    '자산총계': 0,\n",
    "    '유동부채': 0,\n",
    "    '차입금': 0,\n",
    "    '비유동부채': 0,\n",
    "    '부채총계': 0,\n",
    "    '자기자본(납입자본금)': 0,\n",
    "    '자본잉여금': 0,\n",
    "    '납입자본': 0,\n",
    "    '매출액': 0,\n",
    "    '전기매출액': 0,\n",
    "    '법인세': 0,\n",
    "    '영업외수익': 0,\n",
    "    '부채상환계수': 1e-9,  # 0 포함 제거\n",
    "    '영업이익이자보상배율': 1e-9,\n",
    "    '이자보상배율': 1e-9,\n",
    "    '재무비율_유동비율': 0,\n",
    "    '재무비율_차입금의존도': 0,\n",
    "    '재무비율_매출원가율': 0,\n",
    "    '재무비율_판관비율': 0,\n",
    "    '재무비율_매출채권회전율': 0,\n",
    "    '재무비율_재고자산회전율': 0,\n",
    "    '재무비율_매입채무회전율': 0,\n",
    "    '재무비율_총자산회전율': 0,\n",
    "    '단기차입금의존도': 0,\n",
    "    '당좌비율': 0,\n",
    "    '총자본회전율': 0,\n",
    "    '소유건축물실거래가합계': 0,\n",
    "    '차입금/EBITDA': 0,\n",
    "    'EBITDA/금융비용': 0\n",
    "}\n"
   ]
  },
  {
   "cell_type": "code",
   "execution_count": 37,
   "id": "8179cc22",
   "metadata": {},
   "outputs": [],
   "source": [
    "for col, threshold in features_to_clip.items():\n",
    "    if col in df_부동산.columns:\n",
    "        df_부동산.loc[df_부동산[col] <= threshold, col] = np.nan\n"
   ]
  },
  {
   "cell_type": "code",
   "execution_count": 38,
   "id": "20b602f3",
   "metadata": {},
   "outputs": [
    {
     "name": "stdout",
     "output_type": "stream",
     "text": [
      "📊 재샘플링 결과\n",
      "원본: {0: 390, 1: 41}\n",
      "업샘플링: {0: 390, 1: 390}\n",
      "다운샘플링: {0: 41, 1: 41}\n"
     ]
    }
   ],
   "source": [
    "from sklearn.utils import resample\n",
    "\n",
    "# 타겟 컬럼명\n",
    "target_col = '모형개발용Performance(향후1년내부도여부)'\n",
    "\n",
    "# 원본\n",
    "df_original = df_부동산_cleaned.copy()\n",
    "\n",
    "# 클래스 분리\n",
    "df_major = df_original[df_original[target_col] == 0]\n",
    "df_minor = df_original[df_original[target_col] == 1]\n",
    "\n",
    "# 1️⃣ 업샘플링 (소수 클래스 복제)\n",
    "df_up = pd.concat([\n",
    "    df_major,\n",
    "    resample(df_minor, replace=True, n_samples=len(df_major), random_state=42)\n",
    "])\n",
    "\n",
    "# 2️⃣ 다운샘플링 (다수 클래스 축소)\n",
    "df_down = pd.concat([\n",
    "    resample(df_major, replace=False, n_samples=len(df_minor), random_state=42),\n",
    "    df_minor\n",
    "])\n",
    "\n",
    "# ✅ 확인\n",
    "print(\"📊 재샘플링 결과\")\n",
    "print(\"원본:\", df_original[target_col].value_counts().to_dict())\n",
    "print(\"업샘플링:\", df_up[target_col].value_counts().to_dict())\n",
    "print(\"다운샘플링:\", df_down[target_col].value_counts().to_dict())\n"
   ]
  },
  {
   "cell_type": "code",
   "execution_count": 39,
   "id": "1742d07a",
   "metadata": {},
   "outputs": [
    {
     "name": "stdout",
     "output_type": "stream",
     "text": [
      "모형개발용Performance(향후1년내부도여부)\n",
      "0    390\n",
      "1     41\n",
      "Name: count, dtype: int64\n"
     ]
    }
   ],
   "source": [
    "print(df_부동산_cleaned['모형개발용Performance(향후1년내부도여부)'].value_counts())\n"
   ]
  },
  {
   "cell_type": "code",
   "execution_count": 40,
   "id": "6583b365",
   "metadata": {},
   "outputs": [],
   "source": [
    "from sklearn.ensemble import RandomForestClassifier\n",
    "from sklearn.metrics import classification_report, roc_auc_score, f1_score, recall_score\n",
    "from sklearn.model_selection import train_test_split\n",
    "\n",
    "def evaluate_model(df, name=''):\n",
    "    X = df[selected_features]\n",
    "    y = df['모형개발용Performance(향후1년내부도여부)']\n",
    "\n",
    "    X_train, X_test, y_train, y_test = train_test_split(\n",
    "        X, y, test_size=0.3, stratify=y, random_state=42\n",
    "    )\n",
    "\n",
    "    model = RandomForestClassifier(n_estimators=100, random_state=42)\n",
    "    model.fit(X_train, y_train)\n",
    "    y_pred = model.predict(X_test)\n",
    "    y_prob = model.predict_proba(X_test)[:, 1]\n",
    "\n",
    "    print(f\"\\n📊 [{name}] 성능 요약\")\n",
    "    print(classification_report(y_test, y_pred, digits=4))\n",
    "    print(\"🔹 ROC AUC:\", round(roc_auc_score(y_test, y_prob), 4))\n",
    "    print(\"🔹 F1 Score:\", round(f1_score(y_test, y_pred), 4))\n",
    "    print(\"🔹 Recall:\", round(recall_score(y_test, y_pred), 4))\n"
   ]
  },
  {
   "cell_type": "code",
   "execution_count": 41,
   "id": "abce1678",
   "metadata": {},
   "outputs": [
    {
     "name": "stdout",
     "output_type": "stream",
     "text": [
      "\n",
      "📊 [원본 데이터] 성능 요약\n",
      "              precision    recall  f1-score   support\n",
      "\n",
      "           0     0.9752    1.0000    0.9874       118\n",
      "           1     1.0000    0.7500    0.8571        12\n",
      "\n",
      "    accuracy                         0.9769       130\n",
      "   macro avg     0.9876    0.8750    0.9223       130\n",
      "weighted avg     0.9775    0.9769    0.9754       130\n",
      "\n",
      "🔹 ROC AUC: 0.9774\n",
      "🔹 F1 Score: 0.8571\n",
      "🔹 Recall: 0.75\n",
      "\n",
      "📊 [업샘플링] 성능 요약\n",
      "              precision    recall  f1-score   support\n",
      "\n",
      "           0     1.0000    1.0000    1.0000       117\n",
      "           1     1.0000    1.0000    1.0000       117\n",
      "\n",
      "    accuracy                         1.0000       234\n",
      "   macro avg     1.0000    1.0000    1.0000       234\n",
      "weighted avg     1.0000    1.0000    1.0000       234\n",
      "\n",
      "🔹 ROC AUC: 1.0\n",
      "🔹 F1 Score: 1.0\n",
      "🔹 Recall: 1.0\n",
      "\n",
      "📊 [다운샘플링] 성능 요약\n",
      "              precision    recall  f1-score   support\n",
      "\n",
      "           0     1.0000    0.8462    0.9167        13\n",
      "           1     0.8571    1.0000    0.9231        12\n",
      "\n",
      "    accuracy                         0.9200        25\n",
      "   macro avg     0.9286    0.9231    0.9199        25\n",
      "weighted avg     0.9314    0.9200    0.9197        25\n",
      "\n",
      "🔹 ROC AUC: 0.9808\n",
      "🔹 F1 Score: 0.9231\n",
      "🔹 Recall: 1.0\n"
     ]
    }
   ],
   "source": [
    "evaluate_model(df_original, '원본 데이터')\n",
    "evaluate_model(df_up, '업샘플링')\n",
    "evaluate_model(df_down, '다운샘플링')\n"
   ]
  },
  {
   "cell_type": "code",
   "execution_count": 42,
   "id": "f6b6d9e3",
   "metadata": {},
   "outputs": [],
   "source": [
    "# 1단계: 피처(X), 타겟(y) 분리\n",
    "X = df_down[selected_features]\n",
    "y = df_down['모형개발용Performance(향후1년내부도여부)']\n"
   ]
  },
  {
   "cell_type": "code",
   "execution_count": 43,
   "id": "9b272885",
   "metadata": {},
   "outputs": [],
   "source": [
    "from sklearn.model_selection import StratifiedKFold\n",
    "from sklearn.ensemble import RandomForestClassifier\n",
    "from xgboost import XGBClassifier\n",
    "\n",
    "# 2단계: Stratified KFold 정의\n",
    "kf = StratifiedKFold(n_splits=5, shuffle=True, random_state=42)\n",
    "\n",
    "# Base 모델들 정의\n",
    "base_models = [\n",
    "    ('rf', RandomForestClassifier(n_estimators=100, random_state=42)),\n",
    "    ('xgb', XGBClassifier(use_label_encoder=False, eval_metric='logloss', random_state=42))\n",
    "]\n"
   ]
  },
  {
   "cell_type": "code",
   "execution_count": 44,
   "id": "6cdb01bc",
   "metadata": {},
   "outputs": [
    {
     "name": "stdout",
     "output_type": "stream",
     "text": [
      "📦 Base 모델 학습 중: rf\n",
      "📦 Base 모델 학습 중: xgb\n"
     ]
    }
   ],
   "source": [
    "import numpy as np\n",
    "\n",
    "# 메타 입력 데이터 초기화\n",
    "meta_X = np.zeros((X.shape[0], len(base_models)))  # (샘플 수, 모델 수)\n",
    "\n",
    "for i, (name, model) in enumerate(base_models):\n",
    "    print(f\"📦 Base 모델 학습 중: {name}\")\n",
    "    \n",
    "    for fold, (train_idx, val_idx) in enumerate(kf.split(X, y)):\n",
    "        X_train, X_val = X.iloc[train_idx], X.iloc[val_idx]\n",
    "        y_train, y_val = y.iloc[train_idx], y.iloc[val_idx]\n",
    "        \n",
    "        model.fit(X_train, y_train)\n",
    "        y_val_pred = model.predict(X_val)\n",
    "        \n",
    "        meta_X[val_idx, i] = y_val_pred  # fold에 해당하는 부분만 채우기\n"
   ]
  },
  {
   "cell_type": "code",
   "execution_count": 45,
   "id": "8eb6be5d",
   "metadata": {},
   "outputs": [
    {
     "name": "stdout",
     "output_type": "stream",
     "text": [
      "📊 최종 스태킹 모델 성능\n",
      "              precision    recall  f1-score   support\n",
      "\n",
      "           0     0.9750    0.9512    0.9630        41\n",
      "           1     0.9524    0.9756    0.9639        41\n",
      "\n",
      "    accuracy                         0.9634        82\n",
      "   macro avg     0.9637    0.9634    0.9634        82\n",
      "weighted avg     0.9637    0.9634    0.9634        82\n",
      "\n",
      "🔹 ROC AUC: 0.9625\n",
      "🔹 F1 Score: 0.9639\n",
      "🔹 Recall: 0.9756\n"
     ]
    }
   ],
   "source": [
    "from sklearn.linear_model import LogisticRegression\n",
    "from sklearn.metrics import classification_report, roc_auc_score, f1_score, recall_score\n",
    "\n",
    "# 4단계: 메타 모델 학습\n",
    "meta_model = LogisticRegression()\n",
    "meta_model.fit(meta_X, y)\n",
    "\n",
    "# 예측\n",
    "meta_preds = meta_model.predict(meta_X)\n",
    "meta_probs = meta_model.predict_proba(meta_X)[:, 1]\n",
    "\n",
    "# 평가 출력\n",
    "print(\"📊 최종 스태킹 모델 성능\")\n",
    "print(classification_report(y, meta_preds, digits=4))\n",
    "print(\"🔹 ROC AUC:\", round(roc_auc_score(y, meta_probs), 4))\n",
    "print(\"🔹 F1 Score:\", round(f1_score(y, meta_preds), 4))\n",
    "print(\"🔹 Recall:\", round(recall_score(y, meta_preds), 4))\n"
   ]
  },
  {
   "cell_type": "markdown",
   "id": "fc70ed86",
   "metadata": {},
   "source": [
    "---"
   ]
  },
  {
   "cell_type": "code",
   "execution_count": 46,
   "id": "28df5ac5",
   "metadata": {},
   "outputs": [
    {
     "name": "stdout",
     "output_type": "stream",
     "text": [
      "✅ SMOTE 적용 결과 클래스 분포:\n",
      "모형개발용Performance(향후1년내부도여부)\n",
      "0    390\n",
      "1    390\n",
      "Name: count, dtype: int64\n"
     ]
    }
   ],
   "source": [
    "from imblearn.over_sampling import SMOTE\n",
    "\n",
    "# 타겟과 피처 분리\n",
    "X = df_부동산_cleaned[selected_features]\n",
    "y = df_부동산_cleaned['모형개발용Performance(향후1년내부도여부)']\n",
    "\n",
    "# SMOTE 적용\n",
    "smote = SMOTE(random_state=42)\n",
    "X_sm, y_sm = smote.fit_resample(X, y)\n",
    "\n",
    "# 확인\n",
    "print(\"✅ SMOTE 적용 결과 클래스 분포:\")\n",
    "print(y_sm.value_counts())\n"
   ]
  },
  {
   "cell_type": "code",
   "execution_count": 54,
   "id": "ee379887",
   "metadata": {},
   "outputs": [],
   "source": [
    "# 타겟 컬럼\n",
    "target_col = '모형개발용Performance(향후1년내부도여부)'\n",
    "\n",
    "# 사용할 피처 리스트 (클리핑 대상 포함)\n",
    "selected_features = [\n",
    "    # 주요 재무 정보\n",
    "    '비유동자산', '매출채권', '매출채권(전기)', '자산총계', '유동부채',\n",
    "    '차입금', '비유동부채', '부채총계', '자기자본(납입자본금)', '자본잉여금', '납입자본',\n",
    "    '매출액', '전기매출액', '법인세', '영업외수익',\n",
    "\n",
    "    # 비율 지표\n",
    "    '부채상환계수', '영업이익이자보상배율', '이자보상배율',\n",
    "    '재무비율_유동비율', '재무비율_차입금의존도', '재무비율_매출원가율',\n",
    "    '재무비율_판관비율', '재무비율_매출채권회전율', '재무비율_재고자산회전율',\n",
    "    '재무비율_매입채무회전율', '재무비율_총자산회전율',\n",
    "    '단기차입금의존도', '당좌비율', '총자본회전율',\n",
    "\n",
    "    # 부동산 관련 지표\n",
    "    '소유건축물실거래가합계', '차입금/EBITDA', 'EBITDA/금융비용'\n",
    "]\n"
   ]
  },
  {
   "cell_type": "code",
   "execution_count": null,
   "id": "6c7ecb44",
   "metadata": {},
   "outputs": [],
   "source": [
    "df_부동산_selected = df_부동산[selected_features + [target_col]].copy()"
   ]
  },
  {
   "cell_type": "code",
   "execution_count": 56,
   "id": "0ce251ef",
   "metadata": {},
   "outputs": [],
   "source": [
    "df_부동산_cleaned = df_부동산_selected.dropna()\n"
   ]
  },
  {
   "cell_type": "code",
   "execution_count": null,
   "id": "4c48a414",
   "metadata": {},
   "outputs": [],
   "source": [
    "for col in selected_features:\n",
    "    if col in ['부채상환계수', '영업이익이자보상배율', '이자보상배율']:\n",
    "        df_부동산_cleaned = df_부동산_cleaned[df_부동산_cleaned[col] > 0]\n",
    "    else:\n",
    "        df_부동산_cleaned = df_부동산_cleaned[df_부동산_cleaned[col] >= 0]"
   ]
  },
  {
   "cell_type": "code",
   "execution_count": null,
   "id": "4863a6ad",
   "metadata": {},
   "outputs": [
    {
     "name": "stdout",
     "output_type": "stream",
     "text": [
      "✅ 최종 클리닝된 샘플 수: 160\n",
      "모형개발용Performance(향후1년내부도여부)\n",
      "0    159\n",
      "1      1\n",
      "Name: count, dtype: int64\n"
     ]
    }
   ],
   "source": [
    "print(\"✅ 최종 클리닝된 샘플 수:\", len(df_부동산_cleaned))\n",
    "print(df_부동산_cleaned[target_col].value_counts())"
   ]
  },
  {
   "cell_type": "code",
   "execution_count": null,
   "id": "c6f7f59b",
   "metadata": {},
   "outputs": [],
   "source": []
  }
 ],
 "metadata": {
  "kernelspec": {
   "display_name": "base",
   "language": "python",
   "name": "python3"
  },
  "language_info": {
   "codemirror_mode": {
    "name": "ipython",
    "version": 3
   },
   "file_extension": ".py",
   "mimetype": "text/x-python",
   "name": "python",
   "nbconvert_exporter": "python",
   "pygments_lexer": "ipython3",
   "version": "3.12.2"
  }
 },
 "nbformat": 4,
 "nbformat_minor": 5
}
