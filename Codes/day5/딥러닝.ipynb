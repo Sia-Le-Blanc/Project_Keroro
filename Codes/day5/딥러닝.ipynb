{
 "cells": [
  {
   "cell_type": "code",
   "execution_count": 1,
   "id": "22708644",
   "metadata": {},
   "outputs": [],
   "source": [
    "import pandas as pd\n",
    "import numpy as np\n",
    "import matplotlib.pyplot as plt\n",
    "import warnings\n",
    "plt.rcParams['font.family'] = 'AppleGothic'\n",
    "warnings.filterwarnings('ignore')\n",
    "df = pd.read_csv('피처추가함.csv')"
   ]
  },
  {
   "cell_type": "code",
   "execution_count": 11,
   "id": "37280f14",
   "metadata": {},
   "outputs": [
    {
     "name": "stdout",
     "output_type": "stream",
     "text": [
      "<class 'pandas.core.frame.DataFrame'>\n",
      "RangeIndex: 91824 entries, 0 to 91823\n",
      "Columns: 173 entries, 기준년월 to 이자원금_30일초과연체과목수\n",
      "dtypes: float64(42), int64(130), object(1)\n",
      "memory usage: 121.2+ MB\n"
     ]
    }
   ],
   "source": [
    "df.info()"
   ]
  },
  {
   "cell_type": "code",
   "execution_count": 24,
   "id": "1a115302",
   "metadata": {},
   "outputs": [],
   "source": [
    "df['단기차입금의존도'] = df['단기차입금'] / df['자산총계'].replace(0, np.nan) #자산총계 0 인것이 3개\n",
    "\n",
    "\n",
    "# 현금성비율 = 현금 / 유동부채\n",
    "df['현금성비율'] = df['현금'] / df['유동부채'].replace(0, np.nan)\n",
    "\n",
    "# 단기순차입금 = 단기차입금 - 현금\n",
    "df['단기순차입금'] = df['단기차입금'] - df['현금']\n",
    "\n",
    "# 순운전자본 = 유동자산 - 유동부\n",
    "df['순운전자본'] = df['유동자산'] - df['유동부채']\n",
    "\n",
    "\n",
    "#결측치 처리\n",
    "df['현금성비율'] = df['현금성비율'].fillna(0)\n",
    "df = df[df['자산총계'] != 0]\n",
    "\n",
    "# 높을 수록\n",
    "df['총자본회전율'] = df['매출액'] / df['자산총계'].replace(0, np.nan)\n",
    "\n"
   ]
  },
  {
   "cell_type": "code",
   "execution_count": 13,
   "id": "b510dee9",
   "metadata": {},
   "outputs": [],
   "source": [
    "df.to_csv('피처 더 추가함.csv', index=False)"
   ]
  },
  {
   "cell_type": "code",
   "execution_count": 2,
   "id": "53b6fca7",
   "metadata": {},
   "outputs": [],
   "source": [
    "import pandas as pd\n",
    "import numpy as np\n",
    "from sklearn.model_selection import train_test_split\n",
    "from sklearn.preprocessing import StandardScaler, LabelEncoder\n",
    "from sklearn.metrics import classification_report, confusion_matrix, roc_auc_score\n",
    "from sklearn.utils.class_weight import compute_class_weight\n",
    "\n",
    "import tensorflow as tf\n",
    "from tensorflow.keras.models import Sequential\n",
    "from tensorflow.keras.layers import Dense, Dropout, BatchNormalization\n",
    "from tensorflow.keras.callbacks import EarlyStopping\n"
   ]
  },
  {
   "cell_type": "code",
   "execution_count": 3,
   "id": "f8379b4c",
   "metadata": {},
   "outputs": [
    {
     "name": "stdout",
     "output_type": "stream",
     "text": [
      "📊 클래스 가중치: {0: 0.515147477524229, 1: 17.004398148148148}\n"
     ]
    }
   ],
   "source": [
    "target_col = '부도여부'\n",
    "\n",
    "# 문자열 컬럼 인코딩\n",
    "df_encoded = df.copy()\n",
    "for col in df_encoded.select_dtypes(include='object').columns:\n",
    "    le = LabelEncoder()\n",
    "    df_encoded[col] = le.fit_transform(df_encoded[col].astype(str))\n",
    "\n",
    "# 피처와 타겟 분리\n",
    "X = df_encoded.drop(columns=[target_col])\n",
    "y = df_encoded[target_col]\n",
    "\n",
    "# ⚠️ 무한값과 결측값 처리\n",
    "X.replace([np.inf, -np.inf], np.nan, inplace=True)\n",
    "X.fillna(0, inplace=True)\n",
    "\n",
    "# 정규화\n",
    "scaler = StandardScaler()\n",
    "X_scaled = scaler.fit_transform(X)\n",
    "\n",
    "# 학습/테스트 셋 분할\n",
    "X_train, X_test, y_train, y_test = train_test_split(\n",
    "    X_scaled, y, test_size=0.2, stratify=y, random_state=42\n",
    ")\n",
    "\n",
    "# 클래스 가중치 계산\n",
    "class_weights = compute_class_weight('balanced', classes=np.unique(y_train), y=y_train)\n",
    "class_weight_dict = dict(enumerate(class_weights))\n",
    "print(\"📊 클래스 가중치:\", class_weight_dict)\n"
   ]
  },
  {
   "cell_type": "code",
   "execution_count": 4,
   "id": "d7cd5ce4",
   "metadata": {},
   "outputs": [
    {
     "name": "stderr",
     "output_type": "stream",
     "text": [
      "2025-07-10 16:01:48.009448: I metal_plugin/src/device/metal_device.cc:1154] Metal device set to: Apple M3\n",
      "2025-07-10 16:01:48.009810: I metal_plugin/src/device/metal_device.cc:296] systemMemory: 8.00 GB\n",
      "2025-07-10 16:01:48.009816: I metal_plugin/src/device/metal_device.cc:313] maxCacheSize: 2.67 GB\n",
      "2025-07-10 16:01:48.010059: I tensorflow/core/common_runtime/pluggable_device/pluggable_device_factory.cc:305] Could not identify NUMA node of platform GPU ID 0, defaulting to 0. Your kernel may not have been built with NUMA support.\n",
      "2025-07-10 16:01:48.010085: I tensorflow/core/common_runtime/pluggable_device/pluggable_device_factory.cc:271] Created TensorFlow device (/job:localhost/replica:0/task:0/device:GPU:0 with 0 MB memory) -> physical PluggableDevice (device: 0, name: METAL, pci bus id: <undefined>)\n"
     ]
    }
   ],
   "source": [
    "import tensorflow as tf\n",
    "from tensorflow.keras import layers, models\n",
    "\n",
    "# 모델 정의\n",
    "model = models.Sequential([\n",
    "    layers.Input(shape=(X_train.shape[1],)),\n",
    "    layers.Dense(64, activation='relu'),\n",
    "    layers.BatchNormalization(),\n",
    "    layers.Dropout(0.3),\n",
    "    layers.Dense(32, activation='relu'),\n",
    "    layers.Dense(1, activation='sigmoid')\n",
    "])\n",
    "\n",
    "# 모델 컴파일\n",
    "model.compile(optimizer='adam',\n",
    "              loss='binary_crossentropy',\n",
    "              metrics=['accuracy', tf.keras.metrics.AUC(name='auc'), tf.keras.metrics.Recall()])\n"
   ]
  },
  {
   "cell_type": "code",
   "execution_count": 5,
   "id": "d589ee32",
   "metadata": {},
   "outputs": [
    {
     "name": "stdout",
     "output_type": "stream",
     "text": [
      "Epoch 1/30\n"
     ]
    },
    {
     "name": "stderr",
     "output_type": "stream",
     "text": [
      "2025-07-10 16:01:50.660492: I tensorflow/core/grappler/optimizers/custom_graph_optimizer_registry.cc:117] Plugin optimizer for device_type GPU is enabled.\n",
      "2025-07-10 16:01:50.668603: E tensorflow/core/grappler/optimizers/meta_optimizer.cc:961] PluggableGraphOptimizer failed: INVALID_ARGUMENT: Failed to deserialize the `graph_buf`.\n"
     ]
    },
    {
     "name": "stdout",
     "output_type": "stream",
     "text": [
      "\u001b[1m919/919\u001b[0m \u001b[32m━━━━━━━━━━━━━━━━━━━━\u001b[0m\u001b[37m\u001b[0m \u001b[1m24s\u001b[0m 23ms/step - accuracy: 0.3358 - auc: 0.7012 - loss: 0.9779 - recall: 0.8822 - val_accuracy: 0.5546 - val_auc: 0.8260 - val_loss: 0.7511 - val_recall: 0.9089\n",
      "Epoch 2/30\n",
      "\u001b[1m919/919\u001b[0m \u001b[32m━━━━━━━━━━━━━━━━━━━━\u001b[0m\u001b[37m\u001b[0m \u001b[1m17s\u001b[0m 18ms/step - accuracy: 0.5246 - auc: 0.8075 - loss: 0.7501 - recall: 0.9291 - val_accuracy: 0.5491 - val_auc: 0.8351 - val_loss: 0.7426 - val_recall: 0.9367\n",
      "Epoch 3/30\n",
      "\u001b[1m919/919\u001b[0m \u001b[32m━━━━━━━━━━━━━━━━━━━━\u001b[0m\u001b[37m\u001b[0m \u001b[1m16s\u001b[0m 18ms/step - accuracy: 0.5397 - auc: 0.8274 - loss: 0.7082 - recall: 0.9398 - val_accuracy: 0.5515 - val_auc: 0.8357 - val_loss: 0.7003 - val_recall: 0.9241\n",
      "Epoch 4/30\n",
      "\u001b[1m919/919\u001b[0m \u001b[32m━━━━━━━━━━━━━━━━━━━━\u001b[0m\u001b[37m\u001b[0m \u001b[1m16s\u001b[0m 18ms/step - accuracy: 0.5546 - auc: 0.8390 - loss: 0.6754 - recall: 0.9430 - val_accuracy: 0.5926 - val_auc: 0.8485 - val_loss: 0.6406 - val_recall: 0.9038\n",
      "Epoch 5/30\n",
      "\u001b[1m919/919\u001b[0m \u001b[32m━━━━━━━━━━━━━━━━━━━━\u001b[0m\u001b[37m\u001b[0m \u001b[1m17s\u001b[0m 18ms/step - accuracy: 0.5561 - auc: 0.8379 - loss: 0.6821 - recall: 0.9376 - val_accuracy: 0.5404 - val_auc: 0.8485 - val_loss: 0.7008 - val_recall: 0.9468\n",
      "Epoch 6/30\n",
      "\u001b[1m919/919\u001b[0m \u001b[32m━━━━━━━━━━━━━━━━━━━━\u001b[0m\u001b[37m\u001b[0m \u001b[1m16s\u001b[0m 18ms/step - accuracy: 0.5644 - auc: 0.8517 - loss: 0.6471 - recall: 0.9567 - val_accuracy: 0.5930 - val_auc: 0.8532 - val_loss: 0.6559 - val_recall: 0.9291\n",
      "Epoch 7/30\n",
      "\u001b[1m919/919\u001b[0m \u001b[32m━━━━━━━━━━━━━━━━━━━━\u001b[0m\u001b[37m\u001b[0m \u001b[1m17s\u001b[0m 18ms/step - accuracy: 0.5703 - auc: 0.8584 - loss: 0.6352 - recall: 0.9611 - val_accuracy: 0.5704 - val_auc: 0.8554 - val_loss: 0.6646 - val_recall: 0.9443\n",
      "Epoch 8/30\n",
      "\u001b[1m919/919\u001b[0m \u001b[32m━━━━━━━━━━━━━━━━━━━━\u001b[0m\u001b[37m\u001b[0m \u001b[1m17s\u001b[0m 18ms/step - accuracy: 0.5656 - auc: 0.8599 - loss: 0.6356 - recall: 0.9475 - val_accuracy: 0.5873 - val_auc: 0.8549 - val_loss: 0.6396 - val_recall: 0.9190\n",
      "Epoch 9/30\n",
      "\u001b[1m919/919\u001b[0m \u001b[32m━━━━━━━━━━━━━━━━━━━━\u001b[0m\u001b[37m\u001b[0m \u001b[1m20s\u001b[0m 21ms/step - accuracy: 0.5642 - auc: 0.8564 - loss: 0.6402 - recall: 0.9522 - val_accuracy: 0.5939 - val_auc: 0.8600 - val_loss: 0.6450 - val_recall: 0.9316\n",
      "Epoch 10/30\n",
      "\u001b[1m919/919\u001b[0m \u001b[32m━━━━━━━━━━━━━━━━━━━━\u001b[0m\u001b[37m\u001b[0m \u001b[1m17s\u001b[0m 19ms/step - accuracy: 0.5815 - auc: 0.8599 - loss: 0.6235 - recall: 0.9513 - val_accuracy: 0.5790 - val_auc: 0.8625 - val_loss: 0.6449 - val_recall: 0.9468\n",
      "Epoch 11/30\n",
      "\u001b[1m919/919\u001b[0m \u001b[32m━━━━━━━━━━━━━━━━━━━━\u001b[0m\u001b[37m\u001b[0m \u001b[1m19s\u001b[0m 20ms/step - accuracy: 0.5811 - auc: 0.8645 - loss: 0.6108 - recall: 0.9617 - val_accuracy: 0.6088 - val_auc: 0.8615 - val_loss: 0.5898 - val_recall: 0.9316\n",
      "Epoch 12/30\n",
      "\u001b[1m919/919\u001b[0m \u001b[32m━━━━━━━━━━━━━━━━━━━━\u001b[0m\u001b[37m\u001b[0m \u001b[1m19s\u001b[0m 20ms/step - accuracy: 0.5999 - auc: 0.8747 - loss: 0.6036 - recall: 0.9657 - val_accuracy: 0.6056 - val_auc: 0.8639 - val_loss: 0.6049 - val_recall: 0.9342\n",
      "Epoch 13/30\n",
      "\u001b[1m919/919\u001b[0m \u001b[32m━━━━━━━━━━━━━━━━━━━━\u001b[0m\u001b[37m\u001b[0m \u001b[1m19s\u001b[0m 20ms/step - accuracy: 0.5940 - auc: 0.8686 - loss: 0.6126 - recall: 0.9638 - val_accuracy: 0.6031 - val_auc: 0.8702 - val_loss: 0.5990 - val_recall: 0.9392\n",
      "Epoch 14/30\n",
      "\u001b[1m919/919\u001b[0m \u001b[32m━━━━━━━━━━━━━━━━━━━━\u001b[0m\u001b[37m\u001b[0m \u001b[1m19s\u001b[0m 21ms/step - accuracy: 0.6039 - auc: 0.8729 - loss: 0.5945 - recall: 0.9596 - val_accuracy: 0.6000 - val_auc: 0.8696 - val_loss: 0.6270 - val_recall: 0.9468\n",
      "Epoch 15/30\n",
      "\u001b[1m919/919\u001b[0m \u001b[32m━━━━━━━━━━━━━━━━━━━━\u001b[0m\u001b[37m\u001b[0m \u001b[1m24s\u001b[0m 27ms/step - accuracy: 0.5944 - auc: 0.8764 - loss: 0.5932 - recall: 0.9681 - val_accuracy: 0.5992 - val_auc: 0.8723 - val_loss: 0.6197 - val_recall: 0.9570\n",
      "Epoch 16/30\n",
      "\u001b[1m919/919\u001b[0m \u001b[32m━━━━━━━━━━━━━━━━━━━━\u001b[0m\u001b[37m\u001b[0m \u001b[1m19s\u001b[0m 20ms/step - accuracy: 0.6040 - auc: 0.8762 - loss: 0.5827 - recall: 0.9707 - val_accuracy: 0.6294 - val_auc: 0.8773 - val_loss: 0.5615 - val_recall: 0.9367\n",
      "Epoch 17/30\n",
      "\u001b[1m919/919\u001b[0m \u001b[32m━━━━━━━━━━━━━━━━━━━━\u001b[0m\u001b[37m\u001b[0m \u001b[1m20s\u001b[0m 22ms/step - accuracy: 0.6123 - auc: 0.8768 - loss: 0.5894 - recall: 0.9587 - val_accuracy: 0.6182 - val_auc: 0.8713 - val_loss: 0.5625 - val_recall: 0.9392\n",
      "Epoch 18/30\n",
      "\u001b[1m919/919\u001b[0m \u001b[32m━━━━━━━━━━━━━━━━━━━━\u001b[0m\u001b[37m\u001b[0m \u001b[1m19s\u001b[0m 21ms/step - accuracy: 0.6124 - auc: 0.8782 - loss: 0.5899 - recall: 0.9663 - val_accuracy: 0.6312 - val_auc: 0.8771 - val_loss: 0.5929 - val_recall: 0.9519\n",
      "Epoch 19/30\n",
      "\u001b[1m919/919\u001b[0m \u001b[32m━━━━━━━━━━━━━━━━━━━━\u001b[0m\u001b[37m\u001b[0m \u001b[1m20s\u001b[0m 21ms/step - accuracy: 0.6188 - auc: 0.8763 - loss: 0.5876 - recall: 0.9530 - val_accuracy: 0.6081 - val_auc: 0.8748 - val_loss: 0.6117 - val_recall: 0.9418\n",
      "Epoch 20/30\n",
      "\u001b[1m919/919\u001b[0m \u001b[32m━━━━━━━━━━━━━━━━━━━━\u001b[0m\u001b[37m\u001b[0m \u001b[1m19s\u001b[0m 20ms/step - accuracy: 0.6199 - auc: 0.8856 - loss: 0.5754 - recall: 0.9628 - val_accuracy: 0.6192 - val_auc: 0.8773 - val_loss: 0.5948 - val_recall: 0.9443\n",
      "Epoch 21/30\n",
      "\u001b[1m919/919\u001b[0m \u001b[32m━━━━━━━━━━━━━━━━━━━━\u001b[0m\u001b[37m\u001b[0m \u001b[1m20s\u001b[0m 21ms/step - accuracy: 0.6247 - auc: 0.8862 - loss: 0.5701 - recall: 0.9628 - val_accuracy: 0.6045 - val_auc: 0.8845 - val_loss: 0.5917 - val_recall: 0.9544\n"
     ]
    }
   ],
   "source": [
    "# 클래스 가중치\n",
    "class_weights = {0: 0.506717384266753, 1: 37.71686746987952}\n",
    "\n",
    "# 모델 학습\n",
    "history = model.fit(\n",
    "    X_train, y_train,\n",
    "    validation_split=0.2,\n",
    "    epochs=30,\n",
    "    batch_size=64,\n",
    "    class_weight=class_weights,\n",
    "    callbacks=[\n",
    "        tf.keras.callbacks.EarlyStopping(patience=5, restore_best_weights=True)\n",
    "    ],\n",
    "    verbose=1\n",
    ")\n"
   ]
  },
  {
   "cell_type": "code",
   "execution_count": 6,
   "id": "9e4c9ee6",
   "metadata": {},
   "outputs": [
    {
     "data": {
      "image/png": "[encoded data removed]",
      "text/plain": [
       "<Figure size 640x480 with 1 Axes>"
      ]
     },
     "metadata": {},
     "output_type": "display_data"
    }
   ],
   "source": [
    "import matplotlib.pyplot as plt\n",
    "\n",
    "plt.plot(history.history['loss'], label='Train Loss')\n",
    "plt.plot(history.history['val_loss'], label='Val Loss')\n",
    "plt.title('Training vs Validation Loss')\n",
    "plt.xlabel('Epoch')\n",
    "plt.ylabel('Loss')\n",
    "plt.legend()\n",
    "plt.grid(True)\n",
    "plt.show()"
   ]
  },
  {
   "cell_type": "code",
   "execution_count": 7,
   "id": "14df9996",
   "metadata": {},
   "outputs": [
    {
     "name": "stdout",
     "output_type": "stream",
     "text": [
      "\u001b[1m 27/574\u001b[0m \u001b[37m━━━━━━━━━━━━━━━━━━━━\u001b[0m \u001b[1m1s\u001b[0m 2ms/step    "
     ]
    },
    {
     "name": "stderr",
     "output_type": "stream",
     "text": [
      "2025-07-10 16:08:21.882265: E tensorflow/core/grappler/optimizers/meta_optimizer.cc:961] PluggableGraphOptimizer failed: INVALID_ARGUMENT: Failed to deserialize the `graph_buf`.\n"
     ]
    },
    {
     "name": "stdout",
     "output_type": "stream",
     "text": [
      "\u001b[1m574/574\u001b[0m \u001b[32m━━━━━━━━━━━━━━━━━━━━\u001b[0m\u001b[37m\u001b[0m \u001b[1m1s\u001b[0m 2ms/step\n",
      "[[11160  6665]\n",
      " [   54   486]]\n",
      "              precision    recall  f1-score   support\n",
      "\n",
      "           0     0.9952    0.6261    0.7686     17825\n",
      "           1     0.0680    0.9000    0.1264       540\n",
      "\n",
      "    accuracy                         0.6341     18365\n",
      "   macro avg     0.5316    0.7630    0.4475     18365\n",
      "weighted avg     0.9679    0.6341    0.7497     18365\n",
      "\n"
     ]
    }
   ],
   "source": [
    "from sklearn.metrics import classification_report, confusion_matrix\n",
    "\n",
    "# 예측\n",
    "y_pred_proba = model.predict(X_test).flatten()\n",
    "y_pred = (y_pred_proba > 0.5).astype(int)\n",
    "\n",
    "# 출력\n",
    "print(confusion_matrix(y_test, y_pred))\n",
    "print(classification_report(y_test, y_pred, digits=4))\n"
   ]
  },
  {
   "cell_type": "code",
   "execution_count": 8,
   "id": "d15ee34d",
   "metadata": {},
   "outputs": [
    {
     "name": "stdout",
     "output_type": "stream",
     "text": [
      "Epoch 1/200\n"
     ]
    },
    {
     "name": "stderr",
     "output_type": "stream",
     "text": [
      "2025-07-10 16:13:06.182814: E tensorflow/core/grappler/optimizers/meta_optimizer.cc:961] PluggableGraphOptimizer failed: INVALID_ARGUMENT: Failed to deserialize the `graph_buf`.\n"
     ]
    },
    {
     "name": "stdout",
     "output_type": "stream",
     "text": [
      "\u001b[1m1148/1148\u001b[0m \u001b[32m━━━━━━━━━━━━━━━━━━━━\u001b[0m\u001b[37m\u001b[0m \u001b[1m53s\u001b[0m 42ms/step - AUC: 0.7168 - Precision: 0.0438 - Recall: 0.8256 - loss: 0.9708 - val_AUC: 0.8166 - val_Precision: 0.0571 - val_Recall: 0.9148 - val_loss: 0.7218\n",
      "Epoch 2/200\n",
      "\u001b[1m1148/1148\u001b[0m \u001b[32m━━━━━━━━━━━━━━━━━━━━\u001b[0m\u001b[37m\u001b[0m \u001b[1m44s\u001b[0m 39ms/step - AUC: 0.8040 - Precision: 0.0528 - Recall: 0.9245 - loss: 0.7502 - val_AUC: 0.8309 - val_Precision: 0.0586 - val_Recall: 0.9093 - val_loss: 0.7135\n",
      "Epoch 3/200\n",
      "\u001b[1m1148/1148\u001b[0m \u001b[32m━━━━━━━━━━━━━━━━━━━━\u001b[0m\u001b[37m\u001b[0m \u001b[1m44s\u001b[0m 39ms/step - AUC: 0.8237 - Precision: 0.0578 - Recall: 0.9414 - loss: 0.7080 - val_AUC: 0.8388 - val_Precision: 0.0538 - val_Recall: 0.9611 - val_loss: 0.7796\n",
      "Epoch 4/200\n",
      "\u001b[1m1148/1148\u001b[0m \u001b[32m━━━━━━━━━━━━━━━━━━━━\u001b[0m\u001b[37m\u001b[0m \u001b[1m45s\u001b[0m 39ms/step - AUC: 0.8320 - Precision: 0.0557 - Recall: 0.9529 - loss: 0.6860 - val_AUC: 0.8305 - val_Precision: 0.0609 - val_Recall: 0.9093 - val_loss: 0.6528\n",
      "Epoch 5/200\n",
      "\u001b[1m1148/1148\u001b[0m \u001b[32m━━━━━━━━━━━━━━━━━━━━\u001b[0m\u001b[37m\u001b[0m \u001b[1m45s\u001b[0m 39ms/step - AUC: 0.8438 - Precision: 0.0585 - Recall: 0.9561 - loss: 0.6599 - val_AUC: 0.8388 - val_Precision: 0.0636 - val_Recall: 0.9037 - val_loss: 0.6346\n",
      "Epoch 6/200\n",
      "\u001b[1m1148/1148\u001b[0m \u001b[32m━━━━━━━━━━━━━━━━━━━━\u001b[0m\u001b[37m\u001b[0m \u001b[1m44s\u001b[0m 39ms/step - AUC: 0.8524 - Precision: 0.0598 - Recall: 0.9481 - loss: 0.6491 - val_AUC: 0.8411 - val_Precision: 0.0626 - val_Recall: 0.9407 - val_loss: 0.6939\n",
      "Epoch 7/200\n",
      "\u001b[1m1148/1148\u001b[0m \u001b[32m━━━━━━━━━━━━━━━━━━━━\u001b[0m\u001b[37m\u001b[0m \u001b[1m45s\u001b[0m 39ms/step - AUC: 0.8505 - Precision: 0.0620 - Recall: 0.9611 - loss: 0.6367 - val_AUC: 0.8397 - val_Precision: 0.0626 - val_Recall: 0.9259 - val_loss: 0.6462\n",
      "Epoch 8/200\n",
      "\u001b[1m1148/1148\u001b[0m \u001b[32m━━━━━━━━━━━━━━━━━━━━\u001b[0m\u001b[37m\u001b[0m \u001b[1m44s\u001b[0m 39ms/step - AUC: 0.8561 - Precision: 0.0590 - Recall: 0.9562 - loss: 0.6244 - val_AUC: 0.8462 - val_Precision: 0.0676 - val_Recall: 0.9000 - val_loss: 0.5959\n",
      "Epoch 9/200\n",
      "\u001b[1m1148/1148\u001b[0m \u001b[32m━━━━━━━━━━━━━━━━━━━━\u001b[0m\u001b[37m\u001b[0m \u001b[1m44s\u001b[0m 39ms/step - AUC: 0.8631 - Precision: 0.0642 - Recall: 0.9589 - loss: 0.6143 - val_AUC: 0.8462 - val_Precision: 0.0720 - val_Recall: 0.8722 - val_loss: 0.5340\n",
      "Epoch 10/200\n",
      "\u001b[1m1148/1148\u001b[0m \u001b[32m━━━━━━━━━━━━━━━━━━━━\u001b[0m\u001b[37m\u001b[0m \u001b[1m44s\u001b[0m 39ms/step - AUC: 0.8641 - Precision: 0.0629 - Recall: 0.9549 - loss: 0.6079 - val_AUC: 0.8540 - val_Precision: 0.0716 - val_Recall: 0.8722 - val_loss: 0.5373\n",
      "Epoch 11/200\n",
      "\u001b[1m1148/1148\u001b[0m \u001b[32m━━━━━━━━━━━━━━━━━━━━\u001b[0m\u001b[37m\u001b[0m \u001b[1m44s\u001b[0m 39ms/step - AUC: 0.8707 - Precision: 0.0655 - Recall: 0.9489 - loss: 0.5968 - val_AUC: 0.8494 - val_Precision: 0.0750 - val_Recall: 0.8278 - val_loss: 0.4835\n",
      "Epoch 12/200\n",
      "\u001b[1m1148/1148\u001b[0m \u001b[32m━━━━━━━━━━━━━━━━━━━━\u001b[0m\u001b[37m\u001b[0m \u001b[1m45s\u001b[0m 39ms/step - AUC: 0.8737 - Precision: 0.0649 - Recall: 0.9454 - loss: 0.5907 - val_AUC: 0.8460 - val_Precision: 0.0913 - val_Recall: 0.7444 - val_loss: 0.4031\n",
      "Epoch 13/200\n",
      "\u001b[1m1148/1148\u001b[0m \u001b[32m━━━━━━━━━━━━━━━━━━━━\u001b[0m\u001b[37m\u001b[0m \u001b[1m46s\u001b[0m 40ms/step - AUC: 0.8770 - Precision: 0.0693 - Recall: 0.9564 - loss: 0.5810 - val_AUC: 0.8541 - val_Precision: 0.0812 - val_Recall: 0.8037 - val_loss: 0.4578\n",
      "Epoch 14/200\n",
      "\u001b[1m1148/1148\u001b[0m \u001b[32m━━━━━━━━━━━━━━━━━━━━\u001b[0m\u001b[37m\u001b[0m \u001b[1m44s\u001b[0m 39ms/step - AUC: 0.8814 - Precision: 0.0702 - Recall: 0.9570 - loss: 0.5708 - val_AUC: 0.8549 - val_Precision: 0.0856 - val_Recall: 0.8259 - val_loss: 0.4491\n",
      "Epoch 15/200\n",
      "\u001b[1m1148/1148\u001b[0m \u001b[32m━━━━━━━━━━━━━━━━━━━━\u001b[0m\u001b[37m\u001b[0m \u001b[1m45s\u001b[0m 39ms/step - AUC: 0.8827 - Precision: 0.0730 - Recall: 0.9602 - loss: 0.5702 - val_AUC: 0.8511 - val_Precision: 0.0767 - val_Recall: 0.8574 - val_loss: 0.5078\n",
      "Epoch 16/200\n",
      "\u001b[1m1148/1148\u001b[0m \u001b[32m━━━━━━━━━━━━━━━━━━━━\u001b[0m\u001b[37m\u001b[0m \u001b[1m45s\u001b[0m 39ms/step - AUC: 0.8884 - Precision: 0.0685 - Recall: 0.9566 - loss: 0.5469 - val_AUC: 0.8504 - val_Precision: 0.0737 - val_Recall: 0.8815 - val_loss: 0.5386\n",
      "Epoch 17/200\n",
      "\u001b[1m1148/1148\u001b[0m \u001b[32m━━━━━━━━━━━━━━━━━━━━\u001b[0m\u001b[37m\u001b[0m \u001b[1m40s\u001b[0m 35ms/step - AUC: 0.8862 - Precision: 0.0681 - Recall: 0.9629 - loss: 0.5528 - val_AUC: 0.8549 - val_Precision: 0.0854 - val_Recall: 0.7926 - val_loss: 0.4218\n",
      "Epoch 18/200\n",
      "\u001b[1m1148/1148\u001b[0m \u001b[32m━━━━━━━━━━━━━━━━━━━━\u001b[0m\u001b[37m\u001b[0m \u001b[1m35s\u001b[0m 30ms/step - AUC: 0.8858 - Precision: 0.0710 - Recall: 0.9444 - loss: 0.5656 - val_AUC: 0.8470 - val_Precision: 0.0852 - val_Recall: 0.7648 - val_loss: 0.4368\n",
      "Epoch 19/200\n",
      "\u001b[1m1148/1148\u001b[0m \u001b[32m━━━━━━━━━━━━━━━━━━━━\u001b[0m\u001b[37m\u001b[0m \u001b[1m29s\u001b[0m 25ms/step - AUC: 0.8958 - Precision: 0.0764 - Recall: 0.9587 - loss: 0.5319 - val_AUC: 0.8620 - val_Precision: 0.0825 - val_Recall: 0.8630 - val_loss: 0.4740\n",
      "Epoch 20/200\n",
      "\u001b[1m1148/1148\u001b[0m \u001b[32m━━━━━━━━━━━━━━━━━━━━\u001b[0m\u001b[37m\u001b[0m \u001b[1m30s\u001b[0m 26ms/step - AUC: 0.8940 - Precision: 0.0742 - Recall: 0.9580 - loss: 0.5460 - val_AUC: 0.8557 - val_Precision: 0.0883 - val_Recall: 0.8111 - val_loss: 0.4456\n",
      "Epoch 21/200\n",
      "\u001b[1m1148/1148\u001b[0m \u001b[32m━━━━━━━━━━━━━━━━━━━━\u001b[0m\u001b[37m\u001b[0m \u001b[1m29s\u001b[0m 25ms/step - AUC: 0.8995 - Precision: 0.0786 - Recall: 0.9658 - loss: 0.5271 - val_AUC: 0.8561 - val_Precision: 0.0808 - val_Recall: 0.8204 - val_loss: 0.4462\n",
      "Epoch 22/200\n",
      "\u001b[1m1148/1148\u001b[0m \u001b[32m━━━━━━━━━━━━━━━━━━━━\u001b[0m\u001b[37m\u001b[0m \u001b[1m28s\u001b[0m 25ms/step - AUC: 0.9037 - Precision: 0.0751 - Recall: 0.9599 - loss: 0.5139 - val_AUC: 0.8591 - val_Precision: 0.0795 - val_Recall: 0.8574 - val_loss: 0.4993\n",
      "Epoch 23/200\n",
      "\u001b[1m1148/1148\u001b[0m \u001b[32m━━━━━━━━━━━━━━━━━━━━\u001b[0m\u001b[37m\u001b[0m \u001b[1m29s\u001b[0m 25ms/step - AUC: 0.9033 - Precision: 0.0742 - Recall: 0.9509 - loss: 0.5187 - val_AUC: 0.8529 - val_Precision: 0.0896 - val_Recall: 0.7519 - val_loss: 0.4046\n",
      "Epoch 24/200\n",
      "\u001b[1m1148/1148\u001b[0m \u001b[32m━━━━━━━━━━━━━━━━━━━━\u001b[0m\u001b[37m\u001b[0m \u001b[1m28s\u001b[0m 25ms/step - AUC: 0.9109 - Precision: 0.0833 - Recall: 0.9669 - loss: 0.4956 - val_AUC: 0.8436 - val_Precision: 0.0795 - val_Recall: 0.8074 - val_loss: 0.4776\n",
      "Epoch 25/200\n",
      "\u001b[1m1148/1148\u001b[0m \u001b[32m━━━━━━━━━━━━━━━━━━━━\u001b[0m\u001b[37m\u001b[0m \u001b[1m28s\u001b[0m 24ms/step - AUC: 0.9045 - Precision: 0.0822 - Recall: 0.9663 - loss: 0.5292 - val_AUC: 0.8589 - val_Precision: 0.0967 - val_Recall: 0.7778 - val_loss: 0.3837\n",
      "Epoch 26/200\n",
      "\u001b[1m1148/1148\u001b[0m \u001b[32m━━━━━━━━━━━━━━━━━━━━\u001b[0m\u001b[37m\u001b[0m \u001b[1m28s\u001b[0m 25ms/step - AUC: 0.9084 - Precision: 0.0842 - Recall: 0.9568 - loss: 0.5198 - val_AUC: 0.8473 - val_Precision: 0.1126 - val_Recall: 0.6352 - val_loss: 0.3407\n",
      "Epoch 27/200\n",
      "\u001b[1m1148/1148\u001b[0m \u001b[32m━━━━━━━━━━━━━━━━━━━━\u001b[0m\u001b[37m\u001b[0m \u001b[1m28s\u001b[0m 25ms/step - AUC: 0.9158 - Precision: 0.0838 - Recall: 0.9631 - loss: 0.4791 - val_AUC: 0.8411 - val_Precision: 0.1015 - val_Recall: 0.6778 - val_loss: 0.3871\n",
      "Epoch 28/200\n",
      "\u001b[1m1148/1148\u001b[0m \u001b[32m━━━━━━━━━━━━━━━━━━━━\u001b[0m\u001b[37m\u001b[0m \u001b[1m29s\u001b[0m 25ms/step - AUC: 0.9058 - Precision: 0.0810 - Recall: 0.9579 - loss: 0.5128 - val_AUC: 0.8458 - val_Precision: 0.0969 - val_Recall: 0.7019 - val_loss: 0.3761\n",
      "Epoch 29/200\n",
      "\u001b[1m1148/1148\u001b[0m \u001b[32m━━━━━━━━━━━━━━━━━━━━\u001b[0m\u001b[37m\u001b[0m \u001b[1m28s\u001b[0m 25ms/step - AUC: 0.9106 - Precision: 0.0796 - Recall: 0.9585 - loss: 0.4917 - val_AUC: 0.8337 - val_Precision: 0.0912 - val_Recall: 0.6963 - val_loss: 0.4205\n",
      "Epoch 30/200\n",
      "\u001b[1m1148/1148\u001b[0m \u001b[32m━━━━━━━━━━━━━━━━━━━━\u001b[0m\u001b[37m\u001b[0m \u001b[1m29s\u001b[0m 25ms/step - AUC: 0.9162 - Precision: 0.0864 - Recall: 0.9624 - loss: 0.4860 - val_AUC: 0.8436 - val_Precision: 0.0804 - val_Recall: 0.8019 - val_loss: 0.4707\n",
      "Epoch 31/200\n",
      "\u001b[1m1148/1148\u001b[0m \u001b[32m━━━━━━━━━━━━━━━━━━━━\u001b[0m\u001b[37m\u001b[0m \u001b[1m30s\u001b[0m 26ms/step - AUC: 0.9122 - Precision: 0.0847 - Recall: 0.9622 - loss: 0.4984 - val_AUC: 0.8400 - val_Precision: 0.1084 - val_Recall: 0.6426 - val_loss: 0.3443\n",
      "Epoch 32/200\n",
      "\u001b[1m1148/1148\u001b[0m \u001b[32m━━━━━━━━━━━━━━━━━━━━\u001b[0m\u001b[37m\u001b[0m \u001b[1m30s\u001b[0m 26ms/step - AUC: 0.9185 - Precision: 0.0894 - Recall: 0.9603 - loss: 0.4748 - val_AUC: 0.8436 - val_Precision: 0.0973 - val_Recall: 0.7037 - val_loss: 0.3697\n",
      "Epoch 33/200\n",
      "\u001b[1m1148/1148\u001b[0m \u001b[32m━━━━━━━━━━━━━━━━━━━━\u001b[0m\u001b[37m\u001b[0m \u001b[1m30s\u001b[0m 26ms/step - AUC: 0.9152 - Precision: 0.0865 - Recall: 0.9606 - loss: 0.4925 - val_AUC: 0.8627 - val_Precision: 0.0910 - val_Recall: 0.8074 - val_loss: 0.4272\n",
      "Epoch 34/200\n",
      "\u001b[1m1148/1148\u001b[0m \u001b[32m━━━━━━━━━━━━━━━━━━━━\u001b[0m\u001b[37m\u001b[0m \u001b[1m28s\u001b[0m 25ms/step - AUC: 0.9165 - Precision: 0.0875 - Recall: 0.9685 - loss: 0.4861 - val_AUC: 0.8302 - val_Precision: 0.0863 - val_Recall: 0.6944 - val_loss: 0.4148\n",
      "Epoch 35/200\n",
      "\u001b[1m1148/1148\u001b[0m \u001b[32m━━━━━━━━━━━━━━━━━━━━\u001b[0m\u001b[37m\u001b[0m \u001b[1m29s\u001b[0m 25ms/step - AUC: 0.9237 - Precision: 0.0937 - Recall: 0.9650 - loss: 0.4637 - val_AUC: 0.8544 - val_Precision: 0.0889 - val_Recall: 0.7907 - val_loss: 0.4312\n",
      "Epoch 36/200\n",
      "\u001b[1m1148/1148\u001b[0m \u001b[32m━━━━━━━━━━━━━━━━━━━━\u001b[0m\u001b[37m\u001b[0m \u001b[1m28s\u001b[0m 24ms/step - AUC: 0.9220 - Precision: 0.0886 - Recall: 0.9667 - loss: 0.4686 - val_AUC: 0.8435 - val_Precision: 0.0953 - val_Recall: 0.6833 - val_loss: 0.3673\n",
      "Epoch 37/200\n",
      "\u001b[1m1148/1148\u001b[0m \u001b[32m━━━━━━━━━━━━━━━━━━━━\u001b[0m\u001b[37m\u001b[0m \u001b[1m29s\u001b[0m 25ms/step - AUC: 0.9233 - Precision: 0.0939 - Recall: 0.9707 - loss: 0.4670 - val_AUC: 0.8457 - val_Precision: 0.1025 - val_Recall: 0.6704 - val_loss: 0.3466\n",
      "Epoch 38/200\n",
      "\u001b[1m1148/1148\u001b[0m \u001b[32m━━━━━━━━━━━━━━━━━━━━\u001b[0m\u001b[37m\u001b[0m \u001b[1m29s\u001b[0m 25ms/step - AUC: 0.9277 - Precision: 0.0956 - Recall: 0.9634 - loss: 0.4551 - val_AUC: 0.8387 - val_Precision: 0.1101 - val_Recall: 0.6148 - val_loss: 0.3466\n",
      "Epoch 39/200\n",
      "\u001b[1m1148/1148\u001b[0m \u001b[32m━━━━━━━━━━━━━━━━━━━━\u001b[0m\u001b[37m\u001b[0m \u001b[1m28s\u001b[0m 24ms/step - AUC: 0.9263 - Precision: 0.0930 - Recall: 0.9519 - loss: 0.4606 - val_AUC: 0.8478 - val_Precision: 0.0911 - val_Recall: 0.7370 - val_loss: 0.4234\n",
      "Epoch 40/200\n",
      "\u001b[1m1148/1148\u001b[0m \u001b[32m━━━━━━━━━━━━━━━━━━━━\u001b[0m\u001b[37m\u001b[0m \u001b[1m29s\u001b[0m 25ms/step - AUC: 0.9265 - Precision: 0.0910 - Recall: 0.9580 - loss: 0.4531 - val_AUC: 0.8544 - val_Precision: 0.1068 - val_Recall: 0.7148 - val_loss: 0.3560\n",
      "Epoch 41/200\n",
      "\u001b[1m1148/1148\u001b[0m \u001b[32m━━━━━━━━━━━━━━━━━━━━\u001b[0m\u001b[37m\u001b[0m \u001b[1m29s\u001b[0m 25ms/step - AUC: 0.9280 - Precision: 0.0947 - Recall: 0.9599 - loss: 0.4552 - val_AUC: 0.8430 - val_Precision: 0.0950 - val_Recall: 0.6944 - val_loss: 0.3813\n",
      "Epoch 41: early stopping\n",
      "Restoring model weights from the end of the best epoch: 26.\n"
     ]
    }
   ],
   "source": [
    "from tensorflow.keras.models import Sequential\n",
    "from tensorflow.keras.layers import Dense, Dropout, BatchNormalization\n",
    "from tensorflow.keras.optimizers import Nadam\n",
    "from tensorflow.keras.callbacks import EarlyStopping\n",
    "\n",
    "# 모델 구성\n",
    "model = Sequential([\n",
    "    Dense(256, input_shape=(X_train.shape[1],), activation='relu'),\n",
    "    BatchNormalization(),\n",
    "    Dropout(0.3),\n",
    "\n",
    "    Dense(128, activation='relu'),\n",
    "    BatchNormalization(),\n",
    "    Dropout(0.3),\n",
    "\n",
    "    Dense(64, activation='relu'),\n",
    "    BatchNormalization(),\n",
    "    Dropout(0.2),\n",
    "\n",
    "    Dense(1, activation='sigmoid')\n",
    "])\n",
    "\n",
    "# 옵티마이저: 진동 완화에 효과적인 Nadam\n",
    "optimizer = Nadam(learning_rate=0.001)\n",
    "\n",
    "# 모델 컴파일\n",
    "model.compile(\n",
    "    loss='binary_crossentropy',\n",
    "    optimizer=optimizer,\n",
    "    metrics=['Recall', 'Precision', 'AUC']\n",
    ")\n",
    "\n",
    "# 얼리스타핑 설정\n",
    "early_stop = EarlyStopping(\n",
    "    monitor='val_loss',\n",
    "    patience=15,\n",
    "    restore_best_weights=True,\n",
    "    verbose=1\n",
    ")\n",
    "\n",
    "# 학습\n",
    "history = model.fit(\n",
    "    X_train, y_train,\n",
    "    validation_data=(X_test, y_test),\n",
    "    epochs=200,\n",
    "    batch_size=64,\n",
    "    callbacks=[early_stop],\n",
    "    class_weight=class_weights,  # 앞에서 계산한 클래스 가중치\n",
    "    verbose=1\n",
    ")\n"
   ]
  },
  {
   "cell_type": "code",
   "execution_count": 9,
   "id": "f838a6ea",
   "metadata": {},
   "outputs": [
    {
     "data": {
      "image/png": "[encoded data removed]",
      "text/plain": [
       "<Figure size 800x600 with 1 Axes>"
      ]
     },
     "metadata": {},
     "output_type": "display_data"
    }
   ],
   "source": [
    "import matplotlib.pyplot as plt\n",
    "\n",
    "plt.figure(figsize=(8, 6))\n",
    "plt.plot(history.history['loss'], label='Train Loss')\n",
    "plt.plot(history.history['val_loss'], label='Val Loss')\n",
    "plt.xlabel('Epoch')\n",
    "plt.ylabel('Loss')\n",
    "plt.title('Training vs Validation Loss')\n",
    "plt.legend()\n",
    "plt.grid(True)\n",
    "plt.show()\n"
   ]
  },
  {
   "cell_type": "code",
   "execution_count": 10,
   "id": "a6b2c87c",
   "metadata": {},
   "outputs": [
    {
     "name": "stderr",
     "output_type": "stream",
     "text": [
      "2025-07-10 16:41:56.640162: E tensorflow/core/grappler/optimizers/meta_optimizer.cc:961] PluggableGraphOptimizer failed: INVALID_ARGUMENT: Failed to deserialize the `graph_buf`.\n"
     ]
    },
    {
     "name": "stdout",
     "output_type": "stream",
     "text": [
      "\u001b[1m574/574\u001b[0m \u001b[32m━━━━━━━━━━━━━━━━━━━━\u001b[0m\u001b[37m\u001b[0m \u001b[1m1s\u001b[0m 2ms/step\n",
      "🔹 Confusion Matrix:\n",
      "[[15121  2704]\n",
      " [  197   343]]\n",
      "\n",
      "🔹 Classification Report:\n",
      "              precision    recall  f1-score   support\n",
      "\n",
      "           0     0.9871    0.8483    0.9125     17825\n",
      "           1     0.1126    0.6352    0.1912       540\n",
      "\n",
      "    accuracy                         0.8420     18365\n",
      "   macro avg     0.5499    0.7417    0.5519     18365\n",
      "weighted avg     0.9614    0.8420    0.8913     18365\n",
      "\n"
     ]
    }
   ],
   "source": [
    "from sklearn.metrics import classification_report, confusion_matrix\n",
    "\n",
    "# 예측 (확률값 → 0/1 이진 변환)\n",
    "y_pred_prob = model.predict(X_test)\n",
    "y_pred = (y_pred_prob > 0.5).astype(int)\n",
    "\n",
    "# 혼동 행렬\n",
    "print(\"🔹 Confusion Matrix:\")\n",
    "print(confusion_matrix(y_test, y_pred))\n",
    "\n",
    "# 분류 리포트\n",
    "print(\"\\n🔹 Classification Report:\")\n",
    "print(classification_report(y_test, y_pred, digits=4))\n"
   ]
  },
  {
   "cell_type": "code",
   "execution_count": 14,
   "id": "69940571",
   "metadata": {},
   "outputs": [],
   "source": [
    "import pandas as pd\n",
    "import numpy as np\n",
    "from sklearn.preprocessing import StandardScaler\n",
    "\n",
    "# CSV 파일 불러오기 (현재 경로에 있는 df_건설.csv 기준)\n",
    "df = pd.read_csv(\"피처 더 추가함.csv\")\n",
    "\n",
    "# 타겟 컬럼 정의\n",
    "target_col = '부도여부'  # 실제 부도 컬럼명으로 교체 필요할 수도 있음\n",
    "X = df.drop(columns=[target_col])\n",
    "y = df[target_col]\n",
    "\n",
    "# 문자형 컬럼 제거 (예: 업종(대분류) 등)\n",
    "X = X.select_dtypes(include=[np.number])\n",
    "\n",
    "# 결측치 처리 (모두 0으로 대체, 다른 방식 원하면 알려줘)\n",
    "X.fillna(0, inplace=True)\n",
    "\n",
    "# 정규화\n",
    "scaler = StandardScaler()\n",
    "X_scaled = scaler.fit_transform(X)\n"
   ]
  },
  {
   "cell_type": "code",
   "execution_count": 15,
   "id": "150ea850",
   "metadata": {},
   "outputs": [
    {
     "name": "stdout",
     "output_type": "stream",
     "text": [
      "Epoch 1/100\n"
     ]
    },
    {
     "name": "stderr",
     "output_type": "stream",
     "text": [
      "2025-07-10 16:54:04.277913: E tensorflow/core/grappler/optimizers/meta_optimizer.cc:961] PluggableGraphOptimizer failed: INVALID_ARGUMENT: Failed to deserialize the `graph_buf`.\n"
     ]
    },
    {
     "name": "stdout",
     "output_type": "stream",
     "text": [
      "\u001b[1m349/349\u001b[0m \u001b[32m━━━━━━━━━━━━━━━━━━━━\u001b[0m\u001b[37m\u001b[0m \u001b[1m7s\u001b[0m 15ms/step - loss: 0.7632\n",
      "Epoch 2/100\n",
      "\u001b[1m349/349\u001b[0m \u001b[32m━━━━━━━━━━━━━━━━━━━━\u001b[0m\u001b[37m\u001b[0m \u001b[1m4s\u001b[0m 11ms/step - loss: 0.5367\n",
      "Epoch 3/100\n",
      "\u001b[1m349/349\u001b[0m \u001b[32m━━━━━━━━━━━━━━━━━━━━\u001b[0m\u001b[37m\u001b[0m \u001b[1m5s\u001b[0m 13ms/step - loss: 0.4226\n",
      "Epoch 4/100\n",
      "\u001b[1m349/349\u001b[0m \u001b[32m━━━━━━━━━━━━━━━━━━━━\u001b[0m\u001b[37m\u001b[0m \u001b[1m4s\u001b[0m 11ms/step - loss: 0.4246\n",
      "Epoch 5/100\n",
      "\u001b[1m349/349\u001b[0m \u001b[32m━━━━━━━━━━━━━━━━━━━━\u001b[0m\u001b[37m\u001b[0m \u001b[1m4s\u001b[0m 11ms/step - loss: 0.3760\n",
      "Epoch 6/100\n",
      "\u001b[1m349/349\u001b[0m \u001b[32m━━━━━━━━━━━━━━━━━━━━\u001b[0m\u001b[37m\u001b[0m \u001b[1m4s\u001b[0m 10ms/step - loss: 0.3476\n",
      "Epoch 7/100\n",
      "\u001b[1m349/349\u001b[0m \u001b[32m━━━━━━━━━━━━━━━━━━━━\u001b[0m\u001b[37m\u001b[0m \u001b[1m3s\u001b[0m 10ms/step - loss: 0.3572\n",
      "Epoch 8/100\n",
      "\u001b[1m349/349\u001b[0m \u001b[32m━━━━━━━━━━━━━━━━━━━━\u001b[0m\u001b[37m\u001b[0m \u001b[1m4s\u001b[0m 11ms/step - loss: 0.2885\n",
      "Epoch 9/100\n",
      "\u001b[1m349/349\u001b[0m \u001b[32m━━━━━━━━━━━━━━━━━━━━\u001b[0m\u001b[37m\u001b[0m \u001b[1m4s\u001b[0m 11ms/step - loss: 0.2708\n",
      "Epoch 10/100\n",
      "\u001b[1m349/349\u001b[0m \u001b[32m━━━━━━━━━━━━━━━━━━━━\u001b[0m\u001b[37m\u001b[0m \u001b[1m3s\u001b[0m 9ms/step - loss: 0.2659\n",
      "Epoch 11/100\n",
      "\u001b[1m349/349\u001b[0m \u001b[32m━━━━━━━━━━━━━━━━━━━━\u001b[0m\u001b[37m\u001b[0m \u001b[1m3s\u001b[0m 9ms/step - loss: 0.2381\n",
      "Epoch 12/100\n",
      "\u001b[1m349/349\u001b[0m \u001b[32m━━━━━━━━━━━━━━━━━━━━\u001b[0m\u001b[37m\u001b[0m \u001b[1m3s\u001b[0m 9ms/step - loss: 0.2378\n",
      "Epoch 13/100\n",
      "\u001b[1m349/349\u001b[0m \u001b[32m━━━━━━━━━━━━━━━━━━━━\u001b[0m\u001b[37m\u001b[0m \u001b[1m3s\u001b[0m 10ms/step - loss: 0.2585\n",
      "Epoch 14/100\n",
      "\u001b[1m349/349\u001b[0m \u001b[32m━━━━━━━━━━━━━━━━━━━━\u001b[0m\u001b[37m\u001b[0m \u001b[1m3s\u001b[0m 10ms/step - loss: 0.2268\n",
      "Epoch 15/100\n",
      "\u001b[1m349/349\u001b[0m \u001b[32m━━━━━━━━━━━━━━━━━━━━\u001b[0m\u001b[37m\u001b[0m \u001b[1m3s\u001b[0m 9ms/step - loss: 0.2581\n",
      "Epoch 16/100\n",
      "\u001b[1m349/349\u001b[0m \u001b[32m━━━━━━━━━━━━━━━━━━━━\u001b[0m\u001b[37m\u001b[0m \u001b[1m3s\u001b[0m 9ms/step - loss: 0.2059\n",
      "Epoch 17/100\n",
      "\u001b[1m349/349\u001b[0m \u001b[32m━━━━━━━━━━━━━━━━━━━━\u001b[0m\u001b[37m\u001b[0m \u001b[1m3s\u001b[0m 10ms/step - loss: 0.1962\n",
      "Epoch 18/100\n",
      "\u001b[1m349/349\u001b[0m \u001b[32m━━━━━━━━━━━━━━━━━━━━\u001b[0m\u001b[37m\u001b[0m \u001b[1m3s\u001b[0m 9ms/step - loss: 0.2051\n",
      "Epoch 19/100\n",
      "\u001b[1m349/349\u001b[0m \u001b[32m━━━━━━━━━━━━━━━━━━━━\u001b[0m\u001b[37m\u001b[0m \u001b[1m3s\u001b[0m 9ms/step - loss: 0.1947\n",
      "Epoch 20/100\n",
      "\u001b[1m349/349\u001b[0m \u001b[32m━━━━━━━━━━━━━━━━━━━━\u001b[0m\u001b[37m\u001b[0m \u001b[1m3s\u001b[0m 9ms/step - loss: 0.1658\n",
      "Epoch 21/100\n",
      "\u001b[1m349/349\u001b[0m \u001b[32m━━━━━━━━━━━━━━━━━━━━\u001b[0m\u001b[37m\u001b[0m \u001b[1m3s\u001b[0m 9ms/step - loss: 0.1972\n",
      "Epoch 22/100\n",
      "\u001b[1m349/349\u001b[0m \u001b[32m━━━━━━━━━━━━━━━━━━━━\u001b[0m\u001b[37m\u001b[0m \u001b[1m3s\u001b[0m 9ms/step - loss: 0.1803\n",
      "Epoch 23/100\n",
      "\u001b[1m349/349\u001b[0m \u001b[32m━━━━━━━━━━━━━━━━━━━━\u001b[0m\u001b[37m\u001b[0m \u001b[1m3s\u001b[0m 9ms/step - loss: 0.1773\n",
      "Epoch 24/100\n",
      "\u001b[1m349/349\u001b[0m \u001b[32m━━━━━━━━━━━━━━━━━━━━\u001b[0m\u001b[37m\u001b[0m \u001b[1m3s\u001b[0m 9ms/step - loss: 0.1627\n",
      "Epoch 25/100\n",
      "\u001b[1m349/349\u001b[0m \u001b[32m━━━━━━━━━━━━━━━━━━━━\u001b[0m\u001b[37m\u001b[0m \u001b[1m3s\u001b[0m 9ms/step - loss: 0.1601\n",
      "Epoch 26/100\n",
      "\u001b[1m349/349\u001b[0m \u001b[32m━━━━━━━━━━━━━━━━━━━━\u001b[0m\u001b[37m\u001b[0m \u001b[1m3s\u001b[0m 9ms/step - loss: 0.1603\n",
      "Epoch 27/100\n",
      "\u001b[1m349/349\u001b[0m \u001b[32m━━━━━━━━━━━━━━━━━━━━\u001b[0m\u001b[37m\u001b[0m \u001b[1m4s\u001b[0m 10ms/step - loss: 0.1411\n",
      "Epoch 28/100\n",
      "\u001b[1m349/349\u001b[0m \u001b[32m━━━━━━━━━━━━━━━━━━━━\u001b[0m\u001b[37m\u001b[0m \u001b[1m4s\u001b[0m 11ms/step - loss: 0.1611\n",
      "Epoch 29/100\n",
      "\u001b[1m349/349\u001b[0m \u001b[32m━━━━━━━━━━━━━━━━━━━━\u001b[0m\u001b[37m\u001b[0m \u001b[1m4s\u001b[0m 10ms/step - loss: 0.1535\n",
      "Epoch 30/100\n",
      "\u001b[1m349/349\u001b[0m \u001b[32m━━━━━━━━━━━━━━━━━━━━\u001b[0m\u001b[37m\u001b[0m \u001b[1m3s\u001b[0m 10ms/step - loss: 0.1812\n",
      "Epoch 31/100\n",
      "\u001b[1m349/349\u001b[0m \u001b[32m━━━━━━━━━━━━━━━━━━━━\u001b[0m\u001b[37m\u001b[0m \u001b[1m4s\u001b[0m 10ms/step - loss: 0.1740\n",
      "Epoch 32/100\n",
      "\u001b[1m349/349\u001b[0m \u001b[32m━━━━━━━━━━━━━━━━━━━━\u001b[0m\u001b[37m\u001b[0m \u001b[1m3s\u001b[0m 10ms/step - loss: 0.1474\n",
      "Epoch 33/100\n",
      "\u001b[1m349/349\u001b[0m \u001b[32m━━━━━━━━━━━━━━━━━━━━\u001b[0m\u001b[37m\u001b[0m \u001b[1m3s\u001b[0m 10ms/step - loss: 0.1369\n",
      "Epoch 34/100\n",
      "\u001b[1m349/349\u001b[0m \u001b[32m━━━━━━━━━━━━━━━━━━━━\u001b[0m\u001b[37m\u001b[0m \u001b[1m3s\u001b[0m 10ms/step - loss: 0.1419\n",
      "Epoch 35/100\n",
      "\u001b[1m349/349\u001b[0m \u001b[32m━━━━━━━━━━━━━━━━━━━━\u001b[0m\u001b[37m\u001b[0m \u001b[1m3s\u001b[0m 10ms/step - loss: 0.1456\n",
      "Epoch 36/100\n",
      "\u001b[1m349/349\u001b[0m \u001b[32m━━━━━━━━━━━━━━━━━━━━\u001b[0m\u001b[37m\u001b[0m \u001b[1m3s\u001b[0m 10ms/step - loss: 0.1395\n",
      "Epoch 37/100\n",
      "\u001b[1m349/349\u001b[0m \u001b[32m━━━━━━━━━━━━━━━━━━━━\u001b[0m\u001b[37m\u001b[0m \u001b[1m3s\u001b[0m 10ms/step - loss: 0.1455\n",
      "Epoch 38/100\n",
      "\u001b[1m349/349\u001b[0m \u001b[32m━━━━━━━━━━━━━━━━━━━━\u001b[0m\u001b[37m\u001b[0m \u001b[1m3s\u001b[0m 10ms/step - loss: 0.1538\n",
      "Epoch 39/100\n",
      "\u001b[1m349/349\u001b[0m \u001b[32m━━━━━━━━━━━━━━━━━━━━\u001b[0m\u001b[37m\u001b[0m \u001b[1m3s\u001b[0m 10ms/step - loss: 0.1334\n",
      "Epoch 40/100\n",
      "\u001b[1m349/349\u001b[0m \u001b[32m━━━━━━━━━━━━━━━━━━━━\u001b[0m\u001b[37m\u001b[0m \u001b[1m3s\u001b[0m 10ms/step - loss: 0.1652\n",
      "Epoch 41/100\n",
      "\u001b[1m349/349\u001b[0m \u001b[32m━━━━━━━━━━━━━━━━━━━━\u001b[0m\u001b[37m\u001b[0m \u001b[1m3s\u001b[0m 10ms/step - loss: 0.1219\n",
      "Epoch 42/100\n",
      "\u001b[1m349/349\u001b[0m \u001b[32m━━━━━━━━━━━━━━━━━━━━\u001b[0m\u001b[37m\u001b[0m \u001b[1m3s\u001b[0m 10ms/step - loss: 0.1225\n",
      "Epoch 43/100\n",
      "\u001b[1m349/349\u001b[0m \u001b[32m━━━━━━━━━━━━━━━━━━━━\u001b[0m\u001b[37m\u001b[0m \u001b[1m3s\u001b[0m 10ms/step - loss: 0.1294\n",
      "Epoch 44/100\n",
      "\u001b[1m349/349\u001b[0m \u001b[32m━━━━━━━━━━━━━━━━━━━━\u001b[0m\u001b[37m\u001b[0m \u001b[1m3s\u001b[0m 10ms/step - loss: 0.1283\n",
      "Epoch 45/100\n",
      "\u001b[1m349/349\u001b[0m \u001b[32m━━━━━━━━━━━━━━━━━━━━\u001b[0m\u001b[37m\u001b[0m \u001b[1m3s\u001b[0m 10ms/step - loss: 0.1339\n",
      "Epoch 46/100\n",
      "\u001b[1m349/349\u001b[0m \u001b[32m━━━━━━━━━━━━━━━━━━━━\u001b[0m\u001b[37m\u001b[0m \u001b[1m3s\u001b[0m 10ms/step - loss: 0.1443\n"
     ]
    }
   ],
   "source": [
    "import tensorflow as tf\n",
    "from tensorflow.keras import layers, models, callbacks\n",
    "\n",
    "# 정상 클래스만 추출 (부도 아님: 0)\n",
    "X_normal = X_scaled[y == 0]\n",
    "\n",
    "# 오토인코더 모델 정의 (입력 크기 기반)\n",
    "input_dim = X_normal.shape[1]\n",
    "\n",
    "autoencoder = models.Sequential([\n",
    "    layers.Input(shape=(input_dim,)),\n",
    "    layers.Dense(128, activation='relu'),\n",
    "    layers.Dense(64, activation='relu'),\n",
    "    layers.Dense(32, activation='relu'),\n",
    "    layers.Dense(64, activation='relu'),\n",
    "    layers.Dense(128, activation='relu'),\n",
    "    layers.Dense(input_dim, activation='linear')\n",
    "])\n",
    "\n",
    "autoencoder.compile(optimizer=tf.keras.optimizers.Adam(learning_rate=0.001),\n",
    "                    loss='mse')\n",
    "\n",
    "# 콜백 설정\n",
    "early_stop = callbacks.EarlyStopping(monitor='loss', patience=5, restore_best_weights=True)\n",
    "\n",
    "# 학습\n",
    "history = autoencoder.fit(\n",
    "    X_normal, X_normal,\n",
    "    epochs=100,\n",
    "    batch_size=256,\n",
    "    shuffle=True,\n",
    "    callbacks=[early_stop],\n",
    "    verbose=1\n",
    ")\n"
   ]
  },
  {
   "cell_type": "code",
   "execution_count": 16,
   "id": "d31a1e36",
   "metadata": {},
   "outputs": [
    {
     "name": "stderr",
     "output_type": "stream",
     "text": [
      "2025-07-10 16:57:18.296581: E tensorflow/core/grappler/optimizers/meta_optimizer.cc:961] PluggableGraphOptimizer failed: INVALID_ARGUMENT: Failed to deserialize the `graph_buf`.\n"
     ]
    },
    {
     "name": "stdout",
     "output_type": "stream",
     "text": [
      "\u001b[1m2870/2870\u001b[0m \u001b[32m━━━━━━━━━━━━━━━━━━━━\u001b[0m\u001b[37m\u001b[0m \u001b[1m4s\u001b[0m 1ms/step\n",
      "🔸 재구성 오차 임계값: 0.4112\n",
      "\n",
      "🔹 Confusion Matrix:\n",
      "[[84667  4457]\n",
      " [ 2329   371]]\n",
      "\n",
      "🔹 Classification Report:\n",
      "              precision    recall  f1-score   support\n",
      "\n",
      "           0     0.9732    0.9500    0.9615     89124\n",
      "           1     0.0768    0.1374    0.0986      2700\n",
      "\n",
      "    accuracy                         0.9261     91824\n",
      "   macro avg     0.5250    0.5437    0.5300     91824\n",
      "weighted avg     0.9469    0.9261    0.9361     91824\n",
      "\n"
     ]
    }
   ],
   "source": [
    "import numpy as np\n",
    "from sklearn.metrics import classification_report, confusion_matrix\n",
    "\n",
    "# 모든 데이터에 대해 재구성 (예측)\n",
    "X_pred = autoencoder.predict(X_scaled)\n",
    "reconstruction_error = np.mean(np.square(X_scaled - X_pred), axis=1)\n",
    "\n",
    "# 재구성 오차 기준 임계값 설정 (정상 데이터의 95% 수준)\n",
    "threshold = np.percentile(reconstruction_error[y == 0], 95)\n",
    "print(f\"🔸 재구성 오차 임계값: {threshold:.4f}\")\n",
    "\n",
    "# 이상 여부 판별\n",
    "y_pred = (reconstruction_error > threshold).astype(int)\n",
    "\n",
    "# 성능 평가\n",
    "print(\"\\n🔹 Confusion Matrix:\")\n",
    "print(confusion_matrix(y, y_pred))\n",
    "\n",
    "print(\"\\n🔹 Classification Report:\")\n",
    "print(classification_report(y, y_pred, digits=4))\n"
   ]
  },
  {
   "cell_type": "code",
   "execution_count": 17,
   "id": "3d39eb06",
   "metadata": {},
   "outputs": [],
   "source": [
    "from tensorflow.keras import layers, models\n",
    "\n",
    "input_dim = X.shape[1]\n",
    "encoding_dim = 64  # 축소 차원\n",
    "\n",
    "# 인코더 모델 정의\n",
    "encoder_input = layers.Input(shape=(input_dim,))\n",
    "x = layers.Dense(128, activation='relu')(encoder_input)\n",
    "x = layers.Dense(64, activation='relu')(x)\n",
    "encoder_output = layers.Dense(encoding_dim, activation='relu')(x)\n",
    "\n",
    "encoder_model = models.Model(encoder_input, encoder_output)\n"
   ]
  },
  {
   "cell_type": "code",
   "execution_count": 18,
   "id": "faa0c0e4",
   "metadata": {},
   "outputs": [],
   "source": [
    "# 입력은 인코더 입력과 동일하게 유지\n",
    "from tensorflow.keras import regularizers\n",
    "\n",
    "x = encoder_model(encoder_input)  # 인코더 출력 사용\n",
    "x = layers.Dense(64, activation='relu')(x)\n",
    "x = layers.Dropout(0.3)(x)\n",
    "x = layers.Dense(32, activation='relu', kernel_regularizer=regularizers.l2(1e-4))(x)\n",
    "classifier_output = layers.Dense(1, activation='sigmoid')(x)\n",
    "\n",
    "# 최종 모델\n",
    "classifier_model = models.Model(inputs=encoder_input, outputs=classifier_output)\n"
   ]
  },
  {
   "cell_type": "code",
   "execution_count": 20,
   "id": "54ccb4cc",
   "metadata": {},
   "outputs": [],
   "source": [
    "from sklearn.preprocessing import StandardScaler\n",
    "from sklearn.model_selection import train_test_split\n",
    "\n",
    "# 스케일러 준비\n",
    "scaler = StandardScaler()\n",
    "\n",
    "# 정규화 (전체 X에 대해 fit_transform → train/test 분리 후 transform해도 됨)\n",
    "X_scaled = scaler.fit_transform(X)  # `X`는 네가 정의한 feature 데이터프레임이어야 함\n",
    "y = df[target_col]                  # target_col은 '부도 여부'와 같은 라벨 컬럼\n",
    "\n",
    "# 학습/테스트 셋 분리\n",
    "X_train_scaled, X_test_scaled, y_train, y_test = train_test_split(\n",
    "    X_scaled, y, test_size=0.2, stratify=y, random_state=42\n",
    ")\n"
   ]
  },
  {
   "cell_type": "code",
   "execution_count": 21,
   "id": "bbfe1542",
   "metadata": {},
   "outputs": [
    {
     "name": "stdout",
     "output_type": "stream",
     "text": [
      "Epoch 1/100\n"
     ]
    },
    {
     "name": "stderr",
     "output_type": "stream",
     "text": [
      "2025-07-10 17:00:05.081399: E tensorflow/core/grappler/optimizers/meta_optimizer.cc:961] PluggableGraphOptimizer failed: INVALID_ARGUMENT: Failed to deserialize the `graph_buf`.\n"
     ]
    },
    {
     "name": "stdout",
     "output_type": "stream",
     "text": [
      "\u001b[1m230/230\u001b[0m \u001b[32m━━━━━━━━━━━━━━━━━━━━\u001b[0m\u001b[37m\u001b[0m \u001b[1m8s\u001b[0m 24ms/step - accuracy: 0.3031 - auc_2: 0.6886 - loss: 0.9183 - recall_3: 0.8753 - val_accuracy: 0.4863 - val_auc_2: 0.8294 - val_loss: 0.9626 - val_recall_3: 0.9494\n",
      "Epoch 2/100\n",
      "\u001b[1m230/230\u001b[0m \u001b[32m━━━━━━━━━━━━━━━━━━━━\u001b[0m\u001b[37m\u001b[0m \u001b[1m4s\u001b[0m 19ms/step - accuracy: 0.5351 - auc_2: 0.8306 - loss: 0.7112 - recall_3: 0.9412 - val_accuracy: 0.5780 - val_auc_2: 0.8416 - val_loss: 0.7333 - val_recall_3: 0.9190\n",
      "Epoch 3/100\n",
      "\u001b[1m230/230\u001b[0m \u001b[32m━━━━━━━━━━━━━━━━━━━━\u001b[0m\u001b[37m\u001b[0m \u001b[1m4s\u001b[0m 15ms/step - accuracy: 0.5739 - auc_2: 0.8583 - loss: 0.6322 - recall_3: 0.9610 - val_accuracy: 0.5658 - val_auc_2: 0.8517 - val_loss: 0.7774 - val_recall_3: 0.9468\n",
      "Epoch 4/100\n",
      "\u001b[1m230/230\u001b[0m \u001b[32m━━━━━━━━━━━━━━━━━━━━\u001b[0m\u001b[37m\u001b[0m \u001b[1m3s\u001b[0m 15ms/step - accuracy: 0.5908 - auc_2: 0.8678 - loss: 0.6213 - recall_3: 0.9683 - val_accuracy: 0.5766 - val_auc_2: 0.8592 - val_loss: 0.7603 - val_recall_3: 0.9392\n",
      "Epoch 5/100\n",
      "\u001b[1m230/230\u001b[0m \u001b[32m━━━━━━━━━━━━━━━━━━━━\u001b[0m\u001b[37m\u001b[0m \u001b[1m3s\u001b[0m 15ms/step - accuracy: 0.6150 - auc_2: 0.8851 - loss: 0.5806 - recall_3: 0.9648 - val_accuracy: 0.5845 - val_auc_2: 0.8575 - val_loss: 0.6855 - val_recall_3: 0.9392\n",
      "Epoch 6/100\n",
      "\u001b[1m230/230\u001b[0m \u001b[32m━━━━━━━━━━━━━━━━━━━━\u001b[0m\u001b[37m\u001b[0m \u001b[1m3s\u001b[0m 15ms/step - accuracy: 0.6118 - auc_2: 0.8844 - loss: 0.5716 - recall_3: 0.9659 - val_accuracy: 0.5811 - val_auc_2: 0.8682 - val_loss: 0.7078 - val_recall_3: 0.9418\n",
      "Epoch 7/100\n",
      "\u001b[1m230/230\u001b[0m \u001b[32m━━━━━━━━━━━━━━━━━━━━\u001b[0m\u001b[37m\u001b[0m \u001b[1m3s\u001b[0m 15ms/step - accuracy: 0.6404 - auc_2: 0.9006 - loss: 0.5344 - recall_3: 0.9807 - val_accuracy: 0.5939 - val_auc_2: 0.8712 - val_loss: 0.7269 - val_recall_3: 0.9418\n",
      "Epoch 8/100\n",
      "\u001b[1m230/230\u001b[0m \u001b[32m━━━━━━━━━━━━━━━━━━━━\u001b[0m\u001b[37m\u001b[0m \u001b[1m3s\u001b[0m 15ms/step - accuracy: 0.6551 - auc_2: 0.9097 - loss: 0.4984 - recall_3: 0.9717 - val_accuracy: 0.6140 - val_auc_2: 0.8734 - val_loss: 0.7006 - val_recall_3: 0.9367\n",
      "Epoch 9/100\n",
      "\u001b[1m230/230\u001b[0m \u001b[32m━━━━━━━━━━━━━━━━━━━━\u001b[0m\u001b[37m\u001b[0m \u001b[1m4s\u001b[0m 15ms/step - accuracy: 0.6645 - auc_2: 0.9174 - loss: 0.4863 - recall_3: 0.9801 - val_accuracy: 0.6716 - val_auc_2: 0.8891 - val_loss: 0.5997 - val_recall_3: 0.9139\n",
      "Epoch 10/100\n",
      "\u001b[1m230/230\u001b[0m \u001b[32m━━━━━━━━━━━━━━━━━━━━\u001b[0m\u001b[37m\u001b[0m \u001b[1m3s\u001b[0m 15ms/step - accuracy: 0.6820 - auc_2: 0.9234 - loss: 0.4689 - recall_3: 0.9697 - val_accuracy: 0.6412 - val_auc_2: 0.8816 - val_loss: 0.6489 - val_recall_3: 0.9291\n",
      "Epoch 11/100\n",
      "\u001b[1m230/230\u001b[0m \u001b[32m━━━━━━━━━━━━━━━━━━━━\u001b[0m\u001b[37m\u001b[0m \u001b[1m3s\u001b[0m 15ms/step - accuracy: 0.6983 - auc_2: 0.9322 - loss: 0.4396 - recall_3: 0.9722 - val_accuracy: 0.6494 - val_auc_2: 0.8924 - val_loss: 0.7128 - val_recall_3: 0.9367\n",
      "Epoch 12/100\n",
      "\u001b[1m230/230\u001b[0m \u001b[32m━━━━━━━━━━━━━━━━━━━━\u001b[0m\u001b[37m\u001b[0m \u001b[1m3s\u001b[0m 15ms/step - accuracy: 0.7184 - auc_2: 0.9391 - loss: 0.4177 - recall_3: 0.9809 - val_accuracy: 0.6812 - val_auc_2: 0.8884 - val_loss: 0.6410 - val_recall_3: 0.9038\n",
      "Epoch 13/100\n",
      "\u001b[1m230/230\u001b[0m \u001b[32m━━━━━━━━━━━━━━━━━━━━\u001b[0m\u001b[37m\u001b[0m \u001b[1m4s\u001b[0m 15ms/step - accuracy: 0.7389 - auc_2: 0.9442 - loss: 0.4030 - recall_3: 0.9837 - val_accuracy: 0.7222 - val_auc_2: 0.8936 - val_loss: 0.5027 - val_recall_3: 0.8937\n",
      "Epoch 14/100\n",
      "\u001b[1m230/230\u001b[0m \u001b[32m━━━━━━━━━━━━━━━━━━━━\u001b[0m\u001b[37m\u001b[0m \u001b[1m3s\u001b[0m 15ms/step - accuracy: 0.7456 - auc_2: 0.9482 - loss: 0.3856 - recall_3: 0.9857 - val_accuracy: 0.7761 - val_auc_2: 0.8895 - val_loss: 0.4318 - val_recall_3: 0.8481\n",
      "Epoch 15/100\n",
      "\u001b[1m230/230\u001b[0m \u001b[32m━━━━━━━━━━━━━━━━━━━━\u001b[0m\u001b[37m\u001b[0m \u001b[1m4s\u001b[0m 15ms/step - accuracy: 0.7779 - auc_2: 0.9517 - loss: 0.3656 - recall_3: 0.9763 - val_accuracy: 0.7348 - val_auc_2: 0.8923 - val_loss: 0.5246 - val_recall_3: 0.8886\n",
      "Epoch 16/100\n",
      "\u001b[1m230/230\u001b[0m \u001b[32m━━━━━━━━━━━━━━━━━━━━\u001b[0m\u001b[37m\u001b[0m \u001b[1m4s\u001b[0m 15ms/step - accuracy: 0.7753 - auc_2: 0.9523 - loss: 0.3667 - recall_3: 0.9789 - val_accuracy: 0.7571 - val_auc_2: 0.9037 - val_loss: 0.4623 - val_recall_3: 0.8962\n",
      "Epoch 17/100\n",
      "\u001b[1m230/230\u001b[0m \u001b[32m━━━━━━━━━━━━━━━━━━━━\u001b[0m\u001b[37m\u001b[0m \u001b[1m3s\u001b[0m 15ms/step - accuracy: 0.7934 - auc_2: 0.9601 - loss: 0.3288 - recall_3: 0.9847 - val_accuracy: 0.7816 - val_auc_2: 0.8768 - val_loss: 0.4338 - val_recall_3: 0.8354\n",
      "Epoch 18/100\n",
      "\u001b[1m230/230\u001b[0m \u001b[32m━━━━━━━━━━━━━━━━━━━━\u001b[0m\u001b[37m\u001b[0m \u001b[1m4s\u001b[0m 15ms/step - accuracy: 0.8058 - auc_2: 0.9575 - loss: 0.3358 - recall_3: 0.9798 - val_accuracy: 0.7394 - val_auc_2: 0.8903 - val_loss: 0.5858 - val_recall_3: 0.8658\n",
      "Epoch 19/100\n",
      "\u001b[1m230/230\u001b[0m \u001b[32m━━━━━━━━━━━━━━━━━━━━\u001b[0m\u001b[37m\u001b[0m \u001b[1m4s\u001b[0m 15ms/step - accuracy: 0.7962 - auc_2: 0.9559 - loss: 0.3417 - recall_3: 0.9792 - val_accuracy: 0.7974 - val_auc_2: 0.8998 - val_loss: 0.4246 - val_recall_3: 0.8506\n",
      "Epoch 20/100\n",
      "\u001b[1m230/230\u001b[0m \u001b[32m━━━━━━━━━━━━━━━━━━━━\u001b[0m\u001b[37m\u001b[0m \u001b[1m3s\u001b[0m 15ms/step - accuracy: 0.8122 - auc_2: 0.9613 - loss: 0.3131 - recall_3: 0.9861 - val_accuracy: 0.6838 - val_auc_2: 0.8905 - val_loss: 0.7901 - val_recall_3: 0.8937\n",
      "Epoch 21/100\n",
      "\u001b[1m230/230\u001b[0m \u001b[32m━━━━━━━━━━━━━━━━━━━━\u001b[0m\u001b[37m\u001b[0m \u001b[1m4s\u001b[0m 15ms/step - accuracy: 0.8052 - auc_2: 0.9635 - loss: 0.3131 - recall_3: 0.9820 - val_accuracy: 0.7876 - val_auc_2: 0.8991 - val_loss: 0.4688 - val_recall_3: 0.8506\n",
      "Epoch 22/100\n",
      "\u001b[1m230/230\u001b[0m \u001b[32m━━━━━━━━━━━━━━━━━━━━\u001b[0m\u001b[37m\u001b[0m \u001b[1m3s\u001b[0m 15ms/step - accuracy: 0.8072 - auc_2: 0.9619 - loss: 0.3674 - recall_3: 0.9809 - val_accuracy: 0.8338 - val_auc_2: 0.9016 - val_loss: 0.3891 - val_recall_3: 0.8304\n",
      "Epoch 23/100\n",
      "\u001b[1m230/230\u001b[0m \u001b[32m━━━━━━━━━━━━━━━━━━━━\u001b[0m\u001b[37m\u001b[0m \u001b[1m3s\u001b[0m 15ms/step - accuracy: 0.8400 - auc_2: 0.9687 - loss: 0.2817 - recall_3: 0.9843 - val_accuracy: 0.8377 - val_auc_2: 0.8991 - val_loss: 0.3633 - val_recall_3: 0.8354\n",
      "Epoch 24/100\n",
      "\u001b[1m230/230\u001b[0m \u001b[32m━━━━━━━━━━━━━━━━━━━━\u001b[0m\u001b[37m\u001b[0m \u001b[1m3s\u001b[0m 15ms/step - accuracy: 0.8432 - auc_2: 0.9710 - loss: 0.2736 - recall_3: 0.9802 - val_accuracy: 0.8401 - val_auc_2: 0.8990 - val_loss: 0.3711 - val_recall_3: 0.8405\n",
      "Epoch 25/100\n",
      "\u001b[1m230/230\u001b[0m \u001b[32m━━━━━━━━━━━━━━━━━━━━\u001b[0m\u001b[37m\u001b[0m \u001b[1m3s\u001b[0m 15ms/step - accuracy: 0.8557 - auc_2: 0.9744 - loss: 0.2551 - recall_3: 0.9857 - val_accuracy: 0.8332 - val_auc_2: 0.9035 - val_loss: 0.3998 - val_recall_3: 0.8405\n",
      "Epoch 26/100\n",
      "\u001b[1m230/230\u001b[0m \u001b[32m━━━━━━━━━━━━━━━━━━━━\u001b[0m\u001b[37m\u001b[0m \u001b[1m4s\u001b[0m 15ms/step - accuracy: 0.8632 - auc_2: 0.9759 - loss: 0.2483 - recall_3: 0.9848 - val_accuracy: 0.8912 - val_auc_2: 0.8885 - val_loss: 0.2674 - val_recall_3: 0.7316\n",
      "Epoch 27/100\n",
      "\u001b[1m230/230\u001b[0m \u001b[32m━━━━━━━━━━━━━━━━━━━━\u001b[0m\u001b[37m\u001b[0m \u001b[1m3s\u001b[0m 15ms/step - accuracy: 0.8639 - auc_2: 0.9727 - loss: 0.2591 - recall_3: 0.9872 - val_accuracy: 0.7915 - val_auc_2: 0.8966 - val_loss: 0.5546 - val_recall_3: 0.8608\n",
      "Epoch 28/100\n",
      "\u001b[1m230/230\u001b[0m \u001b[32m━━━━━━━━━━━━━━━━━━━━\u001b[0m\u001b[37m\u001b[0m \u001b[1m4s\u001b[0m 18ms/step - accuracy: 0.8428 - auc_2: 0.9704 - loss: 0.2742 - recall_3: 0.9854 - val_accuracy: 0.7727 - val_auc_2: 0.9009 - val_loss: 0.6024 - val_recall_3: 0.8785\n",
      "Epoch 29/100\n",
      "\u001b[1m230/230\u001b[0m \u001b[32m━━━━━━━━━━━━━━━━━━━━\u001b[0m\u001b[37m\u001b[0m \u001b[1m4s\u001b[0m 19ms/step - accuracy: 0.8545 - auc_2: 0.9758 - loss: 0.2600 - recall_3: 0.9867 - val_accuracy: 0.7914 - val_auc_2: 0.8944 - val_loss: 0.5168 - val_recall_3: 0.8582\n",
      "Epoch 30/100\n",
      "\u001b[1m230/230\u001b[0m \u001b[32m━━━━━━━━━━━━━━━━━━━━\u001b[0m\u001b[37m\u001b[0m \u001b[1m5s\u001b[0m 21ms/step - accuracy: 0.8534 - auc_2: 0.9740 - loss: 0.2640 - recall_3: 0.9774 - val_accuracy: 0.8040 - val_auc_2: 0.8959 - val_loss: 0.5195 - val_recall_3: 0.8405\n",
      "Epoch 31/100\n",
      "\u001b[1m230/230\u001b[0m \u001b[32m━━━━━━━━━━━━━━━━━━━━\u001b[0m\u001b[37m\u001b[0m \u001b[1m4s\u001b[0m 18ms/step - accuracy: 0.8581 - auc_2: 0.9770 - loss: 0.2421 - recall_3: 0.9894 - val_accuracy: 0.8249 - val_auc_2: 0.9031 - val_loss: 0.4202 - val_recall_3: 0.8456\n"
     ]
    }
   ],
   "source": [
    "from tensorflow.keras.callbacks import EarlyStopping\n",
    "\n",
    "# 클래스 가중치 (이전과 동일하게 계산해둔 값 사용)\n",
    "class_weight = {0: 0.506717384266753, 1: 37.71686746987952}\n",
    "\n",
    "# 컴파일\n",
    "classifier_model.compile(optimizer='adam',\n",
    "                         loss='binary_crossentropy',\n",
    "                         metrics=['accuracy', tf.keras.metrics.Recall(), tf.keras.metrics.AUC()])\n",
    "\n",
    "# 얼리스타핑 설정\n",
    "early_stop = EarlyStopping(monitor='val_loss', patience=5, restore_best_weights=True)\n",
    "\n",
    "# 학습\n",
    "history = classifier_model.fit(\n",
    "    X_train_scaled, y_train,\n",
    "    epochs=100,\n",
    "    batch_size=256,\n",
    "    validation_split=0.2,\n",
    "    class_weight=class_weight,\n",
    "    callbacks=[early_stop],\n",
    "    verbose=1\n",
    ")\n"
   ]
  },
  {
   "cell_type": "markdown",
   "id": "7a07b1ca",
   "metadata": {},
   "source": [
    "---\n",
    "# 피처 추려서 다시\n",
    "---"
   ]
  },
  {
   "cell_type": "code",
   "execution_count": 25,
   "id": "7627d791",
   "metadata": {},
   "outputs": [
    {
     "name": "stdout",
     "output_type": "stream",
     "text": [
      "선택된 주요 피처 (20개):\n",
      "['신용등급', '상장일자', '기준년월 시점 3개월내 대출연체 발생분 최장 보유일수(연체대출금 상환 포함)', '기준년월 시점 1년내 대출연체 발생분 최장 보유일수(연체대출금 상환 포함)', '6개월연체_최장보유일수', '기준년월 시점 1년내 연체일수가 30일 이상 된 대출연체 유지 기관수(연체대출금 상환 포함)', '기준년월 시점 신용도판단정보 및 공공정보 (한국신용정보원) 최근 발생일자로 부터 경과일수(해제 포함)', '연체발생_경과일수', '공공정보_해제경과일수', '기준년월 시점 6개월내 연체일수가 30일 이상 된 대출연체 유지 기관수(연체대출금 상환 포함)', '기준년월 시점 3년내 대출연체 발생분 최장 보유일수(연체대출금 상환 포함)', '기준년월 시점 3개월내 대출연체 신규발생 과목수(연체대출금 상환 포함)', '기준년월 시점 3개월내 연체일수가 30일 이상 된 대출연체 유지 기관수(연체대출금 상환 포함)', '기준년월 시점 3년내 연체일수가 30일 이상 된 대출연체 유지 기관수(연체대출금 상환 포함)', '공공정보_유지여부', '기준년월 시점 연체일수가 30일 이상 대출연체 유지 기관수(연체대출금 상환 포함)', '기준년월 시점 3개월내 대출연체 유지 과목수(연체대출금 상환 포함)', '기준년월 시점 연체일수가 30일 이상 대출연체 유지 기관수(연체대출금 상환 포함).1', '기준년월 시점 관련인을 제외한 신용도판단정보 및 공공정보 (한국신용정보원) 발생건수(해제 포함)', '총연체대출과목수']\n"
     ]
    }
   ],
   "source": [
    "import pandas as pd\n",
    "\n",
    "# 상관계수 계산 (float/int형 컬럼에 대해서만)\n",
    "corr_matrix = df.corr(numeric_only=True)\n",
    "\n",
    "# 타겟 컬럼과의 상관계수 절댓값 기준 상위 20개 추출\n",
    "target_col = '부도여부'  # ← 라벨명 맞게 수정\n",
    "top_corr_features = corr_matrix[target_col].abs().sort_values(ascending=False)\n",
    "\n",
    "# 부도여부 제외하고 상위 N개 선택 (예: 20개)\n",
    "selected_features = top_corr_features.drop(target_col).head(20).index.tolist()\n",
    "\n",
    "print(f\"선택된 주요 피처 ({len(selected_features)}개):\")\n",
    "print(selected_features)\n"
   ]
  },
  {
   "cell_type": "code",
   "execution_count": 29,
   "id": "e3a913e4",
   "metadata": {},
   "outputs": [
    {
     "name": "stdout",
     "output_type": "stream",
     "text": [
      "📊 자동 계산된 클래스 가중치: {0: 0.515147477524229, 1: 17.004398148148148}\n"
     ]
    }
   ],
   "source": [
    "from sklearn.utils import class_weight\n",
    "import numpy as np\n",
    "\n",
    "# y_train이 Series 또는 numpy array라고 가정\n",
    "class_weights = class_weight.compute_class_weight(\n",
    "    class_weight='balanced',\n",
    "    classes=np.unique(y_train),\n",
    "    y=y_train\n",
    ")\n",
    "\n",
    "# 딕셔너리 형태로 변환\n",
    "class_weight_dict = {i: w for i, w in enumerate(class_weights)}\n",
    "print(\"📊 자동 계산된 클래스 가중치:\", class_weight_dict)\n"
   ]
  },
  {
   "cell_type": "code",
   "execution_count": 30,
   "id": "711447a4",
   "metadata": {},
   "outputs": [],
   "source": [
    "from sklearn.preprocessing import StandardScaler\n",
    "from sklearn.model_selection import train_test_split\n",
    "\n",
    "# X, y 정의\n",
    "X = df[selected_features]\n",
    "y = df[target_col]\n",
    "\n",
    "# 정규화\n",
    "scaler = StandardScaler()\n",
    "X_scaled = scaler.fit_transform(X)\n",
    "\n",
    "# 훈련/검증 세트 분할\n",
    "X_train, X_test, y_train, y_test = train_test_split(\n",
    "    X_scaled, y, test_size=0.2, stratify=y, random_state=42\n",
    ")\n"
   ]
  },
  {
   "cell_type": "code",
   "execution_count": 31,
   "id": "6b4c41e4",
   "metadata": {},
   "outputs": [],
   "source": [
    "from sklearn.model_selection import train_test_split\n",
    "from sklearn.preprocessing import StandardScaler\n",
    "\n",
    "# 선택된 피처만 추출\n",
    "X = df[selected_features]\n",
    "y = df[target_col]\n",
    "\n",
    "# 스케일링\n",
    "scaler = StandardScaler()\n",
    "X_scaled = scaler.fit_transform(X)\n",
    "\n",
    "# 학습/테스트 분할\n",
    "X_train_scaled, X_test_scaled, y_train, y_test = train_test_split(\n",
    "    X_scaled, y, test_size=0.2, stratify=y, random_state=42\n",
    ")\n"
   ]
  },
  {
   "cell_type": "code",
   "execution_count": 32,
   "id": "5cb25fbb",
   "metadata": {},
   "outputs": [],
   "source": [
    "import tensorflow as tf\n",
    "from tensorflow.keras.models import Sequential\n",
    "from tensorflow.keras.layers import Dense, Dropout\n",
    "from tensorflow.keras.callbacks import EarlyStopping\n",
    "\n",
    "# MLP 모델 정의\n",
    "classifier_model = Sequential([\n",
    "    Dense(128, activation='relu', input_shape=(X_train.shape[1],)),\n",
    "    Dropout(0.3),\n",
    "    Dense(64, activation='relu'),\n",
    "    Dropout(0.3),\n",
    "    Dense(32, activation='relu'),\n",
    "    Dense(1, activation='sigmoid')\n",
    "])\n"
   ]
  },
  {
   "cell_type": "code",
   "execution_count": 37,
   "id": "b5a5182a",
   "metadata": {},
   "outputs": [
    {
     "name": "stdout",
     "output_type": "stream",
     "text": [
      "Epoch 1/100\n",
      "\u001b[1m230/230\u001b[0m \u001b[32m━━━━━━━━━━━━━━━━━━━━\u001b[0m\u001b[37m\u001b[0m \u001b[1m6s\u001b[0m 19ms/step - accuracy: 0.9699 - auc_6: 0.5046 - loss: 0.6676 - recall_7: 0.0000e+00 - val_accuracy: 0.9731 - val_auc_6: 0.5000 - val_loss: 0.6313 - val_recall_7: 0.0000e+00\n",
      "Epoch 2/100\n",
      "\u001b[1m230/230\u001b[0m \u001b[32m━━━━━━━━━━━━━━━━━━━━\u001b[0m\u001b[37m\u001b[0m \u001b[1m4s\u001b[0m 18ms/step - accuracy: 0.9697 - auc_6: 0.4843 - loss: 0.6603 - recall_7: 0.0000e+00 - val_accuracy: 0.9731 - val_auc_6: 0.5000 - val_loss: 0.6430 - val_recall_7: 0.0000e+00\n",
      "Epoch 3/100\n",
      "\u001b[1m230/230\u001b[0m \u001b[32m━━━━━━━━━━━━━━━━━━━━\u001b[0m\u001b[37m\u001b[0m \u001b[1m4s\u001b[0m 18ms/step - accuracy: 0.9703 - auc_6: 0.4946 - loss: 0.6536 - recall_7: 0.0000e+00 - val_accuracy: 0.9731 - val_auc_6: 0.5000 - val_loss: 0.6560 - val_recall_7: 0.0000e+00\n",
      "Epoch 4/100\n",
      "\u001b[1m230/230\u001b[0m \u001b[32m━━━━━━━━━━━━━━━━━━━━\u001b[0m\u001b[37m\u001b[0m \u001b[1m4s\u001b[0m 17ms/step - accuracy: 0.9706 - auc_6: 0.4941 - loss: 0.6502 - recall_7: 0.0000e+00 - val_accuracy: 0.9731 - val_auc_6: 0.5000 - val_loss: 0.6461 - val_recall_7: 0.0000e+00\n",
      "Epoch 5/100\n",
      "\u001b[1m230/230\u001b[0m \u001b[32m━━━━━━━━━━━━━━━━━━━━\u001b[0m\u001b[37m\u001b[0m \u001b[1m4s\u001b[0m 16ms/step - accuracy: 0.9694 - auc_6: 0.4939 - loss: 0.6638 - recall_7: 0.0000e+00 - val_accuracy: 0.9731 - val_auc_6: 0.5000 - val_loss: 0.6409 - val_recall_7: 0.0000e+00\n",
      "Epoch 6/100\n",
      "\u001b[1m230/230\u001b[0m \u001b[32m━━━━━━━━━━━━━━━━━━━━\u001b[0m\u001b[37m\u001b[0m \u001b[1m4s\u001b[0m 18ms/step - accuracy: 0.9696 - auc_6: 0.5041 - loss: 0.6615 - recall_7: 0.0000e+00 - val_accuracy: 0.9731 - val_auc_6: 0.5000 - val_loss: 0.6429 - val_recall_7: 0.0000e+00\n"
     ]
    }
   ],
   "source": [
    "# 클래스 가중치\n",
    "class_weight = {0: 0.5151, 1: 15.0044}\n",
    "\n",
    "# 얼리스타핑 설정\n",
    "early_stop = EarlyStopping(monitor='val_loss', patience=5, restore_best_weights=True)\n",
    "\n",
    "# 컴파일\n",
    "classifier_model.compile(\n",
    "    optimizer=tf.keras.optimizers.Nadam(),\n",
    "    loss='binary_crossentropy',\n",
    "    metrics=['accuracy', tf.keras.metrics.Recall(), tf.keras.metrics.AUC()]\n",
    ")\n",
    "\n",
    "# 학습\n",
    "history = classifier_model.fit(\n",
    "    X_train, y_train,\n",
    "    epochs=100,\n",
    "    batch_size=256,\n",
    "    validation_split=0.2,\n",
    "    class_weight=class_weight,\n",
    "    callbacks=[early_stop],\n",
    "    verbose=1\n",
    ")\n"
   ]
  },
  {
   "cell_type": "code",
   "execution_count": 39,
   "id": "a4e2601c",
   "metadata": {},
   "outputs": [
    {
     "name": "stdout",
     "output_type": "stream",
     "text": [
      "\u001b[1m574/574\u001b[0m \u001b[32m━━━━━━━━━━━━━━━━━━━━\u001b[0m\u001b[37m\u001b[0m \u001b[1m1s\u001b[0m 1ms/step\n",
      "🔹 Confusion Matrix:\n",
      "[[17825     0]\n",
      " [  540     0]]\n",
      "\n",
      "🔹 Classification Report:\n",
      "              precision    recall  f1-score   support\n",
      "\n",
      "           0       0.97      1.00      0.99     17825\n",
      "           1       0.00      0.00      0.00       540\n",
      "\n",
      "    accuracy                           0.97     18365\n",
      "   macro avg       0.49      0.50      0.49     18365\n",
      "weighted avg       0.94      0.97      0.96     18365\n",
      "\n"
     ]
    }
   ],
   "source": [
    "from sklearn.metrics import classification_report, confusion_matrix\n",
    "\n",
    "# 예측\n",
    "y_pred_prob = classifier_model.predict(X_test)\n",
    "y_pred = (y_pred_prob > 0.5).astype(int)\n",
    "\n",
    "# 결과 출력\n",
    "print(\"🔹 Confusion Matrix:\")\n",
    "print(confusion_matrix(y_test, y_pred))\n",
    "print(\"\\n🔹 Classification Report:\")\n",
    "print(classification_report(y_test, y_pred))\n"
   ]
  },
  {
   "cell_type": "code",
   "execution_count": null,
   "id": "d28347dc",
   "metadata": {},
   "outputs": [],
   "source": []
  }
 ],
 "metadata": {
  "kernelspec": {
   "display_name": "Python 3 (ipykernel)",
   "language": "python",
   "name": "python3"
  },
  "language_info": {
   "codemirror_mode": {
    "name": "ipython",
    "version": 3
   },
   "file_extension": ".py",
   "mimetype": "text/x-python",
   "name": "python",
   "nbconvert_exporter": "python",
   "pygments_lexer": "ipython3",
   "version": "3.12.3"
  }
 },
 "nbformat": 4,
 "nbformat_minor": 5
}
