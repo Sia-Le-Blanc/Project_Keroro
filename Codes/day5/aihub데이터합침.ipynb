{
 "cells": [
  {
   "cell_type": "code",
   "execution_count": 1,
   "id": "c9898166",
   "metadata": {},
   "outputs": [],
   "source": [
    "import numpy as np\n",
    "import pandas as pd\n",
    "import matplotlib.pyplot as plt\n",
    "import os\n",
    "import sys\n",
    "plt.rcParams['font.family'] = 'AppleGothic'"
   ]
  },
  {
   "cell_type": "code",
   "execution_count": 41,
   "id": "f2ea3e34",
   "metadata": {},
   "outputs": [],
   "source": [
    "df3 = pd.read_csv('../../117.금융 합성데이터/3.개방데이터/1.데이터/1. 합성데이터/10.기업 CB정보/202110_기업CB.csv')"
   ]
  },
  {
   "cell_type": "code",
   "execution_count": null,
   "id": "fc779219",
   "metadata": {},
   "outputs": [],
   "source": [
    "col_info = pd.read_excel(\n",
    "    '../../117.금융 합성데이터/3.개방데이터/1.데이터/1. 합성데이터/093-117_금융 합성데이터_데이터구성상세.xlsx',\n",
    "    sheet_name='10.기업CB 정보',\n",
    "    header=None,       # 첫 줄을 컬럼명으로 사용하지 않음\n",
    "    dtype=str          # 타입 강제 → NaN 방지\n",
    ")"
   ]
  },
  {
   "cell_type": "code",
   "execution_count": 58,
   "id": "aed20d09",
   "metadata": {},
   "outputs": [
    {
     "name": "stderr",
     "output_type": "stream",
     "text": [
      "/var/folders/kq/wzvd01qd1ql50sz17pwmt9b00000gn/T/ipykernel_68043/1546769447.py:11: FutureWarning: DataFrame.fillna with 'method' is deprecated and will raise in a future version. Use obj.ffill() or obj.bfill() instead.\n",
      "  col_info_filled = col_info.fillna(method='ffill')\n"
     ]
    }
   ],
   "source": [
    "import pandas as pd\n",
    "import glob\n",
    "\n",
    "# 1. 병합 셀 정보 파일 (컬럼 영문명 → 설명 맵핑용)\n",
    "col_info = pd.read_excel(\n",
    "    '../../117.금융 합성데이터/3.개방데이터/1.데이터/1. 합성데이터/093-117_금융 합성데이터_데이터구성상세.xlsx',\n",
    "    sheet_name='10.기업CB 정보',\n",
    "    header=None,       # 첫 줄을 컬럼명으로 사용하지 않음\n",
    "    dtype=str          # 타입 강제 → NaN 방지\n",
    ")\n",
    "col_info_filled = col_info.fillna(method='ffill')\n",
    "\n",
    "# 영문 필드명과 설명 추출\n",
    "field_name_col = col_info_filled.iloc[:, 2]\n",
    "description_col = col_info_filled.iloc[:, 1]\n",
    "\n",
    "# 딕셔너리 생성: 영문 컬럼명 → 한글 설명\n",
    "colinfo_description_map = dict(zip(field_name_col, description_col))\n",
    "\n",
    "# 2. 업종 코드 맵\n",
    "업종_코드맵 = {\n",
    "    'A': '농업, 임업 및 어업',\n",
    "    'B': '광업',\n",
    "    'C': '제조업',\n",
    "    'D': '전기, 가스, 증기 및 공기 조절 공급업',\n",
    "    'E': '수도, 하수 및 폐기물 처리, 원료 재생업',\n",
    "    'F': '건설업',\n",
    "    'G': '도매 및 소매업',\n",
    "    'H': '운수 및 창고업',\n",
    "    'I': '숙박 및 음식점업',\n",
    "    'J': '정보통신업',\n",
    "    'K': '금융 및 보험업',\n",
    "    'L': '부동산업',\n",
    "    'M': '전문, 과학 및 기술 서비스업',\n",
    "    'N': '사업시설 관리, 사업 지원 및 임대 서비스업',\n",
    "    'O': '공공 행정, 국방 및 사회보장 행정',\n",
    "    'P': '교육 서비스업',\n",
    "    'Q': '보건업 및 사회복지 서비스업',\n",
    "    'R': '예술, 스포츠 및 여가관련 서비스업',\n",
    "    'S': '협회 및 단체, 수리 및 기타 개인 서비스업'\n",
    "}\n",
    "\n",
    "# 3. 모든 CSV 파일 경로 가져오기\n",
    "csv_paths = sorted(glob.glob(\"../../117.금융 합성데이터/3.개방데이터/1.데이터/1. 합성데이터/10.기업 CB정보/*.csv\"))  # 12개 CSV 경로 폴더 지정\n",
    "\n",
    "# 4. 병합된 DataFrame 저장용 리스트\n",
    "merged_list = []\n",
    "\n",
    "# 5. 각 CSV에 대해 처리 루프\n",
    "for path in csv_paths:\n",
    "    df = pd.read_csv(path)\n",
    "\n",
    "    # 컬럼명 한글로 변환\n",
    "    df.rename(columns=colinfo_description_map, inplace=True)\n",
    "\n",
    "    # 업종(대분류) 파생\n",
    "    df['업종(대분류)'] = df['업종(중분류)'].str[0].map(업종_코드맵)\n",
    "\n",
    "    # 부동산업만 필터링\n",
    "    df = df[df['업종(대분류)'].str.contains('부동산업', na=False)]\n",
    "\n",
    "    # 중분류 제거\n",
    "    df.drop(columns='업종(중분류)', inplace=True)\n",
    "\n",
    "    # 리스트에 추가\n",
    "    merged_list.append(df)\n",
    "\n",
    "# 6. 최종 병합\n",
    "final_df = pd.concat(merged_list, ignore_index=True)\n"
   ]
  },
  {
   "cell_type": "code",
   "execution_count": 59,
   "id": "fbe032fb",
   "metadata": {},
   "outputs": [],
   "source": [
    "final_df.to_csv('final_부동산.csv', index=False)"
   ]
  },
  {
   "cell_type": "code",
   "execution_count": 60,
   "id": "a1c4d834",
   "metadata": {},
   "outputs": [],
   "source": [
    "final_df.to_excel('final_부동산.xlsx', index=False)"
   ]
  },
  {
   "cell_type": "code",
   "execution_count": null,
   "id": "0b8f35b3",
   "metadata": {},
   "outputs": [],
   "source": []
  }
 ],
 "metadata": {
  "kernelspec": {
   "display_name": "base",
   "language": "python",
   "name": "python3"
  },
  "language_info": {
   "codemirror_mode": {
    "name": "ipython",
    "version": 3
   },
   "file_extension": ".py",
   "mimetype": "text/x-python",
   "name": "python",
   "nbconvert_exporter": "python",
   "pygments_lexer": "ipython3",
   "version": "3.12.2"
  }
 },
 "nbformat": 4,
 "nbformat_minor": 5
}
