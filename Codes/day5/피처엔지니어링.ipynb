{
 "cells": [
  {
   "cell_type": "code",
   "execution_count": 2,
   "id": "7c735c1f",
   "metadata": {},
   "outputs": [],
   "source": [
    "import pandas as pd\n",
    "import numpy as np\n",
    "import matplotlib.pyplot as plt\n",
    "plt.rcParams['font.family'] = 'AppleGothic'\n",
    "df = pd.read_csv('final_부동산.csv')"
   ]
  },
  {
   "cell_type": "code",
   "execution_count": 3,
   "id": "a7ffffa5",
   "metadata": {},
   "outputs": [],
   "source": [
    "import warnings\n",
    "warnings.filterwarnings('ignore')"
   ]
  },
  {
   "cell_type": "code",
   "execution_count": 4,
   "id": "e51fcb20",
   "metadata": {},
   "outputs": [
    {
     "name": "stdout",
     "output_type": "stream",
     "text": [
      "✅ 데이터프레임 크기: (91824, 160)\n",
      "✅ 컬럼 목록:\n",
      "['기준년월', '가명 식별자', '외감구분', '설립일자', '종업원수', '주소지시군구', '상장일자', '상장폐지일자', '유동자산', '비유동자산', '당좌자산', '재고자산', '유형자산', '재공품', '현금', '현금등가물', '상품유가증권', '현금성자산', '매출채권', '매출채권(전기)', '매출채권처분손실(당기)', '무형자산', '투자자산', '자산총계', '자산총계(전기)', '유동부채', '단기차입금', '차입금', '매입채무', '비유동부채', '부채총계', '자기자본(납입자본금)', '자본잉여금', '납입자본', '이익잉여금', '자본조정', '기타포괄손익누계액', '유보금', '자본총계', '전기자본총계', '매출액', '전기매출액', '매출원가', '매출총이익', '판매비와관리비', '법인세비용차감전 순이익', '전기법인세차감전순이익', '법인세', '계속사업이익', '중단산업손익', '금융비용', '영업손익', '전기영업이익', '영업외수익', '영업외비용', '법인세차감전순이익', '당기순이익', '당기순이익(전기)', '현금흐름', '영업활동현금흐름', '투자활동현금흐름', '재무활동현금흐름', '부채상환계수', '영업이익이자보상배율', '이자비용', '사채이자(당기)', '이자보상배율', '적립금비율', 'EBIT', 'EBITDA', '청산가치율', '청산가치', '순운전자본', '순차입금', '총자산증가율', '부채비율', '자기자본비율', '유동비율', '차입금의존도', '매출액증가율', '영업이익율', '당기순이익율', '매출원가율', '판관비율', '자기자본이익률(ROE)', '매출채권회전율', '재고자산회전율', '매입채무회전율', '총자산회전율', '총자산순이익률', '유동자산증가율', '유형자산증가율', '단기차입금의존도', '당좌비율', '순차입금비율', '순운전자본회전율', '총자본회전율', '자기자본순이익율', '매출총이익율', 'EBITDA마진율', '영업이익증가율', '당기순이익증가율', 'EBITDA증가율', 'OCF/매출액비용', '부채상환계수.1', '차입금/EBITDA', 'EBITDA/금융비용', 'EBITDA/금융비용.1', 'EBITDA/금융비용.2', 'EBITDA/금융비용.3', 'EBITDA/금융비용.4', 'EBITDA/금융비용.5', '기준년월 시점 대출연체 과목수', '기준년월 시점 3개월내 대출연체 유지 과목수(연체대출금 상환 포함)', '기준년월 시점 6개월내 대출연체 유지 과목수(연체대출금 상환 포함)', '기준년월 시점 1년내 대출연체 유지 과목수(연체대출금 상환 포함)', '기준년월 시점 3년내 대출연체 유지 과목수(연체대출금 상환 포함)', '기준년월 시점 3개월내 대출연체 신규발생 과목수(연체대출금 상환 포함)', '기준년월 시점 6개월내 대출연체 신규발생 과목수(연체대출금 상환 포함)', '기준년월 시점 1년내 대출연체 신규발생 과목수(연체대출금 상환 포함)', '기준년월 시점 3년내 대출연체 신규발생 과목수(연체대출금 상환 포함)', '기준년월 시점 3개월내 연체일수가 30일 이상 된 대출연체 유지 과목수(연체대출금 상환 포함)', '기준년월 시점 6개월내 연체일수가 30일 이상 된 대출연체 유지 과목수(연체대출금 상환 포함)', '기준년월 시점 1년내 연체일수가 30일 이상 된 대출연체 유지 과목수(연체대출금 상환 포함)', '기준년월 시점 3년내 연체일수가 30일 이상 된 대출연체 유지 과목수(연체대출금 상환 포함)', '기준년월 시점 연체일수가 30일 이상 된 대출연체 유지 과목수(연체대출금 상환 포함)', '기준년월 시점 연체일수가 30일 이상 된 대출연체 유지 과목수(연체대출금 상환 제외)', '기준년월 시점 연체일수가 30일 이상 된 이자 및 원금 대출연체 유지 과목수(연체대출금 상환 포함)', '기준년월 시점 연체일수가 30일 이상 된 이자 및 원금 대출연체 유지 과목수(연체대출금 상환 제외)', '기준년월 시점 연체일수가 30일 이상 대출연체 유지 기관수(연체대출금 상환 제외)\\n: 기관=법인등록번호 기준 소속 사업자번호수', '기준년월 시점 연체일수가 30일 이상 대출연체 유지 기관수(연체대출금 상환 포함)', '기준년월 시점 연체일수가 30일 이상 대출연체 유지 기관수(연체대출금 상환 제외)', '기준년월 시점 연체일수가 30일 이상 대출연체 유지 기관수(연체대출금 상환 포함).1', '기준년월 시점 연체일수가 30일 이상 대출연체 유지 기관수(연체대출금 상환 제외).1', '기준년월 시점 3개월내 연체일수가 30일 이상 된 대출연체 유지 기관수(연체대출금 상환 포함)', '기준년월 시점 6개월내 연체일수가 30일 이상 된 대출연체 유지 기관수(연체대출금 상환 포함)', '기준년월 시점 1년내 연체일수가 30일 이상 된 대출연체 유지 기관수(연체대출금 상환 포함)', '기준년월 시점 3년내 연체일수가 30일 이상 된 대출연체 유지 기관수(연체대출금 상환 포함)', '기준년월 시점 3개월내 대출연체 최장 보유일수(연체대출금 상환 포함)', '기준년월 시점 6개월내 대출연체 최장 보유일수(연체대출금 상환 포함)', '기준년월 시점 1년내 대출연체 최장 보유일수(연체대출금 상환 포함)', '기준년월 시점 3년내 대출연체 최장 보유일수(연체대출금 상환 포함)', '기준년월 시점 5년내 대출연체 최장 보유일수(연체대출금 상환 포함)', '기준년월 시점 3개월내 대출연체 발생분 최장 보유일수(연체대출금 상환 포함)', '기준년월 시점 6개월내 대출연체 발생분 최장 보유일수(연체대출금 상환 포함)', '기준년월 시점 1년내 대출연체 발생분 최장 보유일수(연체대출금 상환 포함)', '기준년월 시점 3년내 대출연체 발생분 최장 보유일수(연체대출금 상환 포함)', '기준년월 시점 5년내 대출연체 발생분 최장 보유일수(연체대출금 상환 포함)', '기준년월 시점 신용도판단정보 및 공공정보 (한국신용정보원) 발생건수(해제 포함)', '기준년월 시점 신용도판단정보 및 공공정보 (한국신용정보원) 발생건수(해제 제외)', '기준년월 시점 관련인을 제외한 신용도판단정보 및 공공정보 (한국신용정보원) 발생건수(해제 포함)', '기준년월 시점 공공정보 (한국신용정보원) 유지건수(해제 제외)', '기준년월 시점 공공정보 (한국신용정보원) 5년내 발생건수', '기준년월 시점 공공정보 (한국신용정보원) 발생건수(해제 제외)', '기준년월 시점 공공정보 (한국신용정보원) 5년내 발생건수.1', '기준년월 시점 신용도판단정보 및 공공정보 (한국신용정보원) 최근 발생일자로 부터 경과일수(해제 포함)', '기준년월 시점 신용도판단정보 및 공공정보 (한국신용정보원) 최근 해제일자로 부터 경과일수', '10구간으로 구분(1~10. 1등급일수록 우량)', '기준일로부터 향후 1년내 부도, 기업회생, 90일이상 금융연체, 대지급 등 발생여부(신용정보원 기준). 1: 향후1년내 부도발생, 0: 향후1년내 부도미발생', '업종(대분류)']\n"
     ]
    }
   ],
   "source": [
    "# 기본 정보 확인\n",
    "print(\"✅ 데이터프레임 크기:\", df.shape)\n",
    "print(\"✅ 컬럼 목록:\")\n",
    "print(df.columns.tolist())"
   ]
  },
  {
   "cell_type": "code",
   "execution_count": 6,
   "id": "6b3475b0",
   "metadata": {},
   "outputs": [],
   "source": [
    "df_건설 = df[df['업종(대분류)'].str.contains('부동산업', na=False)]"
   ]
  },
  {
   "cell_type": "code",
   "execution_count": 7,
   "id": "d104a799",
   "metadata": {},
   "outputs": [],
   "source": [
    "# '기준년월'이 202403 같은 형식이라면 연도와 월로 분리\n",
    "df_건설['기준년'] = df_건설['기준년월'] // 100\n",
    "df_건설['기준월'] = df_건설['기준년월'] % 100"
   ]
  },
  {
   "cell_type": "code",
   "execution_count": 8,
   "id": "a842c811",
   "metadata": {},
   "outputs": [],
   "source": [
    "# 총자산 = 유동자산 + 비유동자산\n",
    "df_건설['총자산'] = df_건설['유동자산'] + df_건설['비유동자산']\n",
    "\n",
    "# 총부채 = 유동부채 + 비유동부채\n",
    "df_건설['총부채'] = df_건설['유동부채'] + df_건설['비유동부채']\n",
    "\n",
    "# 부채비율 = 총부채 / 총자산\n",
    "df_건설['부채비율'] = df_건설['총부채'] / (df_건설['총자산'] + 1e-6)  # 0으로 나누는 것 방지"
   ]
  },
  {
   "cell_type": "code",
   "execution_count": 9,
   "id": "31e43a32",
   "metadata": {},
   "outputs": [],
   "source": [
    "# 자기자본 = 총자산 - 총부채\n",
    "df_건설['자기자본'] = df_건설['총자산'] - df_건설['총부채']\n",
    "\n",
    "# 자기자본비율 = 자기자본 / 총자산\n",
    "df_건설['자기자본비율'] = df_건설['자기자본'] / (df_건설['총자산'] + 1e-6)\n",
    "\n",
    "# 총자산회전율 = 매출액 / 총자산\n",
    "df_건설['총자산회전율'] = df_건설['매출액'] / (df_건설['총자산'] + 1e-6)\n",
    "\n",
    "# 매출총이익률 = 매출총이익 / 매출액\n",
    "df_건설['매출총이익률'] = df_건설['매출총이익'] / (df_건설['매출액'] + 1e-6)\n"
   ]
  },
  {
   "cell_type": "code",
   "execution_count": 10,
   "id": "8c764742",
   "metadata": {},
   "outputs": [],
   "source": [
    "# 연체 경험이 있는지 여부 (3년 이내 30일 이상 연체)\n",
    "df_건설['연체경험여부'] = (\n",
    "    (df_건설['기준년월 시점 3년내 연체일수가 30일 이상 된 대출연체 유지 기관수(연체대출금 상환 포함)'] > 0)\n",
    ").astype(int)\n",
    "\n",
    "# 최근 연체 발생 후 경과일수 (음수는 없음으로 처리)\n",
    "df_건설['연체발생_경과일수'] = df_건설[\n",
    "    '기준년월 시점 신용도판단정보 및 공공정보 (한국신용정보원) 최근 발생일자로 부터 경과일수(해제 포함)'\n",
    "].clip(lower=0)\n",
    "\n",
    "# 공공정보 유지건수 존재 여부\n",
    "df_건설['공공정보_유지여부'] = (\n",
    "    df_건설['기준년월 시점 공공정보 (한국신용정보원) 유지건수(해제 제외)'] > 0\n",
    ").astype(int)\n"
   ]
  },
  {
   "cell_type": "code",
   "execution_count": 11,
   "id": "0e9ea280",
   "metadata": {},
   "outputs": [
    {
     "name": "stdout",
     "output_type": "stream",
     "text": [
      "기준년월 시점 대출연체 과목수\n",
      "기준년월 시점 3개월내 대출연체 유지 과목수(연체대출금 상환 포함)\n",
      "기준년월 시점 6개월내 대출연체 유지 과목수(연체대출금 상환 포함)\n",
      "기준년월 시점 1년내 대출연체 유지 과목수(연체대출금 상환 포함)\n",
      "기준년월 시점 3년내 대출연체 유지 과목수(연체대출금 상환 포함)\n",
      "기준년월 시점 3개월내 대출연체 신규발생 과목수(연체대출금 상환 포함)\n",
      "기준년월 시점 6개월내 대출연체 신규발생 과목수(연체대출금 상환 포함)\n",
      "기준년월 시점 1년내 대출연체 신규발생 과목수(연체대출금 상환 포함)\n",
      "기준년월 시점 3년내 대출연체 신규발생 과목수(연체대출금 상환 포함)\n",
      "기준년월 시점 3개월내 연체일수가 30일 이상 된 대출연체 유지 과목수(연체대출금 상환 포함)\n",
      "기준년월 시점 6개월내 연체일수가 30일 이상 된 대출연체 유지 과목수(연체대출금 상환 포함)\n",
      "기준년월 시점 1년내 연체일수가 30일 이상 된 대출연체 유지 과목수(연체대출금 상환 포함)\n",
      "기준년월 시점 3년내 연체일수가 30일 이상 된 대출연체 유지 과목수(연체대출금 상환 포함)\n",
      "기준년월 시점 연체일수가 30일 이상 된 대출연체 유지 과목수(연체대출금 상환 포함)\n",
      "기준년월 시점 연체일수가 30일 이상 된 대출연체 유지 과목수(연체대출금 상환 제외)\n",
      "기준년월 시점 연체일수가 30일 이상 된 이자 및 원금 대출연체 유지 과목수(연체대출금 상환 포함)\n",
      "기준년월 시점 연체일수가 30일 이상 된 이자 및 원금 대출연체 유지 과목수(연체대출금 상환 제외)\n"
     ]
    }
   ],
   "source": [
    "for col in df_건설.columns:\n",
    "    if '과목수' in col:\n",
    "        print(col)\n"
   ]
  },
  {
   "cell_type": "code",
   "execution_count": 12,
   "id": "7354d662",
   "metadata": {},
   "outputs": [],
   "source": [
    "df_건설['총연체대출과목수'] = (\n",
    "    df_건설['기준년월 시점 대출연체 과목수'] +\n",
    "    df_건설['기준년월 시점 3개월내 대출연체 유지 과목수(연체대출금 상환 포함)'] +\n",
    "    df_건설['기준년월 시점 6개월내 대출연체 유지 과목수(연체대출금 상환 포함)'] +\n",
    "    df_건설['기준년월 시점 1년내 대출연체 유지 과목수(연체대출금 상환 포함)'] +\n",
    "    df_건설['기준년월 시점 3년내 대출연체 유지 과목수(연체대출금 상환 포함)']\n",
    ")\n"
   ]
  },
  {
   "cell_type": "code",
   "execution_count": 13,
   "id": "757313af",
   "metadata": {},
   "outputs": [],
   "source": [
    "df_건설['총신규연체과목수'] = (\n",
    "    df_건설['기준년월 시점 3개월내 대출연체 신규발생 과목수(연체대출금 상환 포함)'] +\n",
    "    df_건설['기준년월 시점 6개월내 대출연체 신규발생 과목수(연체대출금 상환 포함)'] +\n",
    "    df_건설['기준년월 시점 1년내 대출연체 신규발생 과목수(연체대출금 상환 포함)'] +\n",
    "    df_건설['기준년월 시점 3년내 대출연체 신규발생 과목수(연체대출금 상환 포함)']\n",
    ")\n"
   ]
  },
  {
   "cell_type": "code",
   "execution_count": 14,
   "id": "eaaf4e33",
   "metadata": {},
   "outputs": [],
   "source": [
    "df_건설['총장기연체과목수'] = (\n",
    "    df_건설['기준년월 시점 3개월내 연체일수가 30일 이상 된 대출연체 유지 과목수(연체대출금 상환 포함)'] +\n",
    "    df_건설['기준년월 시점 6개월내 연체일수가 30일 이상 된 대출연체 유지 과목수(연체대출금 상환 포함)'] +\n",
    "    df_건설['기준년월 시점 1년내 연체일수가 30일 이상 된 대출연체 유지 과목수(연체대출금 상환 포함)'] +\n",
    "    df_건설['기준년월 시점 3년내 연체일수가 30일 이상 된 대출연체 유지 과목수(연체대출금 상환 포함)']\n",
    ")\n"
   ]
  },
  {
   "cell_type": "code",
   "execution_count": 15,
   "id": "ef79834e",
   "metadata": {},
   "outputs": [],
   "source": [
    "df_건설['이자원금_30일초과연체과목수'] = (\n",
    "    df_건설['기준년월 시점 연체일수가 30일 이상 된 이자 및 원금 대출연체 유지 과목수(연체대출금 상환 포함)'] +\n",
    "    df_건설['기준년월 시점 연체일수가 30일 이상 된 이자 및 원금 대출연체 유지 과목수(연체대출금 상환 제외)']\n",
    ")\n"
   ]
  },
  {
   "cell_type": "code",
   "execution_count": 16,
   "id": "d724b0f1",
   "metadata": {},
   "outputs": [
    {
     "data": {
      "text/plain": [
       "['기준년월 시점 대출연체 과목수',\n",
       " '기준년월 시점 3개월내 대출연체 유지 과목수(연체대출금 상환 포함)',\n",
       " '기준년월 시점 6개월내 대출연체 유지 과목수(연체대출금 상환 포함)',\n",
       " '기준년월 시점 1년내 대출연체 유지 과목수(연체대출금 상환 포함)',\n",
       " '기준년월 시점 3년내 대출연체 유지 과목수(연체대출금 상환 포함)',\n",
       " '기준년월 시점 3개월내 대출연체 신규발생 과목수(연체대출금 상환 포함)',\n",
       " '기준년월 시점 6개월내 대출연체 신규발생 과목수(연체대출금 상환 포함)',\n",
       " '기준년월 시점 1년내 대출연체 신규발생 과목수(연체대출금 상환 포함)',\n",
       " '기준년월 시점 3년내 대출연체 신규발생 과목수(연체대출금 상환 포함)',\n",
       " '기준년월 시점 3개월내 연체일수가 30일 이상 된 대출연체 유지 과목수(연체대출금 상환 포함)',\n",
       " '기준년월 시점 6개월내 연체일수가 30일 이상 된 대출연체 유지 과목수(연체대출금 상환 포함)',\n",
       " '기준년월 시점 1년내 연체일수가 30일 이상 된 대출연체 유지 과목수(연체대출금 상환 포함)',\n",
       " '기준년월 시점 3년내 연체일수가 30일 이상 된 대출연체 유지 과목수(연체대출금 상환 포함)',\n",
       " '기준년월 시점 연체일수가 30일 이상 된 대출연체 유지 과목수(연체대출금 상환 포함)',\n",
       " '기준년월 시점 연체일수가 30일 이상 된 대출연체 유지 과목수(연체대출금 상환 제외)',\n",
       " '기준년월 시점 연체일수가 30일 이상 된 이자 및 원금 대출연체 유지 과목수(연체대출금 상환 포함)',\n",
       " '기준년월 시점 연체일수가 30일 이상 된 이자 및 원금 대출연체 유지 과목수(연체대출금 상환 제외)',\n",
       " '기준년월 시점 연체일수가 30일 이상 대출연체 유지 기관수(연체대출금 상환 제외)\\n: 기관=법인등록번호 기준 소속 사업자번호수',\n",
       " '기준년월 시점 연체일수가 30일 이상 대출연체 유지 기관수(연체대출금 상환 포함)',\n",
       " '기준년월 시점 연체일수가 30일 이상 대출연체 유지 기관수(연체대출금 상환 제외)',\n",
       " '기준년월 시점 연체일수가 30일 이상 대출연체 유지 기관수(연체대출금 상환 포함).1',\n",
       " '기준년월 시점 연체일수가 30일 이상 대출연체 유지 기관수(연체대출금 상환 제외).1',\n",
       " '기준년월 시점 3개월내 연체일수가 30일 이상 된 대출연체 유지 기관수(연체대출금 상환 포함)',\n",
       " '기준년월 시점 6개월내 연체일수가 30일 이상 된 대출연체 유지 기관수(연체대출금 상환 포함)',\n",
       " '기준년월 시점 1년내 연체일수가 30일 이상 된 대출연체 유지 기관수(연체대출금 상환 포함)',\n",
       " '기준년월 시점 3년내 연체일수가 30일 이상 된 대출연체 유지 기관수(연체대출금 상환 포함)',\n",
       " '기준년월 시점 3개월내 대출연체 최장 보유일수(연체대출금 상환 포함)',\n",
       " '기준년월 시점 6개월내 대출연체 최장 보유일수(연체대출금 상환 포함)',\n",
       " '기준년월 시점 1년내 대출연체 최장 보유일수(연체대출금 상환 포함)',\n",
       " '기준년월 시점 3년내 대출연체 최장 보유일수(연체대출금 상환 포함)',\n",
       " '기준년월 시점 5년내 대출연체 최장 보유일수(연체대출금 상환 포함)',\n",
       " '기준년월 시점 3개월내 대출연체 발생분 최장 보유일수(연체대출금 상환 포함)',\n",
       " '기준년월 시점 6개월내 대출연체 발생분 최장 보유일수(연체대출금 상환 포함)',\n",
       " '기준년월 시점 1년내 대출연체 발생분 최장 보유일수(연체대출금 상환 포함)',\n",
       " '기준년월 시점 3년내 대출연체 발생분 최장 보유일수(연체대출금 상환 포함)',\n",
       " '기준년월 시점 5년내 대출연체 발생분 최장 보유일수(연체대출금 상환 포함)',\n",
       " '기준일로부터 향후 1년내 부도, 기업회생, 90일이상 금융연체, 대지급 등 발생여부(신용정보원 기준). 1: 향후1년내 부도발생, 0: 향후1년내 부도미발생',\n",
       " '연체경험여부',\n",
       " '연체발생_경과일수',\n",
       " '총연체대출과목수',\n",
       " '총신규연체과목수',\n",
       " '총장기연체과목수',\n",
       " '이자원금_30일초과연체과목수']"
      ]
     },
     "execution_count": 16,
     "metadata": {},
     "output_type": "execute_result"
    }
   ],
   "source": [
    "[col for col in df_건설.columns if '연체' in col]\n"
   ]
  },
  {
   "cell_type": "code",
   "execution_count": 17,
   "id": "297e2b96",
   "metadata": {},
   "outputs": [
    {
     "name": "stdout",
     "output_type": "stream",
     "text": [
      "['기준년월', '가명 식별자', '외감구분', '설립일자', '종업원수', '주소지시군구', '상장일자', '상장폐지일자', '유동자산', '비유동자산', '당좌자산', '재고자산', '유형자산', '재공품', '현금', '현금등가물', '상품유가증권', '현금성자산', '매출채권', '매출채권(전기)', '매출채권처분손실(당기)', '무형자산', '투자자산', '자산총계', '자산총계(전기)', '유동부채', '단기차입금', '차입금', '매입채무', '비유동부채', '부채총계', '자기자본(납입자본금)', '자본잉여금', '납입자본', '이익잉여금', '자본조정', '기타포괄손익누계액', '유보금', '자본총계', '전기자본총계', '매출액', '전기매출액', '매출원가', '매출총이익', '판매비와관리비', '법인세비용차감전 순이익', '전기법인세차감전순이익', '법인세', '계속사업이익', '중단산업손익', '금융비용', '영업손익', '전기영업이익', '영업외수익', '영업외비용', '법인세차감전순이익', '당기순이익', '당기순이익(전기)', '현금흐름', '영업활동현금흐름', '투자활동현금흐름', '재무활동현금흐름', '부채상환계수', '영업이익이자보상배율', '이자비용', '사채이자(당기)', '이자보상배율', '적립금비율', 'EBIT', 'EBITDA', '청산가치율', '청산가치', '순운전자본', '순차입금', '총자산증가율', '부채비율', '자기자본비율', '유동비율', '차입금의존도', '매출액증가율', '영업이익율', '당기순이익율', '매출원가율', '판관비율', '자기자본이익률(ROE)', '매출채권회전율', '재고자산회전율', '매입채무회전율', '총자산회전율', '총자산순이익률', '유동자산증가율', '유형자산증가율', '단기차입금의존도', '당좌비율', '순차입금비율', '순운전자본회전율', '총자본회전율', '자기자본순이익율', '매출총이익율', 'EBITDA마진율', '영업이익증가율', '당기순이익증가율', 'EBITDA증가율', 'OCF/매출액비용', '부채상환계수.1', '차입금/EBITDA', 'EBITDA/금융비용', 'EBITDA/금융비용.1', 'EBITDA/금융비용.2', 'EBITDA/금융비용.3', 'EBITDA/금융비용.4', 'EBITDA/금융비용.5', '기준년월 시점 대출연체 과목수', '기준년월 시점 3개월내 대출연체 유지 과목수(연체대출금 상환 포함)', '기준년월 시점 6개월내 대출연체 유지 과목수(연체대출금 상환 포함)', '기준년월 시점 1년내 대출연체 유지 과목수(연체대출금 상환 포함)', '기준년월 시점 3년내 대출연체 유지 과목수(연체대출금 상환 포함)', '기준년월 시점 3개월내 대출연체 신규발생 과목수(연체대출금 상환 포함)', '기준년월 시점 6개월내 대출연체 신규발생 과목수(연체대출금 상환 포함)', '기준년월 시점 1년내 대출연체 신규발생 과목수(연체대출금 상환 포함)', '기준년월 시점 3년내 대출연체 신규발생 과목수(연체대출금 상환 포함)', '기준년월 시점 3개월내 연체일수가 30일 이상 된 대출연체 유지 과목수(연체대출금 상환 포함)', '기준년월 시점 6개월내 연체일수가 30일 이상 된 대출연체 유지 과목수(연체대출금 상환 포함)', '기준년월 시점 1년내 연체일수가 30일 이상 된 대출연체 유지 과목수(연체대출금 상환 포함)', '기준년월 시점 3년내 연체일수가 30일 이상 된 대출연체 유지 과목수(연체대출금 상환 포함)', '기준년월 시점 연체일수가 30일 이상 된 대출연체 유지 과목수(연체대출금 상환 포함)', '기준년월 시점 연체일수가 30일 이상 된 대출연체 유지 과목수(연체대출금 상환 제외)', '기준년월 시점 연체일수가 30일 이상 된 이자 및 원금 대출연체 유지 과목수(연체대출금 상환 포함)', '기준년월 시점 연체일수가 30일 이상 된 이자 및 원금 대출연체 유지 과목수(연체대출금 상환 제외)', '기준년월 시점 연체일수가 30일 이상 대출연체 유지 기관수(연체대출금 상환 제외)\\n: 기관=법인등록번호 기준 소속 사업자번호수', '기준년월 시점 연체일수가 30일 이상 대출연체 유지 기관수(연체대출금 상환 포함)', '기준년월 시점 연체일수가 30일 이상 대출연체 유지 기관수(연체대출금 상환 제외)', '기준년월 시점 연체일수가 30일 이상 대출연체 유지 기관수(연체대출금 상환 포함).1', '기준년월 시점 연체일수가 30일 이상 대출연체 유지 기관수(연체대출금 상환 제외).1', '기준년월 시점 3개월내 연체일수가 30일 이상 된 대출연체 유지 기관수(연체대출금 상환 포함)', '기준년월 시점 6개월내 연체일수가 30일 이상 된 대출연체 유지 기관수(연체대출금 상환 포함)', '기준년월 시점 1년내 연체일수가 30일 이상 된 대출연체 유지 기관수(연체대출금 상환 포함)', '기준년월 시점 3년내 연체일수가 30일 이상 된 대출연체 유지 기관수(연체대출금 상환 포함)', '기준년월 시점 3개월내 대출연체 최장 보유일수(연체대출금 상환 포함)', '기준년월 시점 6개월내 대출연체 최장 보유일수(연체대출금 상환 포함)', '기준년월 시점 1년내 대출연체 최장 보유일수(연체대출금 상환 포함)', '기준년월 시점 3년내 대출연체 최장 보유일수(연체대출금 상환 포함)', '기준년월 시점 5년내 대출연체 최장 보유일수(연체대출금 상환 포함)', '기준년월 시점 3개월내 대출연체 발생분 최장 보유일수(연체대출금 상환 포함)', '기준년월 시점 6개월내 대출연체 발생분 최장 보유일수(연체대출금 상환 포함)', '기준년월 시점 1년내 대출연체 발생분 최장 보유일수(연체대출금 상환 포함)', '기준년월 시점 3년내 대출연체 발생분 최장 보유일수(연체대출금 상환 포함)', '기준년월 시점 5년내 대출연체 발생분 최장 보유일수(연체대출금 상환 포함)', '기준년월 시점 신용도판단정보 및 공공정보 (한국신용정보원) 발생건수(해제 포함)', '기준년월 시점 신용도판단정보 및 공공정보 (한국신용정보원) 발생건수(해제 제외)', '기준년월 시점 관련인을 제외한 신용도판단정보 및 공공정보 (한국신용정보원) 발생건수(해제 포함)', '기준년월 시점 공공정보 (한국신용정보원) 유지건수(해제 제외)', '기준년월 시점 공공정보 (한국신용정보원) 5년내 발생건수', '기준년월 시점 공공정보 (한국신용정보원) 발생건수(해제 제외)', '기준년월 시점 공공정보 (한국신용정보원) 5년내 발생건수.1', '기준년월 시점 신용도판단정보 및 공공정보 (한국신용정보원) 최근 발생일자로 부터 경과일수(해제 포함)', '기준년월 시점 신용도판단정보 및 공공정보 (한국신용정보원) 최근 해제일자로 부터 경과일수', '10구간으로 구분(1~10. 1등급일수록 우량)', '기준일로부터 향후 1년내 부도, 기업회생, 90일이상 금융연체, 대지급 등 발생여부(신용정보원 기준). 1: 향후1년내 부도발생, 0: 향후1년내 부도미발생', '업종(대분류)', '기준년', '기준월', '총자산', '총부채', '자기자본', '매출총이익률', '연체경험여부', '연체발생_경과일수', '공공정보_유지여부', '총연체대출과목수', '총신규연체과목수', '총장기연체과목수', '이자원금_30일초과연체과목수']\n"
     ]
    }
   ],
   "source": [
    "print(df_건설.columns.tolist())\n"
   ]
  },
  {
   "cell_type": "code",
   "execution_count": 18,
   "id": "b858c432",
   "metadata": {},
   "outputs": [
    {
     "name": "stdout",
     "output_type": "stream",
     "text": [
      "기준일로부터 향후 1년내 부도, 기업회생, 90일이상 금융연체, 대지급 등 발생여부(신용정보원 기준). 1: 향후1년내 부도발생, 0: 향후1년내 부도미발생    1.000000\n",
      "10구간으로 구분(1~10. 1등급일수록 우량)                                                                 0.177003\n",
      "상장일자                                                                                       0.135710\n",
      "기준년월 시점 3개월내 대출연체 발생분 최장 보유일수(연체대출금 상환 포함)                                                 0.102611\n",
      "기준년월 시점 1년내 대출연체 발생분 최장 보유일수(연체대출금 상환 포함)                                                  0.096061\n",
      "기준년월 시점 6개월내 대출연체 발생분 최장 보유일수(연체대출금 상환 포함)                                                 0.093420\n",
      "기준년월 시점 1년내 연체일수가 30일 이상 된 대출연체 유지 기관수(연체대출금 상환 포함)                                        0.090076\n",
      "기준년월 시점 신용도판단정보 및 공공정보 (한국신용정보원) 최근 발생일자로 부터 경과일수(해제 포함)                                  -0.087859\n",
      "연체발생_경과일수                                                                                 -0.087859\n",
      "기준년월 시점 신용도판단정보 및 공공정보 (한국신용정보원) 최근 해제일자로 부터 경과일수                                         -0.087858\n",
      "기준년월 시점 6개월내 연체일수가 30일 이상 된 대출연체 유지 기관수(연체대출금 상환 포함)                                       0.085595\n",
      "기준년월 시점 3년내 대출연체 발생분 최장 보유일수(연체대출금 상환 포함)                                                  0.079206\n",
      "기준년월 시점 3개월내 대출연체 신규발생 과목수(연체대출금 상환 포함)                                                    0.075285\n",
      "기준년월 시점 3개월내 연체일수가 30일 이상 된 대출연체 유지 기관수(연체대출금 상환 포함)                                       0.074791\n",
      "기준년월 시점 3년내 연체일수가 30일 이상 된 대출연체 유지 기관수(연체대출금 상환 포함)                                        0.074373\n",
      "Name: 기준일로부터 향후 1년내 부도, 기업회생, 90일이상 금융연체, 대지급 등 발생여부(신용정보원 기준). 1: 향후1년내 부도발생, 0: 향후1년내 부도미발생, dtype: float64\n"
     ]
    }
   ],
   "source": [
    "correlations = df_건설.corr(numeric_only=True)['기준일로부터 향후 1년내 부도, 기업회생, 90일이상 금융연체, 대지급 등 발생여부(신용정보원 기준). 1: 향후1년내 부도발생, 0: 향후1년내 부도미발생']\\\n",
    "    .sort_values(key=lambda x: abs(x), ascending=False)\n",
    "\n",
    "print(correlations.head(15))\n"
   ]
  },
  {
   "cell_type": "code",
   "execution_count": 19,
   "id": "760a8ebd",
   "metadata": {},
   "outputs": [],
   "source": [
    "# 1. 컬럼명 짧게 바꾸기\n",
    "df_건설 = df_건설.rename(columns={\n",
    "    '기준일로부터 향후 1년내 부도, 기업회생, 90일이상 금융연체, 대지급 등 발생여부(신용정보원 기준). 1: 향후1년내 부도발생, 0: 향후1년내 부도미발생': '부도여부',\n",
    "    '10구간으로 구분(1~10. 1등급일수록 우량)': '신용등급',\n",
    "    '기준년월 시점 3개월내 연체일수가 30일 이상 된 대출연체 유지 과목수(연체대출금 상환 포함)': '3개월_30일연체_과목수',\n",
    "    '기준년월 시점 6개월내 대출연체 발생분 최장 보유일수(연체대출금 상환 포함)': '6개월연체_최장보유일수',\n",
    "    '연체경험여부': '연체경험',\n",
    "    '총신규연체과목수': '신규연체과목수',\n",
    "    '기준년월 시점 신용도판단정보 및 공공정보 (한국신용정보원) 최근 해제일자로 부터 경과일수': '공공정보_해제경과일수'\n",
    "})\n"
   ]
  },
  {
   "cell_type": "code",
   "execution_count": 20,
   "id": "701b36a5",
   "metadata": {},
   "outputs": [],
   "source": [
    "# 주요 피처와 타겟만 추출\n",
    "selected_features = [\n",
    "    '신용등급',\n",
    "    '3개월_30일연체_과목수',\n",
    "    '6개월연체_최장보유일수',\n",
    "    '연체경험',\n",
    "    '신규연체과목수',\n",
    "    '공공정보_해제경과일수'\n",
    "]\n",
    "\n",
    "X = df_건설[selected_features].copy()\n",
    "y = df_건설['부도여부'].copy()\n"
   ]
  },
  {
   "cell_type": "code",
   "execution_count": 21,
   "id": "5d83ed09",
   "metadata": {},
   "outputs": [],
   "source": [
    "from sklearn.impute import SimpleImputer\n",
    "\n",
    "# 수치형은 평균, 범주형(예: 연체경험)은 최빈값으로\n",
    "num_imputer = SimpleImputer(strategy='mean')\n",
    "cat_imputer = SimpleImputer(strategy='most_frequent')\n",
    "\n",
    "# 연체경험이 이진값이면 float일 수도 있음\n",
    "for col in X.columns:\n",
    "    if X[col].dtype == 'float64' or X[col].dtype == 'int64':\n",
    "        X[col] = num_imputer.fit_transform(X[[col]])\n",
    "    else:\n",
    "        X[col] = cat_imputer.fit_transform(X[[col]])\n"
   ]
  },
  {
   "cell_type": "code",
   "execution_count": 22,
   "id": "9c61a8d8",
   "metadata": {},
   "outputs": [
    {
     "data": {
      "text/html": [
       "<div>\n",
       "<style scoped>\n",
       "    .dataframe tbody tr th:only-of-type {\n",
       "        vertical-align: middle;\n",
       "    }\n",
       "\n",
       "    .dataframe tbody tr th {\n",
       "        vertical-align: top;\n",
       "    }\n",
       "\n",
       "    .dataframe thead th {\n",
       "        text-align: right;\n",
       "    }\n",
       "</style>\n",
       "<table border=\"1\" class=\"dataframe\">\n",
       "  <thead>\n",
       "    <tr style=\"text-align: right;\">\n",
       "      <th></th>\n",
       "      <th>Feature</th>\n",
       "      <th>VIF</th>\n",
       "    </tr>\n",
       "  </thead>\n",
       "  <tbody>\n",
       "    <tr>\n",
       "      <th>0</th>\n",
       "      <td>신용등급</td>\n",
       "      <td>5.234812</td>\n",
       "    </tr>\n",
       "    <tr>\n",
       "      <th>5</th>\n",
       "      <td>공공정보_해제경과일수</td>\n",
       "      <td>4.920141</td>\n",
       "    </tr>\n",
       "    <tr>\n",
       "      <th>2</th>\n",
       "      <td>6개월연체_최장보유일수</td>\n",
       "      <td>1.560218</td>\n",
       "    </tr>\n",
       "    <tr>\n",
       "      <th>3</th>\n",
       "      <td>연체경험</td>\n",
       "      <td>1.326993</td>\n",
       "    </tr>\n",
       "    <tr>\n",
       "      <th>4</th>\n",
       "      <td>신규연체과목수</td>\n",
       "      <td>1.321185</td>\n",
       "    </tr>\n",
       "    <tr>\n",
       "      <th>1</th>\n",
       "      <td>3개월_30일연체_과목수</td>\n",
       "      <td>1.251921</td>\n",
       "    </tr>\n",
       "  </tbody>\n",
       "</table>\n",
       "</div>"
      ],
      "text/plain": [
       "         Feature       VIF\n",
       "0           신용등급  5.234812\n",
       "5    공공정보_해제경과일수  4.920141\n",
       "2   6개월연체_최장보유일수  1.560218\n",
       "3           연체경험  1.326993\n",
       "4        신규연체과목수  1.321185\n",
       "1  3개월_30일연체_과목수  1.251921"
      ]
     },
     "execution_count": 22,
     "metadata": {},
     "output_type": "execute_result"
    }
   ],
   "source": [
    "from statsmodels.stats.outliers_influence import variance_inflation_factor\n",
    "import pandas as pd\n",
    "\n",
    "# VIF 계산용 DataFrame\n",
    "X_vif = pd.DataFrame(X, columns=selected_features)\n",
    "\n",
    "# VIF 계산\n",
    "vif_data = pd.DataFrame()\n",
    "vif_data['Feature'] = X_vif.columns\n",
    "vif_data['VIF'] = [variance_inflation_factor(X_vif.values, i) for i in range(X_vif.shape[1])]\n",
    "\n",
    "vif_data.sort_values(by='VIF', ascending=False)\n"
   ]
  },
  {
   "cell_type": "code",
   "execution_count": 23,
   "id": "652a3bbb",
   "metadata": {},
   "outputs": [
    {
     "name": "stdout",
     "output_type": "stream",
     "text": [
      "🔹 RandomForest 결과\n",
      "              precision    recall  f1-score   support\n",
      "\n",
      "           0       0.97      1.00      0.99     17825\n",
      "           1       0.67      0.11      0.19       540\n",
      "\n",
      "    accuracy                           0.97     18365\n",
      "   macro avg       0.82      0.56      0.59     18365\n",
      "weighted avg       0.96      0.97      0.96     18365\n",
      "\n",
      "ROC AUC: 0.7869535608539816\n",
      "\n",
      "🔹 XGBoost 결과\n",
      "              precision    recall  f1-score   support\n",
      "\n",
      "           0       0.97      1.00      0.99     17825\n",
      "           1       0.70      0.06      0.10       540\n",
      "\n",
      "    accuracy                           0.97     18365\n",
      "   macro avg       0.83      0.53      0.54     18365\n",
      "weighted avg       0.96      0.97      0.96     18365\n",
      "\n",
      "ROC AUC: 0.8002080930860735\n"
     ]
    }
   ],
   "source": [
    "from sklearn.model_selection import train_test_split\n",
    "from sklearn.ensemble import RandomForestClassifier\n",
    "from xgboost import XGBClassifier\n",
    "from sklearn.metrics import classification_report, roc_auc_score\n",
    "\n",
    "# 학습/검증 분리\n",
    "X_train, X_test, y_train, y_test = train_test_split(X, y, test_size=0.2, stratify=y, random_state=42)\n",
    "\n",
    "# 1. RandomForestClassifier\n",
    "rf = RandomForestClassifier(random_state=42)\n",
    "rf.fit(X_train, y_train)\n",
    "rf_pred = rf.predict(X_test)\n",
    "rf_prob = rf.predict_proba(X_test)[:, 1]\n",
    "\n",
    "# 평가\n",
    "print(\"🔹 RandomForest 결과\")\n",
    "print(classification_report(y_test, rf_pred))\n",
    "print(\"ROC AUC:\", roc_auc_score(y_test, rf_prob))\n",
    "\n",
    "# 2. XGBoostClassifier\n",
    "xgb = XGBClassifier(use_label_encoder=False, eval_metric='logloss', random_state=42)\n",
    "xgb.fit(X_train, y_train)\n",
    "xgb_pred = xgb.predict(X_test)\n",
    "xgb_prob = xgb.predict_proba(X_test)[:, 1]\n",
    "\n",
    "# 평가\n",
    "print(\"\\n🔹 XGBoost 결과\")\n",
    "print(classification_report(y_test, xgb_pred))\n",
    "print(\"ROC AUC:\", roc_auc_score(y_test, xgb_prob))\n"
   ]
  },
  {
   "cell_type": "markdown",
   "id": "7a4ff8a1",
   "metadata": {},
   "source": [
    "---\n",
    "# 언더샘플링\n",
    "---"
   ]
  },
  {
   "cell_type": "code",
   "execution_count": 24,
   "id": "dd76d618",
   "metadata": {},
   "outputs": [
    {
     "name": "stdout",
     "output_type": "stream",
     "text": [
      "Resampled: Counter({0: 2700, 1: 2700})\n",
      "🔹 언더샘플링 + RF 결과\n",
      "              precision    recall  f1-score   support\n",
      "\n",
      "           0       0.83      0.51      0.64       540\n",
      "           1       0.65      0.90      0.75       540\n",
      "\n",
      "    accuracy                           0.71      1080\n",
      "   macro avg       0.74      0.71      0.70      1080\n",
      "weighted avg       0.74      0.71      0.70      1080\n",
      "\n",
      "ROC AUC: 0.7952417695473251\n"
     ]
    }
   ],
   "source": [
    "from collections import Counter\n",
    "from imblearn.under_sampling import RandomUnderSampler\n",
    "\n",
    "rus = RandomUnderSampler(random_state=42)\n",
    "X_resampled, y_resampled = rus.fit_resample(X, y)\n",
    "\n",
    "print(\"Resampled:\", Counter(y_resampled))\n",
    "\n",
    "# 학습/검증 나누기\n",
    "X_train, X_test, y_train, y_test = train_test_split(X_resampled, y_resampled, test_size=0.2, stratify=y_resampled, random_state=42)\n",
    "\n",
    "# 랜덤포레스트 학습\n",
    "rf = RandomForestClassifier(random_state=42)\n",
    "rf.fit(X_train, y_train)\n",
    "rf_pred = rf.predict(X_test)\n",
    "rf_prob = rf.predict_proba(X_test)[:, 1]\n",
    "\n",
    "print(\"🔹 언더샘플링 + RF 결과\")\n",
    "print(classification_report(y_test, rf_pred))\n",
    "print(\"ROC AUC:\", roc_auc_score(y_test, rf_prob))\n"
   ]
  },
  {
   "cell_type": "code",
   "execution_count": 25,
   "id": "aedaddb5",
   "metadata": {},
   "outputs": [
    {
     "name": "stdout",
     "output_type": "stream",
     "text": [
      "🔹 언더샘플링 + XGB 결과\n",
      "              precision    recall  f1-score   support\n",
      "\n",
      "           0       0.83      0.51      0.63       540\n",
      "           1       0.65      0.89      0.75       540\n",
      "\n",
      "    accuracy                           0.70      1080\n",
      "   macro avg       0.74      0.70      0.69      1080\n",
      "weighted avg       0.74      0.70      0.69      1080\n",
      "\n",
      "ROC AUC: 0.7887174211248285\n"
     ]
    }
   ],
   "source": [
    "xgb = XGBClassifier(random_state=42, use_label_encoder=False, eval_metric='logloss')\n",
    "xgb.fit(X_train, y_train)\n",
    "xgb_pred = xgb.predict(X_test)\n",
    "xgb_prob = xgb.predict_proba(X_test)[:, 1]\n",
    "\n",
    "print(\"🔹 언더샘플링 + XGB 결과\")\n",
    "print(classification_report(y_test, xgb_pred))\n",
    "print(\"ROC AUC:\", roc_auc_score(y_test, xgb_prob))\n"
   ]
  },
  {
   "cell_type": "markdown",
   "id": "1973c742",
   "metadata": {},
   "source": [
    "---\n",
    "# 오버샘플링\n",
    "---"
   ]
  },
  {
   "cell_type": "code",
   "execution_count": 26,
   "id": "fdbc688c",
   "metadata": {},
   "outputs": [],
   "source": [
    "from imblearn.over_sampling import SMOTE\n",
    "from sklearn.ensemble import RandomForestClassifier\n",
    "from xgboost import XGBClassifier\n",
    "from sklearn.metrics import classification_report, roc_auc_score\n",
    "from sklearn.model_selection import train_test_split\n"
   ]
  },
  {
   "cell_type": "code",
   "execution_count": 27,
   "id": "29be4df0",
   "metadata": {},
   "outputs": [
    {
     "name": "stdout",
     "output_type": "stream",
     "text": [
      "기준년월\n",
      "가명 식별자\n",
      "외감구분\n",
      "설립일자\n",
      "종업원수\n",
      "주소지시군구\n",
      "상장일자\n",
      "상장폐지일자\n",
      "유동자산\n",
      "비유동자산\n",
      "당좌자산\n",
      "재고자산\n",
      "유형자산\n",
      "재공품\n",
      "현금\n",
      "현금등가물\n",
      "상품유가증권\n",
      "현금성자산\n",
      "매출채권\n",
      "매출채권(전기)\n",
      "매출채권처분손실(당기)\n",
      "무형자산\n",
      "투자자산\n",
      "자산총계\n",
      "자산총계(전기)\n",
      "유동부채\n",
      "단기차입금\n",
      "차입금\n",
      "매입채무\n",
      "비유동부채\n",
      "부채총계\n",
      "자기자본(납입자본금)\n",
      "자본잉여금\n",
      "납입자본\n",
      "이익잉여금\n",
      "자본조정\n",
      "기타포괄손익누계액\n",
      "유보금\n",
      "자본총계\n",
      "전기자본총계\n",
      "매출액\n",
      "전기매출액\n",
      "매출원가\n",
      "매출총이익\n",
      "판매비와관리비\n",
      "법인세비용차감전 순이익\n",
      "전기법인세차감전순이익\n",
      "법인세\n",
      "계속사업이익\n",
      "중단산업손익\n",
      "금융비용\n",
      "영업손익\n",
      "전기영업이익\n",
      "영업외수익\n",
      "영업외비용\n",
      "법인세차감전순이익\n",
      "당기순이익\n",
      "당기순이익(전기)\n",
      "현금흐름\n",
      "영업활동현금흐름\n",
      "투자활동현금흐름\n",
      "재무활동현금흐름\n",
      "부채상환계수\n",
      "영업이익이자보상배율\n",
      "이자비용\n",
      "사채이자(당기)\n",
      "이자보상배율\n",
      "적립금비율\n",
      "EBIT\n",
      "EBITDA\n",
      "청산가치율\n",
      "청산가치\n",
      "순운전자본\n",
      "순차입금\n",
      "총자산증가율\n",
      "부채비율\n",
      "자기자본비율\n",
      "유동비율\n",
      "차입금의존도\n",
      "매출액증가율\n",
      "영업이익율\n",
      "당기순이익율\n",
      "매출원가율\n",
      "판관비율\n",
      "자기자본이익률(ROE)\n",
      "매출채권회전율\n",
      "재고자산회전율\n",
      "매입채무회전율\n",
      "총자산회전율\n",
      "총자산순이익률\n",
      "유동자산증가율\n",
      "유형자산증가율\n",
      "단기차입금의존도\n",
      "당좌비율\n",
      "순차입금비율\n",
      "순운전자본회전율\n",
      "총자본회전율\n",
      "자기자본순이익율\n",
      "매출총이익율\n",
      "EBITDA마진율\n",
      "영업이익증가율\n",
      "당기순이익증가율\n",
      "EBITDA증가율\n",
      "OCF/매출액비용\n",
      "부채상환계수.1\n",
      "차입금/EBITDA\n",
      "EBITDA/금융비용\n",
      "EBITDA/금융비용.1\n",
      "EBITDA/금융비용.2\n",
      "EBITDA/금융비용.3\n",
      "EBITDA/금융비용.4\n",
      "EBITDA/금융비용.5\n",
      "기준년월 시점 대출연체 과목수\n",
      "기준년월 시점 3개월내 대출연체 유지 과목수(연체대출금 상환 포함)\n",
      "기준년월 시점 6개월내 대출연체 유지 과목수(연체대출금 상환 포함)\n",
      "기준년월 시점 1년내 대출연체 유지 과목수(연체대출금 상환 포함)\n",
      "기준년월 시점 3년내 대출연체 유지 과목수(연체대출금 상환 포함)\n",
      "기준년월 시점 3개월내 대출연체 신규발생 과목수(연체대출금 상환 포함)\n",
      "기준년월 시점 6개월내 대출연체 신규발생 과목수(연체대출금 상환 포함)\n",
      "기준년월 시점 1년내 대출연체 신규발생 과목수(연체대출금 상환 포함)\n",
      "기준년월 시점 3년내 대출연체 신규발생 과목수(연체대출금 상환 포함)\n",
      "3개월_30일연체_과목수\n",
      "기준년월 시점 6개월내 연체일수가 30일 이상 된 대출연체 유지 과목수(연체대출금 상환 포함)\n",
      "기준년월 시점 1년내 연체일수가 30일 이상 된 대출연체 유지 과목수(연체대출금 상환 포함)\n",
      "기준년월 시점 3년내 연체일수가 30일 이상 된 대출연체 유지 과목수(연체대출금 상환 포함)\n",
      "기준년월 시점 연체일수가 30일 이상 된 대출연체 유지 과목수(연체대출금 상환 포함)\n",
      "기준년월 시점 연체일수가 30일 이상 된 대출연체 유지 과목수(연체대출금 상환 제외)\n",
      "기준년월 시점 연체일수가 30일 이상 된 이자 및 원금 대출연체 유지 과목수(연체대출금 상환 포함)\n",
      "기준년월 시점 연체일수가 30일 이상 된 이자 및 원금 대출연체 유지 과목수(연체대출금 상환 제외)\n",
      "기준년월 시점 연체일수가 30일 이상 대출연체 유지 기관수(연체대출금 상환 제외)\n",
      ": 기관=법인등록번호 기준 소속 사업자번호수\n",
      "기준년월 시점 연체일수가 30일 이상 대출연체 유지 기관수(연체대출금 상환 포함)\n",
      "기준년월 시점 연체일수가 30일 이상 대출연체 유지 기관수(연체대출금 상환 제외)\n",
      "기준년월 시점 연체일수가 30일 이상 대출연체 유지 기관수(연체대출금 상환 포함).1\n",
      "기준년월 시점 연체일수가 30일 이상 대출연체 유지 기관수(연체대출금 상환 제외).1\n",
      "기준년월 시점 3개월내 연체일수가 30일 이상 된 대출연체 유지 기관수(연체대출금 상환 포함)\n",
      "기준년월 시점 6개월내 연체일수가 30일 이상 된 대출연체 유지 기관수(연체대출금 상환 포함)\n",
      "기준년월 시점 1년내 연체일수가 30일 이상 된 대출연체 유지 기관수(연체대출금 상환 포함)\n",
      "기준년월 시점 3년내 연체일수가 30일 이상 된 대출연체 유지 기관수(연체대출금 상환 포함)\n",
      "기준년월 시점 3개월내 대출연체 최장 보유일수(연체대출금 상환 포함)\n",
      "기준년월 시점 6개월내 대출연체 최장 보유일수(연체대출금 상환 포함)\n",
      "기준년월 시점 1년내 대출연체 최장 보유일수(연체대출금 상환 포함)\n",
      "기준년월 시점 3년내 대출연체 최장 보유일수(연체대출금 상환 포함)\n",
      "기준년월 시점 5년내 대출연체 최장 보유일수(연체대출금 상환 포함)\n",
      "기준년월 시점 3개월내 대출연체 발생분 최장 보유일수(연체대출금 상환 포함)\n",
      "6개월연체_최장보유일수\n",
      "기준년월 시점 1년내 대출연체 발생분 최장 보유일수(연체대출금 상환 포함)\n",
      "기준년월 시점 3년내 대출연체 발생분 최장 보유일수(연체대출금 상환 포함)\n",
      "기준년월 시점 5년내 대출연체 발생분 최장 보유일수(연체대출금 상환 포함)\n",
      "기준년월 시점 신용도판단정보 및 공공정보 (한국신용정보원) 발생건수(해제 포함)\n",
      "기준년월 시점 신용도판단정보 및 공공정보 (한국신용정보원) 발생건수(해제 제외)\n",
      "기준년월 시점 관련인을 제외한 신용도판단정보 및 공공정보 (한국신용정보원) 발생건수(해제 포함)\n",
      "기준년월 시점 공공정보 (한국신용정보원) 유지건수(해제 제외)\n",
      "기준년월 시점 공공정보 (한국신용정보원) 5년내 발생건수\n",
      "기준년월 시점 공공정보 (한국신용정보원) 발생건수(해제 제외)\n",
      "기준년월 시점 공공정보 (한국신용정보원) 5년내 발생건수.1\n",
      "기준년월 시점 신용도판단정보 및 공공정보 (한국신용정보원) 최근 발생일자로 부터 경과일수(해제 포함)\n",
      "공공정보_해제경과일수\n",
      "신용등급\n",
      "부도여부\n",
      "업종(대분류)\n",
      "기준년\n",
      "기준월\n",
      "총자산\n",
      "총부채\n",
      "자기자본\n",
      "매출총이익률\n",
      "연체경험\n",
      "연체발생_경과일수\n",
      "공공정보_유지여부\n",
      "총연체대출과목수\n",
      "신규연체과목수\n",
      "총장기연체과목수\n",
      "이자원금_30일초과연체과목수\n"
     ]
    }
   ],
   "source": [
    "# 컬럼명 전체 보기\n",
    "for col in df_건설.columns:\n",
    "    print(col)\n"
   ]
  },
  {
   "cell_type": "code",
   "execution_count": 28,
   "id": "f53496d9",
   "metadata": {},
   "outputs": [],
   "source": [
    "# 정확한 피처 리스트 다시 확인 (컬럼명 정확히 매칭 필요)\n",
    "selected_features = [\n",
    "    '신용등급',\n",
    "    '3개월_30일연체_과목수',\n",
    "    '6개월연체_최장보유일수',\n",
    "    '연체경험',\n",
    "    '신규연체과목수',\n",
    "    '공공정보_해제경과일수'\n",
    "]\n",
    "\n",
    "target_col = '기준일로부터 향후 1년내 부도, 기업회생, 90일이상 금융연체, 대지급 등 발생여부(신용정보원 기준). 1: 향후1년내 부도발생, 0: 향후1년내 부도미발생'\n",
    "\n",
    "\n",
    "X = df_건설[selected_features]\n",
    "y = df_건설['부도여부']\n"
   ]
  },
  {
   "cell_type": "code",
   "execution_count": 29,
   "id": "150af70b",
   "metadata": {},
   "outputs": [],
   "source": [
    "# 학습/테스트 분리 (stratify로 불균형 유지)\n",
    "X_train, X_test, y_train, y_test = train_test_split(\n",
    "    X, y, test_size=0.2, stratify=y, random_state=42\n",
    ")"
   ]
  },
  {
   "cell_type": "code",
   "execution_count": 30,
   "id": "5349e6cf",
   "metadata": {},
   "outputs": [],
   "source": [
    "from imblearn.over_sampling import SMOTE\n",
    "\n",
    "smote = SMOTE(random_state=42)\n",
    "X_train_oversampled, y_train_oversampled = smote.fit_resample(X_train, y_train)"
   ]
  },
  {
   "cell_type": "code",
   "execution_count": 31,
   "id": "aac9cf97",
   "metadata": {},
   "outputs": [
    {
     "name": "stdout",
     "output_type": "stream",
     "text": [
      "[[10185  7640]\n",
      " [   87   453]]\n",
      "              precision    recall  f1-score   support\n",
      "\n",
      "           0     0.9915    0.5714    0.7250     17825\n",
      "           1     0.0560    0.8389    0.1049       540\n",
      "\n",
      "    accuracy                         0.5793     18365\n",
      "   macro avg     0.5238    0.7051    0.4150     18365\n",
      "weighted avg     0.9640    0.5793    0.7068     18365\n",
      "\n"
     ]
    }
   ],
   "source": [
    "from xgboost import XGBClassifier\n",
    "from sklearn.metrics import classification_report, confusion_matrix\n",
    "\n",
    "model = XGBClassifier(random_state=42, n_jobs=-1)\n",
    "model.fit(X_train_oversampled, y_train_oversampled)\n",
    "\n",
    "# 평가\n",
    "y_pred = model.predict(X_test)\n",
    "print(confusion_matrix(y_test, y_pred))\n",
    "print(classification_report(y_test, y_pred, digits=4))\n"
   ]
  },
  {
   "cell_type": "code",
   "execution_count": 32,
   "id": "606dc17e",
   "metadata": {},
   "outputs": [],
   "source": [
    "from imblearn.under_sampling import RandomUnderSampler\n",
    "\n",
    "rus = RandomUnderSampler(random_state=42)\n",
    "X_train_under, y_train_under = rus.fit_resample(X_train, y_train)"
   ]
  },
  {
   "cell_type": "code",
   "execution_count": 33,
   "id": "35d2377e",
   "metadata": {},
   "outputs": [
    {
     "data": {
      "image/png": "[encoded data removed]",
      "text/plain": [
       "<Figure size 1000x600 with 1 Axes>"
      ]
     },
     "metadata": {},
     "output_type": "display_data"
    }
   ],
   "source": [
    "import matplotlib.pyplot as plt\n",
    "import pandas as pd\n",
    "import numpy as np\n",
    "\n",
    "# 중요도 추출\n",
    "importances = model.feature_importances_\n",
    "indices = np.argsort(importances)[::-1]\n",
    "features_sorted = [selected_features[i] for i in indices]\n",
    "\n",
    "# 시각화\n",
    "plt.figure(figsize=(10, 6))\n",
    "plt.title(\"Feature Importances (XGBoost - SMOTE 적용)\")\n",
    "plt.bar(range(len(selected_features)), importances[indices])\n",
    "plt.xticks(range(len(selected_features)), features_sorted, rotation=90)\n",
    "plt.tight_layout()\n",
    "plt.show()\n"
   ]
  },
  {
   "cell_type": "code",
   "execution_count": 34,
   "id": "94ceca60",
   "metadata": {},
   "outputs": [
    {
     "name": "stdout",
     "output_type": "stream",
     "text": [
      "[[ 7153 10672]\n",
      " [   39   501]]\n",
      "              precision    recall  f1-score   support\n",
      "\n",
      "           0     0.9946    0.4013    0.5719     17825\n",
      "           1     0.0448    0.9278    0.0855       540\n",
      "\n",
      "    accuracy                         0.4168     18365\n",
      "   macro avg     0.5197    0.6645    0.3287     18365\n",
      "weighted avg     0.9667    0.4168    0.5576     18365\n",
      "\n"
     ]
    }
   ],
   "source": [
    "from sklearn.metrics import classification_report, confusion_matrix\n",
    "\n",
    "# 예측 확률 얻기\n",
    "y_proba = model.predict_proba(X_test)[:, 1]  # 부도 클래스(1)의 확률\n",
    "\n",
    "# threshold 조정 (예: 0.2로 설정)\n",
    "threshold = 0.2\n",
    "y_pred_thresh = (y_proba >= threshold).astype(int)\n",
    "\n",
    "# 평가\n",
    "print(confusion_matrix(y_test, y_pred_thresh))\n",
    "print(classification_report(y_test, y_pred_thresh, digits=4))\n"
   ]
  },
  {
   "cell_type": "code",
   "execution_count": 35,
   "id": "a611cadf",
   "metadata": {},
   "outputs": [],
   "source": [
    "# XGBoost 예시\n",
    "xgb = XGBClassifier(scale_pos_weight=len(y_train[y_train==0]) / len(y_train[y_train==1]))\n",
    "\n",
    "# RandomForest 예시\n",
    "rf = RandomForestClassifier(class_weight={0:1, 1:10})  # 부도 쪽에 더 큰 가중치 부여\n"
   ]
  },
  {
   "cell_type": "code",
   "execution_count": 36,
   "id": "b3a8f599",
   "metadata": {},
   "outputs": [],
   "source": [
    "from imblearn.combine import SMOTEENN\n",
    "\n",
    "smote_enn = SMOTEENN(random_state=42)\n",
    "X_res, y_res = smote_enn.fit_resample(X_train, y_train)\n"
   ]
  },
  {
   "cell_type": "code",
   "execution_count": 37,
   "id": "c9f33979",
   "metadata": {},
   "outputs": [],
   "source": [
    "from xgboost import XGBClassifier\n",
    "\n",
    "scale = len(y_train[y_train == 0]) / len(y_train[y_train == 1])  # 불균형 비율\n",
    "model = XGBClassifier(scale_pos_weight=scale, random_state=42)\n"
   ]
  },
  {
   "cell_type": "code",
   "execution_count": 38,
   "id": "21082d15",
   "metadata": {},
   "outputs": [],
   "source": [
    "from imblearn.combine import SMOTEENN\n",
    "sampler = SMOTEENN(random_state=42)\n",
    "X_res, y_res = sampler.fit_resample(X_train, y_train)\n"
   ]
  },
  {
   "cell_type": "code",
   "execution_count": 39,
   "id": "9844546a",
   "metadata": {},
   "outputs": [],
   "source": [
    "from sklearn.svm import SVC\n",
    "\n",
    "model = SVC(class_weight={0: 1, 1: 10}, probability=True)\n"
   ]
  },
  {
   "cell_type": "code",
   "execution_count": 40,
   "id": "593fe176",
   "metadata": {},
   "outputs": [],
   "source": [
    "scale = len(y_train[y_train == 0]) / len(y_train[y_train == 1])\n"
   ]
  },
  {
   "cell_type": "code",
   "execution_count": 41,
   "id": "6f1aaa27",
   "metadata": {},
   "outputs": [
    {
     "name": "stdout",
     "output_type": "stream",
     "text": [
      "scale_pos_weight = 33.01\n",
      "[[10212  7613]\n",
      " [   79   461]]\n",
      "              precision    recall  f1-score   support\n",
      "\n",
      "           0       0.99      0.57      0.73     17825\n",
      "           1       0.06      0.85      0.11       540\n",
      "\n",
      "    accuracy                           0.58     18365\n",
      "   macro avg       0.52      0.71      0.42     18365\n",
      "weighted avg       0.96      0.58      0.71     18365\n",
      "\n",
      "ROC AUC: 0.7912\n"
     ]
    }
   ],
   "source": [
    "from xgboost import XGBClassifier\n",
    "from sklearn.metrics import classification_report, confusion_matrix, roc_auc_score\n",
    "\n",
    "# 1. 클래스 비율 계산\n",
    "scale = len(y_train[y_train == 0]) / len(y_train[y_train == 1])\n",
    "print(f\"scale_pos_weight = {scale:.2f}\")\n",
    "\n",
    "# 2. 모델 생성\n",
    "model_xgb_weighted = XGBClassifier(\n",
    "    scale_pos_weight=scale,\n",
    "    use_label_encoder=False,\n",
    "    eval_metric='logloss',\n",
    "    random_state=42\n",
    ")\n",
    "\n",
    "# 3. 학습\n",
    "model_xgb_weighted.fit(X_train, y_train)\n",
    "\n",
    "# 4. 예측\n",
    "y_pred = model_xgb_weighted.predict(X_test)\n",
    "y_proba = model_xgb_weighted.predict_proba(X_test)[:, 1]\n",
    "\n",
    "# 5. 평가\n",
    "print(confusion_matrix(y_test, y_pred))\n",
    "print(classification_report(y_test, y_pred))\n",
    "print(f\"ROC AUC: {roc_auc_score(y_test, y_proba):.4f}\")\n"
   ]
  },
  {
   "cell_type": "code",
   "execution_count": 42,
   "id": "111ffd7b",
   "metadata": {},
   "outputs": [],
   "source": [
    "df_건설.to_csv('피처추가함.csv', index=False)"
   ]
  },
  {
   "cell_type": "code",
   "execution_count": null,
   "id": "d505637a",
   "metadata": {},
   "outputs": [],
   "source": []
  },
  {
   "cell_type": "code",
   "execution_count": null,
   "id": "98d0a769",
   "metadata": {},
   "outputs": [],
   "source": []
  }
 ],
 "metadata": {
  "kernelspec": {
   "display_name": "Python 3 (ipykernel)",
   "language": "python",
   "name": "python3"
  },
  "language_info": {
   "codemirror_mode": {
    "name": "ipython",
    "version": 3
   },
   "file_extension": ".py",
   "mimetype": "text/x-python",
   "name": "python",
   "nbconvert_exporter": "python",
   "pygments_lexer": "ipython3",
   "version": "3.12.3"
  }
 },
 "nbformat": 4,
 "nbformat_minor": 5
}
