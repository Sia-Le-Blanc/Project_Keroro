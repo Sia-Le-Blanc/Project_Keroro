{
 "cells": [
  {
   "cell_type": "code",
   "execution_count": 2,
   "id": "f2101627",
   "metadata": {},
   "outputs": [],
   "source": [
    "import pandas as pd\n",
    "import numpy as np\n",
    "import matplotlib.pyplot as plt\n",
    "plt.rcParams['font.family'] = 'AppleGothic'\n",
    "df = pd.read_csv('aihub (1).csv', encoding='cp949')"
   ]
  },
  {
   "cell_type": "code",
   "execution_count": 3,
   "id": "7a3d04e4",
   "metadata": {},
   "outputs": [
    {
     "data": {
      "text/plain": [
       "Index(['기준년월', '가명 식별자', '업종(중분류)', '유동자산', '비유동자산', '현금', '자산총계', '자산총계(전기)',\n",
       "       '유동부채', '단기차입금', '부채총계', '자기자본(납입자본금)', '이익잉여금', '매출액', '전기매출액', '영업손익',\n",
       "       '당기순이익', '현금흐름', '영업활동현금흐름', '재무활동현금흐름', '이자비용', '이자보상배율', 'EBIT',\n",
       "       'EBITDA', '총자산증가율', '부채비율', '유동비율', '매출액증가율', '영업이익율', '당기순이익율',\n",
       "       '자기자본이익률(ROE)', '총자산순이익률', '유동자산증가율', '유형자산증가율', '매출총이익율', '영업이익증가율',\n",
       "       '당기순이익증가율', 'EBITDA증가율', '차입금/EBITDA', 'EBITDA/금융비용',\n",
       "       '기준년월 시점 대출연체 과목수', '기준년월 시점 3개월내 대출연체 유지 과목수(연체대출금 상환 포함)',\n",
       "       '기준년월 시점 6개월내 대출연체 유지 과목수(연체대출금 상환 포함)',\n",
       "       '기준년월 시점 1년내 대출연체 유지 과목수(연체대출금 상환 포함)',\n",
       "       '기준년월 시점 3년내 대출연체 유지 과목수(연체대출금 상환 포함)',\n",
       "       '기준년월 시점 연체일수가 30일 이상 된 대출연체 유지 과목수(연체대출금 상환 포함)',\n",
       "       '기준년월 시점 신용도판단정보 및 공공정보 (한국신용정보원) 발생건수(해제 제외)',\n",
       "       '기준년월 시점 공공정보 (한국신용정보원) 유지건수(해제 제외)',\n",
       "       '기준년월 시점 신용도판단정보 및 공공정보 (한국신용정보원) 최근 해제일자로 부터 경과일수',\n",
       "       '기준일로부터 향후 1년내 부도, 기업회생, 90일이상 금융연체, 대지급 등 발생여부(신용정보원 기준). 1: 향후1년내 부도발생, 0: 향후1년내 부도미발생',\n",
       "       '업종(대분류)', '시도명', '시군구명'],\n",
       "      dtype='object')"
      ]
     },
     "execution_count": 3,
     "metadata": {},
     "output_type": "execute_result"
    }
   ],
   "source": [
    "df.columns"
   ]
  },
  {
   "cell_type": "code",
   "execution_count": 4,
   "id": "c348a479",
   "metadata": {},
   "outputs": [
    {
     "name": "stdout",
     "output_type": "stream",
     "text": [
      "<class 'pandas.core.frame.DataFrame'>\n",
      "RangeIndex: 124989 entries, 0 to 124988\n",
      "Data columns (total 53 columns):\n",
      " #   Column                                                                                   Non-Null Count   Dtype  \n",
      "---  ------                                                                                   --------------   -----  \n",
      " 0   기준년월                                                                                     124989 non-null  int64  \n",
      " 1   가명 식별자                                                                                   124989 non-null  int64  \n",
      " 2   업종(중분류)                                                                                  124989 non-null  object \n",
      " 3   유동자산                                                                                     124989 non-null  int64  \n",
      " 4   비유동자산                                                                                    124989 non-null  int64  \n",
      " 5   현금                                                                                       124989 non-null  int64  \n",
      " 6   자산총계                                                                                     124989 non-null  int64  \n",
      " 7   자산총계(전기)                                                                                 124989 non-null  int64  \n",
      " 8   유동부채                                                                                     124989 non-null  int64  \n",
      " 9   단기차입금                                                                                    124989 non-null  int64  \n",
      " 10  부채총계                                                                                     124989 non-null  int64  \n",
      " 11  자기자본(납입자본금)                                                                              124989 non-null  int64  \n",
      " 12  이익잉여금                                                                                    124989 non-null  int64  \n",
      " 13  매출액                                                                                      124989 non-null  int64  \n",
      " 14  전기매출액                                                                                    124989 non-null  int64  \n",
      " 15  영업손익                                                                                     124989 non-null  int64  \n",
      " 16  당기순이익                                                                                    124989 non-null  int64  \n",
      " 17  현금흐름                                                                                     124989 non-null  int64  \n",
      " 18  영업활동현금흐름                                                                                 124989 non-null  int64  \n",
      " 19  재무활동현금흐름                                                                                 124989 non-null  int64  \n",
      " 20  이자비용                                                                                     124989 non-null  int64  \n",
      " 21  이자보상배율                                                                                   124989 non-null  float64\n",
      " 22  EBIT                                                                                     124989 non-null  int64  \n",
      " 23  EBITDA                                                                                   124989 non-null  int64  \n",
      " 24  총자산증가율                                                                                   124989 non-null  float64\n",
      " 25  부채비율                                                                                     124989 non-null  float64\n",
      " 26  유동비율                                                                                     124989 non-null  float64\n",
      " 27  매출액증가율                                                                                   124989 non-null  float64\n",
      " 28  영업이익율                                                                                    124989 non-null  float64\n",
      " 29  당기순이익율                                                                                   124989 non-null  float64\n",
      " 30  자기자본이익률(ROE)                                                                             124989 non-null  float64\n",
      " 31  총자산순이익률                                                                                  124989 non-null  float64\n",
      " 32  유동자산증가율                                                                                  124989 non-null  float64\n",
      " 33  유형자산증가율                                                                                  124989 non-null  float64\n",
      " 34  매출총이익율                                                                                   124989 non-null  float64\n",
      " 35  영업이익증가율                                                                                  124989 non-null  float64\n",
      " 36  당기순이익증가율                                                                                 124989 non-null  float64\n",
      " 37  EBITDA증가율                                                                                124989 non-null  float64\n",
      " 38  차입금/EBITDA                                                                               124989 non-null  float64\n",
      " 39  EBITDA/금융비용                                                                              124989 non-null  float64\n",
      " 40  기준년월 시점 대출연체 과목수                                                                         124989 non-null  int64  \n",
      " 41  기준년월 시점 3개월내 대출연체 유지 과목수(연체대출금 상환 포함)                                                    124989 non-null  int64  \n",
      " 42  기준년월 시점 6개월내 대출연체 유지 과목수(연체대출금 상환 포함)                                                    124989 non-null  int64  \n",
      " 43  기준년월 시점 1년내 대출연체 유지 과목수(연체대출금 상환 포함)                                                     124989 non-null  int64  \n",
      " 44  기준년월 시점 3년내 대출연체 유지 과목수(연체대출금 상환 포함)                                                     124989 non-null  int64  \n",
      " 45  기준년월 시점 연체일수가 30일 이상 된 대출연체 유지 과목수(연체대출금 상환 포함)                                          124989 non-null  int64  \n",
      " 46  기준년월 시점 신용도판단정보 및 공공정보 (한국신용정보원) 발생건수(해제 제외)                                             124989 non-null  int64  \n",
      " 47  기준년월 시점 공공정보 (한국신용정보원) 유지건수(해제 제외)                                                       124989 non-null  int64  \n",
      " 48  기준년월 시점 신용도판단정보 및 공공정보 (한국신용정보원) 최근 해제일자로 부터 경과일수                                        124989 non-null  int64  \n",
      " 49  기준일로부터 향후 1년내 부도, 기업회생, 90일이상 금융연체, 대지급 등 발생여부(신용정보원 기준). 1: 향후1년내 부도발생, 0: 향후1년내 부도미발생  124989 non-null  int64  \n",
      " 50  업종(대분류)                                                                                  124989 non-null  object \n",
      " 51  시도명                                                                                      124989 non-null  object \n",
      " 52  시군구명                                                                                     124989 non-null  object \n",
      "dtypes: float64(17), int64(32), object(4)\n",
      "memory usage: 50.5+ MB\n"
     ]
    }
   ],
   "source": [
    "df.info()"
   ]
  },
  {
   "cell_type": "code",
   "execution_count": 5,
   "id": "2a03fb99",
   "metadata": {},
   "outputs": [
    {
     "data": {
      "text/plain": [
       "(array([0, 1]), array([123163,   1826]))"
      ]
     },
     "execution_count": 5,
     "metadata": {},
     "output_type": "execute_result"
    }
   ],
   "source": [
    "np.unique(df['기준일로부터 향후 1년내 부도, 기업회생, 90일이상 금융연체, 대지급 등 발생여부(신용정보원 기준). 1: 향후1년내 부도발생, 0: 향후1년내 부도미발생'], return_counts=True)"
   ]
  },
  {
   "cell_type": "code",
   "execution_count": 6,
   "id": "6bc824a6",
   "metadata": {},
   "outputs": [],
   "source": [
    "l = []\n",
    "for i in df['업종(대분류)']:\n",
    "    if '건설' in i:\n",
    "        l.append(i)"
   ]
  },
  {
   "cell_type": "code",
   "execution_count": 7,
   "id": "e0242ebf",
   "metadata": {},
   "outputs": [
    {
     "data": {
      "text/plain": [
       "15653"
      ]
     },
     "execution_count": 7,
     "metadata": {},
     "output_type": "execute_result"
    }
   ],
   "source": [
    "len(l)"
   ]
  },
  {
   "cell_type": "code",
   "execution_count": 9,
   "id": "69eb597b",
   "metadata": {},
   "outputs": [],
   "source": [
    "df_건설 = df[df['업종(대분류)'].str.contains('건설', na=False)]"
   ]
  },
  {
   "cell_type": "code",
   "execution_count": 12,
   "id": "7dfe305a",
   "metadata": {},
   "outputs": [
    {
     "data": {
      "text/plain": [
       "(array([0, 1]), array([15445,   208]))"
      ]
     },
     "execution_count": 12,
     "metadata": {},
     "output_type": "execute_result"
    }
   ],
   "source": [
    "np.unique(df_건설['기준일로부터 향후 1년내 부도, 기업회생, 90일이상 금융연체, 대지급 등 발생여부(신용정보원 기준). 1: 향후1년내 부도발생, 0: 향후1년내 부도미발생'], return_counts=True)"
   ]
  },
  {
   "cell_type": "code",
   "execution_count": 15,
   "id": "0e1e4ef1",
   "metadata": {},
   "outputs": [
    {
     "data": {
      "text/plain": [
       "(array([ 0,  1,  2,  3,  4,  5,  6,  7,  8,  9, 10, 13, 43]),\n",
       " array([15473,   104,    41,     6,     9,     7,     2,     3,     3,\n",
       "            1,     2,     1,     1]))"
      ]
     },
     "execution_count": 15,
     "metadata": {},
     "output_type": "execute_result"
    }
   ],
   "source": [
    "np.unique(df_건설['기준년월 시점 6개월내 대출연체 유지 과목수(연체대출금 상환 포함)'], return_counts=True)"
   ]
  },
  {
   "cell_type": "code",
   "execution_count": 17,
   "id": "ac98144a",
   "metadata": {},
   "outputs": [
    {
     "name": "stdout",
     "output_type": "stream",
     "text": [
      "<class 'pandas.core.frame.DataFrame'>\n",
      "Index: 15653 entries, 13 to 124943\n",
      "Data columns (total 53 columns):\n",
      " #   Column                                                                                   Non-Null Count  Dtype  \n",
      "---  ------                                                                                   --------------  -----  \n",
      " 0   기준년월                                                                                     15653 non-null  int64  \n",
      " 1   가명 식별자                                                                                   15653 non-null  int64  \n",
      " 2   업종(중분류)                                                                                  15653 non-null  object \n",
      " 3   유동자산                                                                                     15653 non-null  int64  \n",
      " 4   비유동자산                                                                                    15653 non-null  int64  \n",
      " 5   현금                                                                                       15653 non-null  int64  \n",
      " 6   자산총계                                                                                     15653 non-null  int64  \n",
      " 7   자산총계(전기)                                                                                 15653 non-null  int64  \n",
      " 8   유동부채                                                                                     15653 non-null  int64  \n",
      " 9   단기차입금                                                                                    15653 non-null  int64  \n",
      " 10  부채총계                                                                                     15653 non-null  int64  \n",
      " 11  자기자본(납입자본금)                                                                              15653 non-null  int64  \n",
      " 12  이익잉여금                                                                                    15653 non-null  int64  \n",
      " 13  매출액                                                                                      15653 non-null  int64  \n",
      " 14  전기매출액                                                                                    15653 non-null  int64  \n",
      " 15  영업손익                                                                                     15653 non-null  int64  \n",
      " 16  당기순이익                                                                                    15653 non-null  int64  \n",
      " 17  현금흐름                                                                                     15653 non-null  int64  \n",
      " 18  영업활동현금흐름                                                                                 15653 non-null  int64  \n",
      " 19  재무활동현금흐름                                                                                 15653 non-null  int64  \n",
      " 20  이자비용                                                                                     15653 non-null  int64  \n",
      " 21  이자보상배율                                                                                   15653 non-null  float64\n",
      " 22  EBIT                                                                                     15653 non-null  int64  \n",
      " 23  EBITDA                                                                                   15653 non-null  int64  \n",
      " 24  총자산증가율                                                                                   15653 non-null  float64\n",
      " 25  부채비율                                                                                     15653 non-null  float64\n",
      " 26  유동비율                                                                                     15653 non-null  float64\n",
      " 27  매출액증가율                                                                                   15653 non-null  float64\n",
      " 28  영업이익율                                                                                    15653 non-null  float64\n",
      " 29  당기순이익율                                                                                   15653 non-null  float64\n",
      " 30  자기자본이익률(ROE)                                                                             15653 non-null  float64\n",
      " 31  총자산순이익률                                                                                  15653 non-null  float64\n",
      " 32  유동자산증가율                                                                                  15653 non-null  float64\n",
      " 33  유형자산증가율                                                                                  15653 non-null  float64\n",
      " 34  매출총이익율                                                                                   15653 non-null  float64\n",
      " 35  영업이익증가율                                                                                  15653 non-null  float64\n",
      " 36  당기순이익증가율                                                                                 15653 non-null  float64\n",
      " 37  EBITDA증가율                                                                                15653 non-null  float64\n",
      " 38  차입금/EBITDA                                                                               15653 non-null  float64\n",
      " 39  EBITDA/금융비용                                                                              15653 non-null  float64\n",
      " 40  기준년월 시점 대출연체 과목수                                                                         15653 non-null  int64  \n",
      " 41  기준년월 시점 3개월내 대출연체 유지 과목수(연체대출금 상환 포함)                                                    15653 non-null  int64  \n",
      " 42  기준년월 시점 6개월내 대출연체 유지 과목수(연체대출금 상환 포함)                                                    15653 non-null  int64  \n",
      " 43  기준년월 시점 1년내 대출연체 유지 과목수(연체대출금 상환 포함)                                                     15653 non-null  int64  \n",
      " 44  기준년월 시점 3년내 대출연체 유지 과목수(연체대출금 상환 포함)                                                     15653 non-null  int64  \n",
      " 45  기준년월 시점 연체일수가 30일 이상 된 대출연체 유지 과목수(연체대출금 상환 포함)                                          15653 non-null  int64  \n",
      " 46  기준년월 시점 신용도판단정보 및 공공정보 (한국신용정보원) 발생건수(해제 제외)                                             15653 non-null  int64  \n",
      " 47  기준년월 시점 공공정보 (한국신용정보원) 유지건수(해제 제외)                                                       15653 non-null  int64  \n",
      " 48  기준년월 시점 신용도판단정보 및 공공정보 (한국신용정보원) 최근 해제일자로 부터 경과일수                                        15653 non-null  int64  \n",
      " 49  기준일로부터 향후 1년내 부도, 기업회생, 90일이상 금융연체, 대지급 등 발생여부(신용정보원 기준). 1: 향후1년내 부도발생, 0: 향후1년내 부도미발생  15653 non-null  int64  \n",
      " 50  업종(대분류)                                                                                  15653 non-null  object \n",
      " 51  시도명                                                                                      15653 non-null  object \n",
      " 52  시군구명                                                                                     15653 non-null  object \n",
      "dtypes: float64(17), int64(32), object(4)\n",
      "memory usage: 6.4+ MB\n"
     ]
    }
   ],
   "source": [
    "df_건설.info()"
   ]
  },
  {
   "cell_type": "code",
   "execution_count": 18,
   "id": "41fb4415",
   "metadata": {},
   "outputs": [
    {
     "name": "stdout",
     "output_type": "stream",
     "text": [
      "📌 결측치 있는 컬럼:\n",
      " Series([], dtype: int64)\n",
      "📌 고정값 컬럼:\n",
      " 기준년월       1\n",
      "업종(대분류)    1\n",
      "dtype: int64\n"
     ]
    }
   ],
   "source": [
    "# 1-1. 결측치 확인\n",
    "missing_info = df_건설.isnull().sum()\n",
    "missing_info = missing_info[missing_info > 0].sort_values(ascending=False)\n",
    "print(\"📌 결측치 있는 컬럼:\\n\", missing_info)\n",
    "\n",
    "# 1-2. 고정값(유니크값 1개) 확인\n",
    "unique_counts = df_건설.nunique()\n",
    "fixed_columns = unique_counts[unique_counts == 1]\n",
    "print(\"📌 고정값 컬럼:\\n\", fixed_columns)"
   ]
  },
  {
   "cell_type": "code",
   "execution_count": 19,
   "id": "4027605b",
   "metadata": {},
   "outputs": [
    {
     "name": "stdout",
     "output_type": "stream",
     "text": [
      "📌 타겟(y)과 상관관계 높은 피처 TOP 15:\n",
      " 기준일로부터 향후 1년내 부도, 기업회생, 90일이상 금융연체, 대지급 등 발생여부(신용정보원 기준). 1: 향후1년내 부도발생, 0: 향후1년내 부도미발생    1.000000\n",
      "기준년월 시점 신용도판단정보 및 공공정보 (한국신용정보원) 최근 해제일자로 부터 경과일수                                         -0.071204\n",
      "기준년월 시점 공공정보 (한국신용정보원) 유지건수(해제 제외)                                                         0.068821\n",
      "기준년월 시점 3개월내 대출연체 유지 과목수(연체대출금 상환 포함)                                                      0.050360\n",
      "기준년월 시점 1년내 대출연체 유지 과목수(연체대출금 상환 포함)                                                       0.043021\n",
      "기준년월 시점 연체일수가 30일 이상 된 대출연체 유지 과목수(연체대출금 상환 포함)                                            0.041034\n",
      "기준년월 시점 신용도판단정보 및 공공정보 (한국신용정보원) 발생건수(해제 제외)                                               0.039003\n",
      "기준년월 시점 3년내 대출연체 유지 과목수(연체대출금 상환 포함)                                                       0.036576\n",
      "기준년월 시점 대출연체 과목수                                                                           0.029712\n",
      "기준년월 시점 6개월내 대출연체 유지 과목수(연체대출금 상환 포함)                                                      0.017464\n",
      "총자산순이익률                                                                                   -0.010937\n",
      "유동비율                                                                                      -0.006173\n",
      "부채비율                                                                                       0.006169\n",
      "현금흐름                                                                                       0.004146\n",
      "비유동자산                                                                                     -0.004069\n",
      "dtype: float64\n"
     ]
    },
    {
     "name": "stderr",
     "output_type": "stream",
     "text": [
      "/opt/anaconda3/lib/python3.12/site-packages/numpy/lib/function_base.py:2742: RuntimeWarning: invalid value encountered in subtract\n",
      "  X -= avg[:, None]\n"
     ]
    }
   ],
   "source": [
    "# 2-1. 수치형 피처만 추출\n",
    "numeric_cols = df_건설.select_dtypes(include=['int64', 'float64']).drop(columns=['가명 식별자', '기준년월'])\n",
    "\n",
    "# 2-2. 타겟(y) 지정\n",
    "y = df_건설['기준일로부터 향후 1년내 부도, 기업회생, 90일이상 금융연체, 대지급 등 발생여부(신용정보원 기준). 1: 향후1년내 부도발생, 0: 향후1년내 부도미발생']\n",
    "\n",
    "# 2-3. 상관관계 계산\n",
    "correlations = numeric_cols.corrwith(y).sort_values(key=abs, ascending=False)\n",
    "print(\"📌 타겟(y)과 상관관계 높은 피처 TOP 15:\\n\", correlations.head(15))\n"
   ]
  },
  {
   "cell_type": "code",
   "execution_count": 22,
   "id": "96f59d4d",
   "metadata": {},
   "outputs": [],
   "source": [
    "# 피처 리스트\n",
    "selected_features = [\n",
    "    '기준년월 시점 신용도판단정보 및 공공정보 (한국신용정보원) 최근 해제일자로 부터 경과일수',\n",
    "    '기준년월 시점 공공정보 (한국신용정보원) 유지건수(해제 제외)',\n",
    "    '기준년월 시점 3개월내 대출연체 유지 과목수(연체대출금 상환 포함)',\n",
    "    '기준년월 시점 1년내 대출연체 유지 과목수(연체대출금 상환 포함)',\n",
    "    '기준년월 시점 연체일수가 30일 이상 된 대출연체 유지 과목수(연체대출금 상환 포함)',\n",
    "    '기준년월 시점 신용도판단정보 및 공공정보 (한국신용정보원) 발생건수(해제 제외)',\n",
    "    '기준년월 시점 3년내 대출연체 유지 과목수(연체대출금 상환 포함)',\n",
    "    '기준년월 시점 대출연체 과목수',\n",
    "    '기준년월 시점 6개월내 대출연체 유지 과목수(연체대출금 상환 포함)',\n",
    "]\n",
    "\n",
    "# X, y 생성\n",
    "X = df_건설[selected_features]\n",
    "y = df_건설['기준일로부터 향후 1년내 부도, 기업회생, 90일이상 금융연체, 대지급 등 발생여부(신용정보원 기준). 1: 향후1년내 부도발생, 0: 향후1년내 부도미발생']\n"
   ]
  },
  {
   "cell_type": "code",
   "execution_count": 23,
   "id": "6299a134",
   "metadata": {},
   "outputs": [],
   "source": [
    "from sklearn.model_selection import train_test_split\n",
    "\n",
    "X_train, X_test, y_train, y_test = train_test_split(\n",
    "    X, y,\n",
    "    test_size=0.2,\n",
    "    stratify=y,\n",
    "    random_state=42\n",
    ")\n"
   ]
  },
  {
   "cell_type": "code",
   "execution_count": 24,
   "id": "682eebf6",
   "metadata": {},
   "outputs": [],
   "source": [
    "from sklearn.preprocessing import StandardScaler\n",
    "\n",
    "scaler = StandardScaler()\n",
    "X_train_scaled = scaler.fit_transform(X_train)\n",
    "X_test_scaled = scaler.transform(X_test)\n"
   ]
  },
  {
   "cell_type": "code",
   "execution_count": 25,
   "id": "8ac6389e",
   "metadata": {},
   "outputs": [
    {
     "data": {
      "text/html": [
       "<style>#sk-container-id-1 {color: black;}#sk-container-id-1 pre{padding: 0;}#sk-container-id-1 div.sk-toggleable {background-color: white;}#sk-container-id-1 label.sk-toggleable__label {cursor: pointer;display: block;width: 100%;margin-bottom: 0;padding: 0.3em;box-sizing: border-box;text-align: center;}#sk-container-id-1 label.sk-toggleable__label-arrow:before {content: \"▸\";float: left;margin-right: 0.25em;color: #696969;}#sk-container-id-1 label.sk-toggleable__label-arrow:hover:before {color: black;}#sk-container-id-1 div.sk-estimator:hover label.sk-toggleable__label-arrow:before {color: black;}#sk-container-id-1 div.sk-toggleable__content {max-height: 0;max-width: 0;overflow: hidden;text-align: left;background-color: #f0f8ff;}#sk-container-id-1 div.sk-toggleable__content pre {margin: 0.2em;color: black;border-radius: 0.25em;background-color: #f0f8ff;}#sk-container-id-1 input.sk-toggleable__control:checked~div.sk-toggleable__content {max-height: 200px;max-width: 100%;overflow: auto;}#sk-container-id-1 input.sk-toggleable__control:checked~label.sk-toggleable__label-arrow:before {content: \"▾\";}#sk-container-id-1 div.sk-estimator input.sk-toggleable__control:checked~label.sk-toggleable__label {background-color: #d4ebff;}#sk-container-id-1 div.sk-label input.sk-toggleable__control:checked~label.sk-toggleable__label {background-color: #d4ebff;}#sk-container-id-1 input.sk-hidden--visually {border: 0;clip: rect(1px 1px 1px 1px);clip: rect(1px, 1px, 1px, 1px);height: 1px;margin: -1px;overflow: hidden;padding: 0;position: absolute;width: 1px;}#sk-container-id-1 div.sk-estimator {font-family: monospace;background-color: #f0f8ff;border: 1px dotted black;border-radius: 0.25em;box-sizing: border-box;margin-bottom: 0.5em;}#sk-container-id-1 div.sk-estimator:hover {background-color: #d4ebff;}#sk-container-id-1 div.sk-parallel-item::after {content: \"\";width: 100%;border-bottom: 1px solid gray;flex-grow: 1;}#sk-container-id-1 div.sk-label:hover label.sk-toggleable__label {background-color: #d4ebff;}#sk-container-id-1 div.sk-serial::before {content: \"\";position: absolute;border-left: 1px solid gray;box-sizing: border-box;top: 0;bottom: 0;left: 50%;z-index: 0;}#sk-container-id-1 div.sk-serial {display: flex;flex-direction: column;align-items: center;background-color: white;padding-right: 0.2em;padding-left: 0.2em;position: relative;}#sk-container-id-1 div.sk-item {position: relative;z-index: 1;}#sk-container-id-1 div.sk-parallel {display: flex;align-items: stretch;justify-content: center;background-color: white;position: relative;}#sk-container-id-1 div.sk-item::before, #sk-container-id-1 div.sk-parallel-item::before {content: \"\";position: absolute;border-left: 1px solid gray;box-sizing: border-box;top: 0;bottom: 0;left: 50%;z-index: -1;}#sk-container-id-1 div.sk-parallel-item {display: flex;flex-direction: column;z-index: 1;position: relative;background-color: white;}#sk-container-id-1 div.sk-parallel-item:first-child::after {align-self: flex-end;width: 50%;}#sk-container-id-1 div.sk-parallel-item:last-child::after {align-self: flex-start;width: 50%;}#sk-container-id-1 div.sk-parallel-item:only-child::after {width: 0;}#sk-container-id-1 div.sk-dashed-wrapped {border: 1px dashed gray;margin: 0 0.4em 0.5em 0.4em;box-sizing: border-box;padding-bottom: 0.4em;background-color: white;}#sk-container-id-1 div.sk-label label {font-family: monospace;font-weight: bold;display: inline-block;line-height: 1.2em;}#sk-container-id-1 div.sk-label-container {text-align: center;}#sk-container-id-1 div.sk-container {/* jupyter's `normalize.less` sets `[hidden] { display: none; }` but bootstrap.min.css set `[hidden] { display: none !important; }` so we also need the `!important` here to be able to override the default hidden behavior on the sphinx rendered scikit-learn.org. See: https://github.com/scikit-learn/scikit-learn/issues/21755 */display: inline-block !important;position: relative;}#sk-container-id-1 div.sk-text-repr-fallback {display: none;}</style><div id=\"sk-container-id-1\" class=\"sk-top-container\"><div class=\"sk-text-repr-fallback\"><pre>RandomForestClassifier(class_weight=&#x27;balanced&#x27;, random_state=42)</pre><b>In a Jupyter environment, please rerun this cell to show the HTML representation or trust the notebook. <br />On GitHub, the HTML representation is unable to render, please try loading this page with nbviewer.org.</b></div><div class=\"sk-container\" hidden><div class=\"sk-item\"><div class=\"sk-estimator sk-toggleable\"><input class=\"sk-toggleable__control sk-hidden--visually\" id=\"sk-estimator-id-1\" type=\"checkbox\" checked><label for=\"sk-estimator-id-1\" class=\"sk-toggleable__label sk-toggleable__label-arrow\">RandomForestClassifier</label><div class=\"sk-toggleable__content\"><pre>RandomForestClassifier(class_weight=&#x27;balanced&#x27;, random_state=42)</pre></div></div></div></div></div>"
      ],
      "text/plain": [
       "RandomForestClassifier(class_weight='balanced', random_state=42)"
      ]
     },
     "execution_count": 25,
     "metadata": {},
     "output_type": "execute_result"
    }
   ],
   "source": [
    "from sklearn.ensemble import RandomForestClassifier\n",
    "\n",
    "model = RandomForestClassifier(\n",
    "    n_estimators=100,\n",
    "    random_state=42,\n",
    "    class_weight='balanced'\n",
    ")\n",
    "model.fit(X_train_scaled, y_train)\n"
   ]
  },
  {
   "cell_type": "code",
   "execution_count": 26,
   "id": "d422070b",
   "metadata": {},
   "outputs": [],
   "source": [
    "y_pred = model.predict(X_test_scaled)\n"
   ]
  },
  {
   "cell_type": "code",
   "execution_count": 27,
   "id": "8c008a62",
   "metadata": {},
   "outputs": [
    {
     "name": "stdout",
     "output_type": "stream",
     "text": [
      "              precision    recall  f1-score   support\n",
      "\n",
      "           0     0.9867    0.9877    0.9872      3089\n",
      "           1     0.0256    0.0238    0.0247        42\n",
      "\n",
      "    accuracy                         0.9748      3131\n",
      "   macro avg     0.5062    0.5058    0.5060      3131\n",
      "weighted avg     0.9738    0.9748    0.9743      3131\n",
      "\n"
     ]
    }
   ],
   "source": [
    "from sklearn.metrics import classification_report\n",
    "\n",
    "print(classification_report(y_test, y_pred, digits=4))\n"
   ]
  },
  {
   "cell_type": "code",
   "execution_count": null,
   "id": "43d66bd1",
   "metadata": {},
   "outputs": [],
   "source": []
  }
 ],
 "metadata": {
  "kernelspec": {
   "display_name": "Python [conda env:anaconda3]",
   "language": "python",
   "name": "conda-env-anaconda3-py"
  },
  "language_info": {
   "codemirror_mode": {
    "name": "ipython",
    "version": 3
   },
   "file_extension": ".py",
   "mimetype": "text/x-python",
   "name": "python",
   "nbconvert_exporter": "python",
   "pygments_lexer": "ipython3",
   "version": "3.12.7"
  }
 },
 "nbformat": 4,
 "nbformat_minor": 5
}
