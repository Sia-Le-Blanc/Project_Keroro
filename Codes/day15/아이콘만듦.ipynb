{
 "cells": [
  {
   "cell_type": "code",
   "execution_count": null,
   "id": "579454bb",
   "metadata": {},
   "outputs": [
    {
     "name": "stdout",
     "output_type": "stream",
     "text": [
      "변환 완료: image.ico\n"
     ]
    }
   ],
   "source": [
    "# 파이썬 코드 실행\n",
    "from PIL import Image\n",
    "img = Image.open('image.png')\n",
    "img.save('image.ico', format='ICO', sizes=[(32,32), (48,48), (64,64)])\n",
    "print('변환 완료: image.ico')"
   ]
  },
  {
   "cell_type": "code",
   "execution_count": null,
   "id": "df27734c",
   "metadata": {},
   "outputs": [],
   "source": []
  }
 ],
 "metadata": {
  "kernelspec": {
   "display_name": "base",
   "language": "python",
   "name": "python3"
  },
  "language_info": {
   "codemirror_mode": {
    "name": "ipython",
    "version": 3
   },
   "file_extension": ".py",
   "mimetype": "text/x-python",
   "name": "python",
   "nbconvert_exporter": "python",
   "pygments_lexer": "ipython3",
   "version": "3.12.2"
  }
 },
 "nbformat": 4,
 "nbformat_minor": 5
}
