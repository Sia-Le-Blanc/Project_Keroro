{
 "cells": [
  {
   "cell_type": "code",
   "execution_count": 2,
   "id": "405a7dbc",
   "metadata": {},
   "outputs": [],
   "source": [
    "import numpy as np\n",
    "import pandas as pd\n",
    "import matplotlib.pyplot as plt\n",
    "import os\n",
    "import sys\n",
    "plt.rcParams['font.family'] = 'AppleGothic'\n",
    "sys.path.append(os.path.abspath(\"../../\"))\n",
    "df = pd.read_csv('../day2/aihub/마스킹 없는거.csv')"
   ]
  },
  {
   "cell_type": "code",
   "execution_count": 3,
   "id": "8a851b04",
   "metadata": {},
   "outputs": [
    {
     "ename": "KeyError",
     "evalue": "\"['Unnamed: 0'] not found in axis\"",
     "output_type": "error",
     "traceback": [
      "\u001b[0;31m---------------------------------------------------------------------------\u001b[0m",
      "\u001b[0;31mKeyError\u001b[0m                                  Traceback (most recent call last)",
      "Cell \u001b[0;32mIn[3], line 1\u001b[0m\n\u001b[0;32m----> 1\u001b[0m df\u001b[38;5;241m.\u001b[39mdrop(columns\u001b[38;5;241m=\u001b[39m\u001b[38;5;124m'\u001b[39m\u001b[38;5;124mUnnamed: 0\u001b[39m\u001b[38;5;124m'\u001b[39m, inplace\u001b[38;5;241m=\u001b[39m\u001b[38;5;28;01mTrue\u001b[39;00m)\n",
      "File \u001b[0;32m/opt/anaconda3/lib/python3.12/site-packages/pandas/core/frame.py:5581\u001b[0m, in \u001b[0;36mDataFrame.drop\u001b[0;34m(self, labels, axis, index, columns, level, inplace, errors)\u001b[0m\n\u001b[1;32m   5433\u001b[0m \u001b[38;5;28;01mdef\u001b[39;00m \u001b[38;5;21mdrop\u001b[39m(\n\u001b[1;32m   5434\u001b[0m     \u001b[38;5;28mself\u001b[39m,\n\u001b[1;32m   5435\u001b[0m     labels: IndexLabel \u001b[38;5;241m|\u001b[39m \u001b[38;5;28;01mNone\u001b[39;00m \u001b[38;5;241m=\u001b[39m \u001b[38;5;28;01mNone\u001b[39;00m,\n\u001b[0;32m   (...)\u001b[0m\n\u001b[1;32m   5442\u001b[0m     errors: IgnoreRaise \u001b[38;5;241m=\u001b[39m \u001b[38;5;124m\"\u001b[39m\u001b[38;5;124mraise\u001b[39m\u001b[38;5;124m\"\u001b[39m,\n\u001b[1;32m   5443\u001b[0m ) \u001b[38;5;241m-\u001b[39m\u001b[38;5;241m>\u001b[39m DataFrame \u001b[38;5;241m|\u001b[39m \u001b[38;5;28;01mNone\u001b[39;00m:\n\u001b[1;32m   5444\u001b[0m \u001b[38;5;250m    \u001b[39m\u001b[38;5;124;03m\"\"\"\u001b[39;00m\n\u001b[1;32m   5445\u001b[0m \u001b[38;5;124;03m    Drop specified labels from rows or columns.\u001b[39;00m\n\u001b[1;32m   5446\u001b[0m \n\u001b[0;32m   (...)\u001b[0m\n\u001b[1;32m   5579\u001b[0m \u001b[38;5;124;03m            weight  1.0     0.8\u001b[39;00m\n\u001b[1;32m   5580\u001b[0m \u001b[38;5;124;03m    \"\"\"\u001b[39;00m\n\u001b[0;32m-> 5581\u001b[0m     \u001b[38;5;28;01mreturn\u001b[39;00m \u001b[38;5;28msuper\u001b[39m()\u001b[38;5;241m.\u001b[39mdrop(\n\u001b[1;32m   5582\u001b[0m         labels\u001b[38;5;241m=\u001b[39mlabels,\n\u001b[1;32m   5583\u001b[0m         axis\u001b[38;5;241m=\u001b[39maxis,\n\u001b[1;32m   5584\u001b[0m         index\u001b[38;5;241m=\u001b[39mindex,\n\u001b[1;32m   5585\u001b[0m         columns\u001b[38;5;241m=\u001b[39mcolumns,\n\u001b[1;32m   5586\u001b[0m         level\u001b[38;5;241m=\u001b[39mlevel,\n\u001b[1;32m   5587\u001b[0m         inplace\u001b[38;5;241m=\u001b[39minplace,\n\u001b[1;32m   5588\u001b[0m         errors\u001b[38;5;241m=\u001b[39merrors,\n\u001b[1;32m   5589\u001b[0m     )\n",
      "File \u001b[0;32m/opt/anaconda3/lib/python3.12/site-packages/pandas/core/generic.py:4788\u001b[0m, in \u001b[0;36mNDFrame.drop\u001b[0;34m(self, labels, axis, index, columns, level, inplace, errors)\u001b[0m\n\u001b[1;32m   4786\u001b[0m \u001b[38;5;28;01mfor\u001b[39;00m axis, labels \u001b[38;5;129;01min\u001b[39;00m axes\u001b[38;5;241m.\u001b[39mitems():\n\u001b[1;32m   4787\u001b[0m     \u001b[38;5;28;01mif\u001b[39;00m labels \u001b[38;5;129;01mis\u001b[39;00m \u001b[38;5;129;01mnot\u001b[39;00m \u001b[38;5;28;01mNone\u001b[39;00m:\n\u001b[0;32m-> 4788\u001b[0m         obj \u001b[38;5;241m=\u001b[39m obj\u001b[38;5;241m.\u001b[39m_drop_axis(labels, axis, level\u001b[38;5;241m=\u001b[39mlevel, errors\u001b[38;5;241m=\u001b[39merrors)\n\u001b[1;32m   4790\u001b[0m \u001b[38;5;28;01mif\u001b[39;00m inplace:\n\u001b[1;32m   4791\u001b[0m     \u001b[38;5;28mself\u001b[39m\u001b[38;5;241m.\u001b[39m_update_inplace(obj)\n",
      "File \u001b[0;32m/opt/anaconda3/lib/python3.12/site-packages/pandas/core/generic.py:4830\u001b[0m, in \u001b[0;36mNDFrame._drop_axis\u001b[0;34m(self, labels, axis, level, errors, only_slice)\u001b[0m\n\u001b[1;32m   4828\u001b[0m         new_axis \u001b[38;5;241m=\u001b[39m axis\u001b[38;5;241m.\u001b[39mdrop(labels, level\u001b[38;5;241m=\u001b[39mlevel, errors\u001b[38;5;241m=\u001b[39merrors)\n\u001b[1;32m   4829\u001b[0m     \u001b[38;5;28;01melse\u001b[39;00m:\n\u001b[0;32m-> 4830\u001b[0m         new_axis \u001b[38;5;241m=\u001b[39m axis\u001b[38;5;241m.\u001b[39mdrop(labels, errors\u001b[38;5;241m=\u001b[39merrors)\n\u001b[1;32m   4831\u001b[0m     indexer \u001b[38;5;241m=\u001b[39m axis\u001b[38;5;241m.\u001b[39mget_indexer(new_axis)\n\u001b[1;32m   4833\u001b[0m \u001b[38;5;66;03m# Case for non-unique axis\u001b[39;00m\n\u001b[1;32m   4834\u001b[0m \u001b[38;5;28;01melse\u001b[39;00m:\n",
      "File \u001b[0;32m/opt/anaconda3/lib/python3.12/site-packages/pandas/core/indexes/base.py:7070\u001b[0m, in \u001b[0;36mIndex.drop\u001b[0;34m(self, labels, errors)\u001b[0m\n\u001b[1;32m   7068\u001b[0m \u001b[38;5;28;01mif\u001b[39;00m mask\u001b[38;5;241m.\u001b[39many():\n\u001b[1;32m   7069\u001b[0m     \u001b[38;5;28;01mif\u001b[39;00m errors \u001b[38;5;241m!=\u001b[39m \u001b[38;5;124m\"\u001b[39m\u001b[38;5;124mignore\u001b[39m\u001b[38;5;124m\"\u001b[39m:\n\u001b[0;32m-> 7070\u001b[0m         \u001b[38;5;28;01mraise\u001b[39;00m \u001b[38;5;167;01mKeyError\u001b[39;00m(\u001b[38;5;124mf\u001b[39m\u001b[38;5;124m\"\u001b[39m\u001b[38;5;132;01m{\u001b[39;00mlabels[mask]\u001b[38;5;241m.\u001b[39mtolist()\u001b[38;5;132;01m}\u001b[39;00m\u001b[38;5;124m not found in axis\u001b[39m\u001b[38;5;124m\"\u001b[39m)\n\u001b[1;32m   7071\u001b[0m     indexer \u001b[38;5;241m=\u001b[39m indexer[\u001b[38;5;241m~\u001b[39mmask]\n\u001b[1;32m   7072\u001b[0m \u001b[38;5;28;01mreturn\u001b[39;00m \u001b[38;5;28mself\u001b[39m\u001b[38;5;241m.\u001b[39mdelete(indexer)\n",
      "\u001b[0;31mKeyError\u001b[0m: \"['Unnamed: 0'] not found in axis\""
     ]
    }
   ],
   "source": [
    "df.drop(columns='Unnamed: 0', inplace=True)"
   ]
  },
  {
   "cell_type": "code",
   "execution_count": 10,
   "id": "0b69b716",
   "metadata": {},
   "outputs": [
    {
     "name": "stdout",
     "output_type": "stream",
     "text": [
      "<class 'pandas.core.frame.DataFrame'>\n",
      "RangeIndex: 150000 entries, 0 to 149999\n",
      "Columns: 160 entries, 기준년월 to 기준일로부터 향후 1년내 부도, 기업회생, 90일이상 금융연체, 대지급 등 발생여부(신용정보원 기준). 1: 향후1년내 부도발생, 0: 향후1년내 부도미발생\n",
      "dtypes: float64(41), int64(118), object(1)\n",
      "memory usage: 183.1+ MB\n"
     ]
    }
   ],
   "source": [
    "import pandas as pd\n",
    "\n",
    "# 최대 열 수를 None으로 설정 → 생략 없이 모두 출력\n",
    "pd.set_option('display.max_columns', None)\n",
    "\n",
    "# 그리고 info 출력\n",
    "df.info()"
   ]
  },
  {
   "cell_type": "code",
   "execution_count": 11,
   "id": "cf4bf934",
   "metadata": {},
   "outputs": [
    {
     "name": "stdout",
     "output_type": "stream",
     "text": [
      "['기준년월', '가명 식별자', '업종(중분류)', '외감구분', '설립일자', '종업원수', '주소지시군구', '상장일자', '상장폐지일자', '유동자산', '비유동자산', '당좌자산', '재고자산', '유형자산', '재공품', '현금', '현금등가물', '상품유가증권', '현금성자산', '매출채권', '매출채권(전기)', '매출채권처분손실(당기)', '무형자산', '투자자산', '자산총계', '자산총계(전기)', '유동부채', '단기차입금', '차입금', '매입채무', '비유동부채', '부채총계', '자기자본(납입자본금)', '자본잉여금', '납입자본', '이익잉여금', '자본조정', '기타포괄손익누계액', '유보금', '자본총계', '전기자본총계', '매출액', '전기매출액', '매출원가', '매출총이익', '판매비와관리비', '법인세비용차감전 순이익', '전기법인세차감전순이익', '법인세', '계속사업이익', '중단산업손익', '금융비용', '영업손익', '전기영업이익', '영업외수익', '영업외비용', '법인세차감전순이익', '당기순이익', '당기순이익(전기)', '현금흐름', '영업활동현금흐름', '투자활동현금흐름', '재무활동현금흐름', '부채상환계수', '영업이익이자보상배율', '이자비용', '사채이자(당기)', '이자보상배율', '적립금비율', 'EBIT', 'EBITDA', '청산가치율', '청산가치', '순운전자본', '순차입금', '총자산증가율', '부채비율', '자기자본비율', '유동비율', '차입금의존도', '매출액증가율', '영업이익율', '당기순이익율', '매출원가율', '판관비율', '자기자본이익률(ROE)', '매출채권회전율', '재고자산회전율', '매입채무회전율', '총자산회전율', '총자산순이익률', '유동자산증가율', '유형자산증가율', '단기차입금의존도', '당좌비율', '순차입금비율', '순운전자본회전율', '총자본회전율', '자기자본순이익율', '매출총이익율', 'EBITDA마진율', '영업이익증가율', '당기순이익증가율', 'EBITDA증가율', 'OCF/매출액비용', '부채상환계수.1', '차입금/EBITDA', 'EBITDA/금융비용', 'EBITDA/금융비용.1', 'EBITDA/금융비용.2', 'EBITDA/금융비용.3', 'EBITDA/금융비용.4', 'EBITDA/금융비용.5', '기준년월 시점 대출연체 과목수', '기준년월 시점 3개월내 대출연체 유지 과목수(연체대출금 상환 포함)', '기준년월 시점 6개월내 대출연체 유지 과목수(연체대출금 상환 포함)', '기준년월 시점 1년내 대출연체 유지 과목수(연체대출금 상환 포함)', '기준년월 시점 3년내 대출연체 유지 과목수(연체대출금 상환 포함)', '기준년월 시점 3개월내 대출연체 신규발생 과목수(연체대출금 상환 포함)', '기준년월 시점 6개월내 대출연체 신규발생 과목수(연체대출금 상환 포함)', '기준년월 시점 1년내 대출연체 신규발생 과목수(연체대출금 상환 포함)', '기준년월 시점 3년내 대출연체 신규발생 과목수(연체대출금 상환 포함)', '기준년월 시점 3개월내 연체일수가 30일 이상 된 대출연체 유지 과목수(연체대출금 상환 포함)', '기준년월 시점 6개월내 연체일수가 30일 이상 된 대출연체 유지 과목수(연체대출금 상환 포함)', '기준년월 시점 1년내 연체일수가 30일 이상 된 대출연체 유지 과목수(연체대출금 상환 포함)', '기준년월 시점 3년내 연체일수가 30일 이상 된 대출연체 유지 과목수(연체대출금 상환 포함)', '기준년월 시점 연체일수가 30일 이상 된 대출연체 유지 과목수(연체대출금 상환 포함)', '기준년월 시점 연체일수가 30일 이상 된 대출연체 유지 과목수(연체대출금 상환 제외)', '기준년월 시점 연체일수가 30일 이상 된 이자 및 원금 대출연체 유지 과목수(연체대출금 상환 포함)', '기준년월 시점 연체일수가 30일 이상 된 이자 및 원금 대출연체 유지 과목수(연체대출금 상환 제외)', '기준년월 시점 연체일수가 30일 이상 대출연체 유지 기관수(연체대출금 상환 제외)\\n: 기관=법인등록번호 기준 소속 사업자번호수', '기준년월 시점 연체일수가 30일 이상 대출연체 유지 기관수(연체대출금 상환 포함)', '기준년월 시점 연체일수가 30일 이상 대출연체 유지 기관수(연체대출금 상환 제외)', '기준년월 시점 연체일수가 30일 이상 대출연체 유지 기관수(연체대출금 상환 포함).1', '기준년월 시점 연체일수가 30일 이상 대출연체 유지 기관수(연체대출금 상환 제외).1', '기준년월 시점 3개월내 연체일수가 30일 이상 된 대출연체 유지 기관수(연체대출금 상환 포함)', '기준년월 시점 6개월내 연체일수가 30일 이상 된 대출연체 유지 기관수(연체대출금 상환 포함)', '기준년월 시점 1년내 연체일수가 30일 이상 된 대출연체 유지 기관수(연체대출금 상환 포함)', '기준년월 시점 3년내 연체일수가 30일 이상 된 대출연체 유지 기관수(연체대출금 상환 포함)', '기준년월 시점 3개월내 대출연체 최장 보유일수(연체대출금 상환 포함)', '기준년월 시점 6개월내 대출연체 최장 보유일수(연체대출금 상환 포함)', '기준년월 시점 1년내 대출연체 최장 보유일수(연체대출금 상환 포함)', '기준년월 시점 3년내 대출연체 최장 보유일수(연체대출금 상환 포함)', '기준년월 시점 5년내 대출연체 최장 보유일수(연체대출금 상환 포함)', '기준년월 시점 3개월내 대출연체 발생분 최장 보유일수(연체대출금 상환 포함)', '기준년월 시점 6개월내 대출연체 발생분 최장 보유일수(연체대출금 상환 포함)', '기준년월 시점 1년내 대출연체 발생분 최장 보유일수(연체대출금 상환 포함)', '기준년월 시점 3년내 대출연체 발생분 최장 보유일수(연체대출금 상환 포함)', '기준년월 시점 5년내 대출연체 발생분 최장 보유일수(연체대출금 상환 포함)', '기준년월 시점 신용도판단정보 및 공공정보 (한국신용정보원) 발생건수(해제 포함)', '기준년월 시점 신용도판단정보 및 공공정보 (한국신용정보원) 발생건수(해제 제외)', '기준년월 시점 관련인을 제외한 신용도판단정보 및 공공정보 (한국신용정보원) 발생건수(해제 포함)', '기준년월 시점 공공정보 (한국신용정보원) 유지건수(해제 제외)', '기준년월 시점 공공정보 (한국신용정보원) 5년내 발생건수', '기준년월 시점 공공정보 (한국신용정보원) 발생건수(해제 제외)', '기준년월 시점 공공정보 (한국신용정보원) 5년내 발생건수.1', '기준년월 시점 신용도판단정보 및 공공정보 (한국신용정보원) 최근 발생일자로 부터 경과일수(해제 포함)', '기준년월 시점 신용도판단정보 및 공공정보 (한국신용정보원) 최근 해제일자로 부터 경과일수', '10구간으로 구분(1~10. 1등급일수록 우량)', '기준일로부터 향후 1년내 부도, 기업회생, 90일이상 금융연체, 대지급 등 발생여부(신용정보원 기준). 1: 향후1년내 부도발생, 0: 향후1년내 부도미발생']\n"
     ]
    }
   ],
   "source": [
    "print(df.columns.tolist())\n"
   ]
  },
  {
   "cell_type": "code",
   "execution_count": 16,
   "id": "b90f74e0",
   "metadata": {},
   "outputs": [
    {
     "name": "stdout",
     "output_type": "stream",
     "text": [
      "1. 기준년월, dtype: int64, NaNs: 0\n",
      "2. 가명 식별자, dtype: int64, NaNs: 0\n",
      "3. 업종(중분류), dtype: object, NaNs: 19\n",
      "4. 외감구분, dtype: int64, NaNs: 0\n",
      "5. 설립일자, dtype: int64, NaNs: 0\n",
      "6. 종업원수, dtype: int64, NaNs: 0\n",
      "7. 주소지시군구, dtype: float64, NaNs: 12195\n",
      "8. 상장일자, dtype: float64, NaNs: 144767\n",
      "9. 상장폐지일자, dtype: float64, NaNs: 149904\n",
      "10. 유동자산, dtype: int64, NaNs: 0\n",
      "11. 비유동자산, dtype: int64, NaNs: 0\n",
      "12. 당좌자산, dtype: int64, NaNs: 0\n",
      "13. 재고자산, dtype: int64, NaNs: 0\n",
      "14. 유형자산, dtype: int64, NaNs: 0\n",
      "15. 재공품, dtype: int64, NaNs: 0\n",
      "16. 현금, dtype: int64, NaNs: 0\n",
      "17. 현금등가물, dtype: int64, NaNs: 0\n",
      "18. 상품유가증권, dtype: int64, NaNs: 0\n",
      "19. 현금성자산, dtype: int64, NaNs: 0\n",
      "20. 매출채권, dtype: int64, NaNs: 0\n",
      "21. 매출채권(전기), dtype: int64, NaNs: 0\n",
      "22. 매출채권처분손실(당기), dtype: int64, NaNs: 0\n",
      "23. 무형자산, dtype: int64, NaNs: 0\n",
      "24. 투자자산, dtype: int64, NaNs: 0\n",
      "25. 자산총계, dtype: int64, NaNs: 0\n",
      "26. 자산총계(전기), dtype: int64, NaNs: 0\n",
      "27. 유동부채, dtype: int64, NaNs: 0\n",
      "28. 단기차입금, dtype: int64, NaNs: 0\n",
      "29. 차입금, dtype: int64, NaNs: 0\n",
      "30. 매입채무, dtype: int64, NaNs: 0\n",
      "31. 비유동부채, dtype: int64, NaNs: 0\n",
      "32. 부채총계, dtype: int64, NaNs: 0\n",
      "33. 자기자본(납입자본금), dtype: int64, NaNs: 0\n",
      "34. 자본잉여금, dtype: int64, NaNs: 0\n",
      "35. 납입자본, dtype: int64, NaNs: 0\n",
      "36. 이익잉여금, dtype: int64, NaNs: 0\n",
      "37. 자본조정, dtype: int64, NaNs: 0\n",
      "38. 기타포괄손익누계액, dtype: int64, NaNs: 0\n",
      "39. 유보금, dtype: int64, NaNs: 0\n",
      "40. 자본총계, dtype: int64, NaNs: 0\n",
      "41. 전기자본총계, dtype: int64, NaNs: 0\n",
      "42. 매출액, dtype: int64, NaNs: 0\n",
      "43. 전기매출액, dtype: int64, NaNs: 0\n",
      "44. 매출원가, dtype: int64, NaNs: 0\n",
      "45. 매출총이익, dtype: int64, NaNs: 0\n",
      "46. 판매비와관리비, dtype: int64, NaNs: 0\n",
      "47. 법인세비용차감전 순이익, dtype: int64, NaNs: 0\n",
      "48. 전기법인세차감전순이익, dtype: int64, NaNs: 0\n",
      "49. 법인세, dtype: int64, NaNs: 0\n",
      "50. 계속사업이익, dtype: int64, NaNs: 0\n",
      "51. 중단산업손익, dtype: int64, NaNs: 0\n",
      "52. 금융비용, dtype: int64, NaNs: 0\n",
      "53. 영업손익, dtype: int64, NaNs: 0\n",
      "54. 전기영업이익, dtype: int64, NaNs: 0\n",
      "55. 영업외수익, dtype: int64, NaNs: 0\n",
      "56. 영업외비용, dtype: int64, NaNs: 0\n",
      "57. 법인세차감전순이익, dtype: int64, NaNs: 0\n",
      "58. 당기순이익, dtype: int64, NaNs: 0\n",
      "59. 당기순이익(전기), dtype: int64, NaNs: 0\n",
      "60. 현금흐름, dtype: int64, NaNs: 0\n",
      "61. 영업활동현금흐름, dtype: int64, NaNs: 0\n",
      "62. 투자활동현금흐름, dtype: int64, NaNs: 0\n",
      "63. 재무활동현금흐름, dtype: int64, NaNs: 0\n",
      "64. 부채상환계수, dtype: float64, NaNs: 0\n",
      "65. 영업이익이자보상배율, dtype: float64, NaNs: 79\n",
      "66. 이자비용, dtype: int64, NaNs: 0\n",
      "67. 사채이자(당기), dtype: int64, NaNs: 0\n",
      "68. 이자보상배율, dtype: float64, NaNs: 79\n",
      "69. 적립금비율, dtype: float64, NaNs: 0\n",
      "70. EBIT, dtype: int64, NaNs: 0\n",
      "71. EBITDA, dtype: int64, NaNs: 0\n",
      "72. 청산가치율, dtype: float64, NaNs: 0\n",
      "73. 청산가치, dtype: int64, NaNs: 0\n",
      "74. 순운전자본, dtype: int64, NaNs: 0\n",
      "75. 순차입금, dtype: int64, NaNs: 0\n",
      "76. 총자산증가율, dtype: float64, NaNs: 0\n",
      "77. 부채비율, dtype: float64, NaNs: 0\n",
      "78. 자기자본비율, dtype: float64, NaNs: 0\n",
      "79. 유동비율, dtype: float64, NaNs: 0\n",
      "80. 차입금의존도, dtype: float64, NaNs: 0\n",
      "81. 매출액증가율, dtype: float64, NaNs: 0\n",
      "82. 영업이익율, dtype: float64, NaNs: 0\n",
      "83. 당기순이익율, dtype: float64, NaNs: 94514\n",
      "84. 매출원가율, dtype: float64, NaNs: 0\n",
      "85. 판관비율, dtype: float64, NaNs: 0\n",
      "86. 자기자본이익률(ROE), dtype: float64, NaNs: 0\n",
      "87. 매출채권회전율, dtype: float64, NaNs: 0\n",
      "88. 재고자산회전율, dtype: float64, NaNs: 0\n",
      "89. 매입채무회전율, dtype: float64, NaNs: 10763\n",
      "90. 총자산회전율, dtype: float64, NaNs: 0\n",
      "91. 총자산순이익률, dtype: float64, NaNs: 95366\n",
      "92. 유동자산증가율, dtype: float64, NaNs: 10764\n",
      "93. 유형자산증가율, dtype: float64, NaNs: 11118\n",
      "94. 단기차입금의존도, dtype: float64, NaNs: 0\n",
      "95. 당좌비율, dtype: float64, NaNs: 0\n",
      "96. 순차입금비율, dtype: float64, NaNs: 0\n",
      "97. 순운전자본회전율, dtype: float64, NaNs: 0\n",
      "98. 총자본회전율, dtype: float64, NaNs: 0\n",
      "99. 자기자본순이익율, dtype: float64, NaNs: 0\n",
      "100. 매출총이익율, dtype: float64, NaNs: 0\n",
      "101. EBITDA마진율, dtype: float64, NaNs: 0\n",
      "102. 영업이익증가율, dtype: float64, NaNs: 0\n",
      "103. 당기순이익증가율, dtype: float64, NaNs: 0\n",
      "104. EBITDA증가율, dtype: float64, NaNs: 5766\n",
      "105. OCF/매출액비용, dtype: float64, NaNs: 0\n",
      "106. 부채상환계수.1, dtype: float64, NaNs: 0\n",
      "107. 차입금/EBITDA, dtype: float64, NaNs: 0\n",
      "108. EBITDA/금융비용, dtype: float64, NaNs: 0\n",
      "109. EBITDA/금융비용.1, dtype: int64, NaNs: 0\n",
      "110. EBITDA/금융비용.2, dtype: int64, NaNs: 0\n",
      "111. EBITDA/금융비용.3, dtype: int64, NaNs: 0\n",
      "112. EBITDA/금융비용.4, dtype: int64, NaNs: 0\n",
      "113. EBITDA/금융비용.5, dtype: int64, NaNs: 0\n",
      "114. 기준년월 시점 대출연체 과목수, dtype: int64, NaNs: 0\n",
      "115. 기준년월 시점 3개월내 대출연체 유지 과목수(연체대출금 상환 포함), dtype: int64, NaNs: 0\n",
      "116. 기준년월 시점 6개월내 대출연체 유지 과목수(연체대출금 상환 포함), dtype: int64, NaNs: 0\n",
      "117. 기준년월 시점 1년내 대출연체 유지 과목수(연체대출금 상환 포함), dtype: int64, NaNs: 0\n",
      "118. 기준년월 시점 3년내 대출연체 유지 과목수(연체대출금 상환 포함), dtype: int64, NaNs: 0\n",
      "119. 기준년월 시점 3개월내 대출연체 신규발생 과목수(연체대출금 상환 포함), dtype: int64, NaNs: 0\n",
      "120. 기준년월 시점 6개월내 대출연체 신규발생 과목수(연체대출금 상환 포함), dtype: int64, NaNs: 0\n",
      "121. 기준년월 시점 1년내 대출연체 신규발생 과목수(연체대출금 상환 포함), dtype: int64, NaNs: 0\n",
      "122. 기준년월 시점 3년내 대출연체 신규발생 과목수(연체대출금 상환 포함), dtype: int64, NaNs: 0\n",
      "123. 기준년월 시점 3개월내 연체일수가 30일 이상 된 대출연체 유지 과목수(연체대출금 상환 포함), dtype: int64, NaNs: 0\n",
      "124. 기준년월 시점 6개월내 연체일수가 30일 이상 된 대출연체 유지 과목수(연체대출금 상환 포함), dtype: int64, NaNs: 0\n",
      "125. 기준년월 시점 1년내 연체일수가 30일 이상 된 대출연체 유지 과목수(연체대출금 상환 포함), dtype: int64, NaNs: 0\n",
      "126. 기준년월 시점 3년내 연체일수가 30일 이상 된 대출연체 유지 과목수(연체대출금 상환 포함), dtype: int64, NaNs: 0\n",
      "127. 기준년월 시점 연체일수가 30일 이상 된 대출연체 유지 과목수(연체대출금 상환 포함), dtype: int64, NaNs: 0\n",
      "128. 기준년월 시점 연체일수가 30일 이상 된 대출연체 유지 과목수(연체대출금 상환 제외), dtype: int64, NaNs: 0\n",
      "129. 기준년월 시점 연체일수가 30일 이상 된 이자 및 원금 대출연체 유지 과목수(연체대출금 상환 포함), dtype: int64, NaNs: 0\n",
      "130. 기준년월 시점 연체일수가 30일 이상 된 이자 및 원금 대출연체 유지 과목수(연체대출금 상환 제외), dtype: int64, NaNs: 0\n",
      "131. 기준년월 시점 연체일수가 30일 이상 대출연체 유지 기관수(연체대출금 상환 제외)\n",
      ": 기관=법인등록번호 기준 소속 사업자번호수, dtype: int64, NaNs: 0\n",
      "132. 기준년월 시점 연체일수가 30일 이상 대출연체 유지 기관수(연체대출금 상환 포함), dtype: int64, NaNs: 0\n",
      "133. 기준년월 시점 연체일수가 30일 이상 대출연체 유지 기관수(연체대출금 상환 제외), dtype: int64, NaNs: 0\n",
      "134. 기준년월 시점 연체일수가 30일 이상 대출연체 유지 기관수(연체대출금 상환 포함).1, dtype: int64, NaNs: 0\n",
      "135. 기준년월 시점 연체일수가 30일 이상 대출연체 유지 기관수(연체대출금 상환 제외).1, dtype: int64, NaNs: 0\n",
      "136. 기준년월 시점 3개월내 연체일수가 30일 이상 된 대출연체 유지 기관수(연체대출금 상환 포함), dtype: int64, NaNs: 0\n",
      "137. 기준년월 시점 6개월내 연체일수가 30일 이상 된 대출연체 유지 기관수(연체대출금 상환 포함), dtype: int64, NaNs: 0\n",
      "138. 기준년월 시점 1년내 연체일수가 30일 이상 된 대출연체 유지 기관수(연체대출금 상환 포함), dtype: int64, NaNs: 0\n",
      "139. 기준년월 시점 3년내 연체일수가 30일 이상 된 대출연체 유지 기관수(연체대출금 상환 포함), dtype: int64, NaNs: 0\n",
      "140. 기준년월 시점 3개월내 대출연체 최장 보유일수(연체대출금 상환 포함), dtype: int64, NaNs: 0\n",
      "141. 기준년월 시점 6개월내 대출연체 최장 보유일수(연체대출금 상환 포함), dtype: int64, NaNs: 0\n",
      "142. 기준년월 시점 1년내 대출연체 최장 보유일수(연체대출금 상환 포함), dtype: int64, NaNs: 0\n",
      "143. 기준년월 시점 3년내 대출연체 최장 보유일수(연체대출금 상환 포함), dtype: int64, NaNs: 0\n",
      "144. 기준년월 시점 5년내 대출연체 최장 보유일수(연체대출금 상환 포함), dtype: int64, NaNs: 0\n",
      "145. 기준년월 시점 3개월내 대출연체 발생분 최장 보유일수(연체대출금 상환 포함), dtype: int64, NaNs: 0\n",
      "146. 기준년월 시점 6개월내 대출연체 발생분 최장 보유일수(연체대출금 상환 포함), dtype: int64, NaNs: 0\n",
      "147. 기준년월 시점 1년내 대출연체 발생분 최장 보유일수(연체대출금 상환 포함), dtype: int64, NaNs: 0\n",
      "148. 기준년월 시점 3년내 대출연체 발생분 최장 보유일수(연체대출금 상환 포함), dtype: int64, NaNs: 0\n",
      "149. 기준년월 시점 5년내 대출연체 발생분 최장 보유일수(연체대출금 상환 포함), dtype: int64, NaNs: 0\n",
      "150. 기준년월 시점 신용도판단정보 및 공공정보 (한국신용정보원) 발생건수(해제 포함), dtype: int64, NaNs: 0\n",
      "151. 기준년월 시점 신용도판단정보 및 공공정보 (한국신용정보원) 발생건수(해제 제외), dtype: int64, NaNs: 0\n",
      "152. 기준년월 시점 관련인을 제외한 신용도판단정보 및 공공정보 (한국신용정보원) 발생건수(해제 포함), dtype: int64, NaNs: 0\n",
      "153. 기준년월 시점 공공정보 (한국신용정보원) 유지건수(해제 제외), dtype: int64, NaNs: 0\n",
      "154. 기준년월 시점 공공정보 (한국신용정보원) 5년내 발생건수, dtype: int64, NaNs: 0\n",
      "155. 기준년월 시점 공공정보 (한국신용정보원) 발생건수(해제 제외), dtype: int64, NaNs: 0\n",
      "156. 기준년월 시점 공공정보 (한국신용정보원) 5년내 발생건수.1, dtype: int64, NaNs: 0\n",
      "157. 기준년월 시점 신용도판단정보 및 공공정보 (한국신용정보원) 최근 발생일자로 부터 경과일수(해제 포함), dtype: int64, NaNs: 0\n",
      "158. 기준년월 시점 신용도판단정보 및 공공정보 (한국신용정보원) 최근 해제일자로 부터 경과일수, dtype: int64, NaNs: 0\n",
      "159. 10구간으로 구분(1~10. 1등급일수록 우량), dtype: int64, NaNs: 0\n",
      "160. 기준일로부터 향후 1년내 부도, 기업회생, 90일이상 금융연체, 대지급 등 발생여부(신용정보원 기준). 1: 향후1년내 부도발생, 0: 향후1년내 부도미발생, dtype: int64, NaNs: 0\n"
     ]
    }
   ],
   "source": [
    "for i, col in enumerate(df.columns):\n",
    "    print(f\"{i+1}. {col}, dtype: {df[col].dtype}, NaNs: {df[col].isna().sum()}\")\n"
   ]
  },
  {
   "cell_type": "code",
   "execution_count": null,
   "id": "989ab7e7",
   "metadata": {},
   "outputs": [
    {
     "name": "stdout",
     "output_type": "stream",
     "text": [
      "F41, F41, F41, F41, F41, F41, F41, F41, F41, F42, F41, F41, F41, F41, F41, F41, F41, F41, F41, F41, F41, F41, F41, F41, F41, F41, F41, F41, F41, F41, F42, F42, F41, F41, F41, F41, F41, F41, F41, F41, F41, F41, F41, F41, F41, F42, F41, F41, F41, F42, F42, F41, F42, F42, F41, F41, F41, F41, F41, F41, F41, F41, F42, F41, F41, F41, F41, F42, F41, F41, F41, F41, F41, F41, F41, F41, F41, F41, F41, F42, F41, F41, F41, F41, F41, F42, F42, F41, F41, F42, F42, F42, F41, F41, F41, F41, F41, F41, F41, F42, F42, F41, F41, F42, F41, F41, F41, F41, F41, F41, F42, F41, F41, F41, F41, F42, F41, F42, F41, F41, F41, F42, F41, F41, F41, F41, F41, F41, F41, F41, F41, F41, F41, F41, F41, F41, F41, F41, F41, F41, F41, F42, F41, F42, F41, F41, F41, F41, F41, F41, F41, F41, F41, F41, F41, F41, F41, F41, F41, F42, F41, F41, F41, F41, F41, F42, F42, F41, F41, F41, F41, F42, F41, F41, F41, F41, F41, F41, F42, F41, F41, F41, F41, F41, F41, F41, F42, F41, F41, F41, F42, F41, F42, F41, F41, F41, F41, F41, F41, F41, F41, F41, F41, F42, F41, F41, F41, F41, F41, F41, F42, F41, F41, F42, F41, F41, F41, F41, F41, F42, F41, F41, F41, F41, F41, F41, F42, F41, F41, F41, F41, F41, F41, F41, F41, F41, F41, F41, F41, F41, F41, F41, F42, F41, F41, F41, F41, F41, F41, F41, F42, F41, F41, F41, F41, F41, F41, F41, F41, F41, F41, F41, F41, F41, F41, F41, F41, F41, F41, F42, F42, F41, F41, F41, F41, F41, F41, F42, F42, F41, F41, F41, F41, F41, F41, F41, F41, F41, F41, F41, F42, F41, F41, F41, F41, F41, F41, F41, F42, F41, F41, F42, F41, F41, F41, F42, F41, F41, F41, F41, F41, F41, F41, F41, F41, F41, F41, F41, F41, F41, F41, F42, F41, F41, F41, F41, F41, F41, F41, F41, F41, F41, F42, F42, F42, F41, F42, F41, F42, F42, F41, F42, F41, F41, F41, F41, F41, F42, F42, F41, F42, F42, F41, F41, F41, F42, F42, F41, F42, F42, F41, F42, F41, F41, F41, F41, F42, F41, F41, F41, F42, F41, F42, F41, F42, F41, F41, F41, F41, F42, F42, F41, F42, F41, F42, F42, F42, F42, F41, F41, F41, F42, F41, F41, F42, F41, F41, F41, F41, F41, F41, F41, F42, F41, F41, F41, F42, F42, F41, F41, F41, F41, F41, F41, F41, F41, F42, F41, F41, F41, F41, F41, F41, F41, F41, F42, F41, F41, F41, F41, F41, F41, F42, F41, F41, F42, F41, F41, F41, F42, F41, F41, F42, F41, F41, F41, F41, F41, F42, F41, F42, F41, F41, F41, F41, F41, F41, F41, F41, F41, F41, F41, F41, F41, F41, F41, F41, F42, F41, F41, F41, F41, F41, F41, F41, F42, F41, F41, F42, F41, F42, F42, F42, F41, F42, F42, F42, F41, F41, F41, F41, F41, F42, F41, F41, F41, F41, F41, F41, F41, F41, F41, F41, F41, F42, F41, F41, F41, F41, F41, F42, F41, F41, F41, F41, F41, F41, F42, F41, F41, F42, F41, F41, F41, F41, F41, F41, F41, F42, F41, F41, F41, F41, F41, F41, F41, F41, F41, F41, F41, F41, F41, F41, F41, F41, F41, F41, F41, F42, F42, F41, F42, F41, F41, F41, F41, F41, F41, F41, F42, F41, F41, F41, F41, F41, F41, F41, F42, F41, F41, F41, F41, F41, F42, F41, F41, F41, F41, F41, F41, F42, F42, F42, F41, F42, F41, F41, F41, F41, F42, F41, F41, F41, F41, F41, F42, F41, F41, F41, F41, F41, F41, F41, F42, F41, F41, F41, F41, F41, F41, F41, F41, F41, F41, F41, F41, F42, F41, F41, F41, F41, F41, F42, F41, F41, F41, F42, F42, F41, F41, F41, F41, F42, F41, F42, F41, F42, F41, F41, F41, F41, F41, F41, F41, F41, F41, F41, F41, F41, F42, F41, F42, F41, F41, F42, F42, F42, F41, F41, F41, F41, F41, F41, F41, F42, F41, F41, F42, F41, F41, F41, F42, F41, F42, F42, F41, F41, F41, F41, F41, F41, F42, F41, F41, F42, F41, F41, F41, F41, F42, F41, F41, F41, F41, F41, F41, F41, F41, F41, F41, F41, F42, F41, F41, F41, F42, F41, F41, F41, F41, F41, F41, F41, F41, F41, F42, F41, F41, F41, F41, F41, F41, F41, F41, F42, F41, F41, F41, F41, F41, F41, F41, F41, F42, F42, F41, F41, F41, F41, F41, F41, F41, F42, F41, F41, F41, F41, F42, F41, F41, F41, F41, F41, F41, F42, F41, F42, F42, F41, F41, F41, F41, F41, F41, F42, F41, F42, F41, F42, F42, F42, F41, F42, F41, F41, F41, F41, F41, F41, F42, F42, F42, F41, F41, F41, F41, F42, F41, F42, F42, F42, F41, F41, F41, F42, F41, F41, F41, F41, F41, F42, F41, F41, F41, F42, F41, F41, F41, F41, F41, F42, F41, F41, F41, F41, F42, F41, F41, F41, F41, F41, F41, F42, F41, F42, F41, F41, F41, F42, F41, F41, F41, F41, F41, F42, F41, F41, F42, F41, F41, F42, F41, F41, F41, F41, F41, F42, F42, F41, F42, F41, F42, F42, F42, F42, F41, F41, F41, F41, F42, F41, F41, F41, F41, F41, F42, F42, F41, F42, F42, F41, F41, F42, F41, F42, F41, F42, F41, F41, F41, F41, F42, F41, F41, F41, F41, F41, F42, F41, F42, F41, F41, F41, F41, F41, F41, F42, F41, F41, F42, F41, F41, F42, F42, F41, F42, F41, F41, F41, F41, F41, F41, F42, F42, F42, F41, F42, F41, F41, F42, F41, F41, F41, F42, F41, F41, F42, F41, F41, F41, F41, F41, F41, F41, F41, F41, F41, F42, F41, F41, F41, F41, F41, F41, F41, F41, F41, F41, F42, F42, F41, F42, F41, F42, F42, F41, F42, F42, F41, F41, F41, F42, F41, F41, F42, F41, F41, F42, F42, F42, F41, F41, F42, F41, F41, F41, F41, F41, F42, F41, F42, F41, F41, F41, F42, F42, F41, F41, F42, F42, F41, F41, F41, F42, F41, F41, F41, F42, F41, F41, F41, F41, F41, F41, F41, F41, F42, F41, F42, F41, F42, F41, F41, F41, F41, F42, F41, F41, F42, F41, F41, F41, F41, F41, F41, F41, F42, F41, F42, F41, F41, F41, F41, F41, F41, F41, F41, F42, F41, F41, F41, F41, F41, F41, F42, F41, F41, F42, F42, F41, F41, F42, F42, F41, F41, F41, F41, F42, F41, F42, F41, F42, F41, F41, F41, F41, F41, F41, F42, F41, F42, F41, F41, F41, F41, F41, F41, F41, F41, F41, F41, F42, F41, F41, F41, F42, F41, F41, F41, F42, F41, F41, F41, F41, F41, F41, F41, F41, F41, F42, F42, F41, F41, F41, F41, F41, F42, F42, F42, F42, F41, F41, F41, F41, F41, F42, F42, F41, F42, F41, F41, F41, F41, F41, F41, F41, F41, F41, F41, F41, F41, F41, F41, F41, F41, F41, F41, F41, F41, F42, F41, F42, F41, F41, F42, F41, F42, F41, F41, F41, F42, F41, F41, F41, F41, F41, F42, F41, F41, F41, F42, F41, F41, F41, F41, F42, F41, F41, F42, F41, F41, F42, F41, F42, F41, F41, F41, F41, F41, F41, F42, F41, F42, F41, F41, F41, F41, F42, F42, F41, F41, F41, F41, F42, F41, F41, F41, F42, F41, F42, F41, F41, F41, F41, F42, F41, F41, F41, F41, F41, F41, F41, F41, F41, F41, F41, F41, F42, F41, F41, F41, F42, F41, F41, F41, F41, F42, F41, F42, F41, F41, F41, F41, F42, F41, F41, F42, F42, F41, F41, F41, F41, F41, F41, F41, F41, F41, F41, F41, F41, F41, F41, F41, F41, F42, F41, F41, F41, F42, F41, F41, F41, F42, F41, F41, F41, F41, F42, F42, F41, F41, F41, F42, F41, F42, F42, F42, F41, F41, F42, F41, F42, F41, F42, F42, F41, F41, F41, F42, F41, F41, F41, F41, F42, F42, F41, F41, F41, F42, F42, F42, F41, F41, F41, F42, F42, F41, F41, F41, F41, F42, F42, F41, F42, F41, F41, F41, F41, F41, F41, F41, F41, F42, F41, F41, F41, F41, F41, F41, F41, F41, F41, F41, F41, F41, F42, F41, F41, F41, F41, F42, F41, F41, F41, F41, F41, F42, F41, F41, F41, F41, F42, F41, F42, F41, F42, F42, F41, F41, F42, F42, F41, F42, F42, F42, F42, F42, F41, F42, F41, F42, F41, F42, F42, F42, F41, F41, F42, F41, F42, F42, F41, F41, F41, F42, F41, F41, F41, F42, F41, F41, F41, F41, F41, F42, F41, F42, F42, F42, F42, F41, F41, F41, F41, F41, F42, F41, F41, F41, F42, F41, F42, F41, F41, F41, F41, F41, F41, F41, F41, F41, F41, F41, F42, F42, F41, F41, F41, F41, F42, F42, F41, F41, F42, F42, F42, F42, F41, F41, F41, F41, F42, F41, F42, F41, F41, F41, F42, F42, F41, F41, F41, F42, F42, F41, F42, F41, F41, F41, F42, F41, F41, F41, "
     ]
    },
    {
     "ename": "TypeError",
     "evalue": "argument of type 'float' is not iterable",
     "output_type": "error",
     "traceback": [
      "\u001b[0;31m---------------------------------------------------------------------------\u001b[0m",
      "\u001b[0;31mTypeError\u001b[0m                                 Traceback (most recent call last)",
      "Cell \u001b[0;32mIn[7], line 2\u001b[0m\n\u001b[1;32m      1\u001b[0m \u001b[38;5;28;01mfor\u001b[39;00m i \u001b[38;5;129;01min\u001b[39;00m df[\u001b[38;5;124m'\u001b[39m\u001b[38;5;124m업종(중분류)\u001b[39m\u001b[38;5;124m'\u001b[39m]:\n\u001b[0;32m----> 2\u001b[0m     \u001b[38;5;28;01mif\u001b[39;00m \u001b[38;5;124m'\u001b[39m\u001b[38;5;124mF\u001b[39m\u001b[38;5;124m'\u001b[39m \u001b[38;5;129;01min\u001b[39;00m i:\n\u001b[1;32m      3\u001b[0m         \u001b[38;5;28mprint\u001b[39m(i, end\u001b[38;5;241m=\u001b[39m\u001b[38;5;124m'\u001b[39m\u001b[38;5;124m, \u001b[39m\u001b[38;5;124m'\u001b[39m)\n",
      "\u001b[0;31mTypeError\u001b[0m: argument of type 'float' is not iterable"
     ]
    }
   ],
   "source": []
  },
  {
   "cell_type": "code",
   "execution_count": null,
   "id": "8484e428",
   "metadata": {},
   "outputs": [],
   "source": []
  }
 ],
 "metadata": {
  "kernelspec": {
   "display_name": "base",
   "language": "python",
   "name": "python3"
  },
  "language_info": {
   "codemirror_mode": {
    "name": "ipython",
    "version": 3
   },
   "file_extension": ".py",
   "mimetype": "text/x-python",
   "name": "python",
   "nbconvert_exporter": "python",
   "pygments_lexer": "ipython3",
   "version": "3.12.2"
  }
 },
 "nbformat": 4,
 "nbformat_minor": 5
}
