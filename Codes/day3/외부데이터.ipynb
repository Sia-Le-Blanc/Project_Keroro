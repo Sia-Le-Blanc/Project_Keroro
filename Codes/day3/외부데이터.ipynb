{
 "cells": [
  {
   "cell_type": "code",
   "execution_count": null,
   "id": "405a7dbc",
   "metadata": {},
   "outputs": [],
   "source": [
    "import numpy as np\n",
    "import pandas as pd\n",
    "import matplotlib.pyplot as plt\n",
    "import os\n",
    "import sys\n",
    "plt.rcParams['font.family'] = 'AppleGothic'\n",
    "sys.path.append(os.path.abspath(\"../../\"))\n",
    "df = pd.read_csv('../../117.금융 합성데이터/3.개방데이터/1.데이터/1. 합성데이터/10.기업 CB정보/202108_기업CB.csv')"
   ]
  },
  {
   "cell_type": "code",
   "execution_count": null,
   "id": "8a851b04",
   "metadata": {},
   "outputs": [],
   "source": []
  }
 ],
 "metadata": {
  "kernelspec": {
   "display_name": "base",
   "language": "python",
   "name": "python3"
  },
  "language_info": {
   "name": "python",
   "version": "3.12.2"
  }
 },
 "nbformat": 4,
 "nbformat_minor": 5
}
